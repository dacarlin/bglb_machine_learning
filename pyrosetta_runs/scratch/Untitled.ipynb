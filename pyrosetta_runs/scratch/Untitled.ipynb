{
 "cells": [
  {
   "cell_type": "code",
   "execution_count": 1,
   "metadata": {
    "collapsed": true
   },
   "outputs": [],
   "source": [
    "import pyrosetta \n",
    "import rosetta \n",
    "from sys import argv\n",
    "import os "
   ]
  },
  {
   "cell_type": "code",
   "execution_count": 2,
   "metadata": {
    "collapsed": false
   },
   "outputs": [
    {
     "name": "stdout",
     "output_type": "stream",
     "text": [
      "E406V\n",
      "Found rosetta database at: /usr/local/bin/anaconda3/lib/python3.5/site-packages/pyrosetta-4.0-py3.5.egg/database; using it....\n",
      "PyRosetta-4 2016 [Rosetta 2016 unknown:7862c3a14bb5e8d6b2a4c3e0a497795bc06e9e4b 2016-12-13 14:39:52 -0500] retrieved from: git@github.com:RosettaCommons/main.git\n",
      "(C) Copyright Rosetta Commons Member Institutions.\n",
      "Created in JHU by Sergey Lyskov and PyRosetta Team.\n",
      "\n"
     ]
    }
   ],
   "source": [
    "with open( '../../mutant_list.txt' ) as fn:\n",
    "    mutant_list = fn.read().split()\n",
    "\n",
    "os.environ[ 'SLURM_ARRAY_TASK_ID' ] = '39' # this is for development only \n",
    "mutant_name = mutant_list[ int( os.environ[ 'SLURM_ARRAY_TASK_ID' ] ) ] \n",
    "\n",
    "print( mutant_name ) \n",
    "\n",
    "fmt = dict( zip( 'ANDRCQEGHILKMPFSTWYV', [\n",
    "    'ALA','ASN','ASP','ARG','CYS','GLN','GLU',\n",
    "    'GLY','HIS','ILE','LEU','LYS','MET','PRO','PHE','SER',\n",
    "    'THR','TRP','TYR','VAL' ] ) ) \n",
    "\n",
    "with open( 'input_files/flags' ) as fn:\n",
    "    flags = fn.read().replace( '\\n', ' ' )\n",
    "\n",
    "# init PyRosetta \n",
    "pyrosetta.init( ''.join( flags ) ) \n",
    "\n",
    "ligand_params = pyrosetta.Vector1( [ 'input_files/pNPG.params' ] )\n",
    "new_res_set = pyrosetta.generate_nonstandard_residue_set( ligand_params )\n",
    "\n",
    "p = pyrosetta.Pose()\n",
    "pyrosetta.pose_from_file( p, new_res_set, 'input_files/bglb.pdb' ) \n",
    "scorefxn = pyrosetta.create_score_function( 'beta_cst' ) \n",
    "\n",
    "add_cst = rosetta.protocols.enzdes.AddOrRemoveMatchCsts()\n",
    "add_cst.cstfile( 'input_files/pNPG.enzdes.cst' ) \n",
    "add_cst.set_cst_action( rosetta.protocols.enzdes.CstAction.ADD_NEW )\n",
    "add_cst.apply( p ) \n",
    "\n",
    "target = int( mutant_name[ 1:-1 ] )\n",
    "new_res = fmt[ mutant_name[ -1 ] ] \n",
    "mut = rosetta.protocols.simple_moves.MutateResidue( target, new_res )\n",
    "mut.apply( p ) "
   ]
  },
  {
   "cell_type": "code",
   "execution_count": 3,
   "metadata": {
    "collapsed": false
   },
   "outputs": [
    {
     "data": {
      "text/plain": [
       "False"
      ]
     },
     "execution_count": 3,
     "metadata": {},
     "output_type": "execute_result"
    }
   ],
   "source": [
    "# set up packing task \n",
    "tf = rosetta.core.pack.task.TaskFactory()\n",
    "around = rosetta.protocols.toolbox.task_operations.DesignAroundOperation()\n",
    "around.include_residue( 446 ) #ligand \n",
    "around.include_residue( target ) \n",
    "around.repack_shell( 24 ) # let's grid search this  \n",
    "around.resnums_allow_design( False )\n",
    "tf.push_back( around ) \n",
    "pt = tf.create_task_and_apply_taskoperations(p)\n",
    "\n",
    "# repack and minimize \n",
    "repack = rosetta.protocols.enzdes.EnzRepackMinimize()\n",
    "repack.set_scorefxn_repack( scorefxn )\n",
    "repack.set_scorefxn_minimize( scorefxn )\n",
    "repack.set_min_bb( True )\n",
    "repack.set_min_lig( True )  \n",
    "repack.set_min_rb( True ) \n",
    "repack.set_min_sc( True )\n",
    "repack.task_factory( tf ) # adds packer task \n",
    "\n",
    "# monte carlo \n",
    "parsed = rosetta.protocols.simple_moves.GenericMonteCarloMover()\n",
    "parsed.set_mover( repack )\n",
    "parsed.set_maxtrials( 10 )\n",
    "parsed.set_scorefxn( scorefxn )\n",
    "parsed.apply( p ) "
   ]
  },
  {
   "cell_type": "code",
   "execution_count": 6,
   "metadata": {
    "collapsed": false
   },
   "outputs": [
    {
     "data": {
      "text/plain": [
       "True"
      ]
     },
     "execution_count": 6,
     "metadata": {},
     "output_type": "execute_result"
    }
   ],
   "source": [
    "p.dump_pdb( 'output_files/{}.pdb'.format( mutant_name) ) "
   ]
  },
  {
   "cell_type": "code",
   "execution_count": null,
   "metadata": {
    "collapsed": true
   },
   "outputs": [],
   "source": []
  }
 ],
 "metadata": {
  "anaconda-cloud": {},
  "kernelspec": {
   "display_name": "Python [conda root]",
   "language": "python",
   "name": "conda-root-py"
  },
  "language_info": {
   "codemirror_mode": {
    "name": "ipython",
    "version": 3
   },
   "file_extension": ".py",
   "mimetype": "text/x-python",
   "name": "python",
   "nbconvert_exporter": "python",
   "pygments_lexer": "ipython3",
   "version": "3.5.2"
  }
 },
 "nbformat": 4,
 "nbformat_minor": 1
}
