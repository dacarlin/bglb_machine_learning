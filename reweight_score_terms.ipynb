{
 "cells": [
  {
   "cell_type": "code",
   "execution_count": 330,
   "metadata": {
    "collapsed": true
   },
   "outputs": [],
   "source": [
    "# Let's try to re-weight beta_cst to give us better performance on a benchmark, any benchmark\n",
    "# for now, we appoximate good protocol with repack single residue only "
   ]
  },
  {
   "cell_type": "code",
   "execution_count": 347,
   "metadata": {
    "collapsed": true
   },
   "outputs": [],
   "source": [
    "import pyrosetta \n",
    "import rosetta \n",
    "import pandas \n",
    "import numpy as np \n",
    "\n",
    "from sklearn.linear_model import SGDRegressor\n",
    "from sklearn import linear_model, cross_validation, metrics"
   ]
  },
  {
   "cell_type": "code",
   "execution_count": 332,
   "metadata": {
    "collapsed": false
   },
   "outputs": [
    {
     "name": "stdout",
     "output_type": "stream",
     "text": [
      "Found rosetta database at: /usr/local/bin/anaconda3/lib/python3.5/site-packages/pyrosetta-4.0-py3.5.egg/database; using it....\n",
      "PyRosetta-4 2016 [Rosetta 2016 unknown:7862c3a14bb5e8d6b2a4c3e0a497795bc06e9e4b 2016-12-13 14:39:52 -0500] retrieved from: git@github.com:RosettaCommons/main.git\n",
      "(C) Copyright Rosetta Commons Member Institutions.\n",
      "Created in JHU by Sergey Lyskov and PyRosetta Team.\n",
      "\n"
     ]
    }
   ],
   "source": [
    "pyrosetta.init( '-beta -extra_res_fa reference_files/pNPG.params' )"
   ]
  },
  {
   "cell_type": "code",
   "execution_count": 333,
   "metadata": {
    "collapsed": false
   },
   "outputs": [
    {
     "data": {
      "text/plain": [
       "1.0"
      ]
     },
     "execution_count": 333,
     "metadata": {},
     "output_type": "execute_result"
    }
   ],
   "source": [
    "fa_elec = rosetta.core.scoring.score_type_from_name( 'fa_elec' ) \n",
    "s.get_weight( fa_elec ) "
   ]
  },
  {
   "cell_type": "code",
   "execution_count": 334,
   "metadata": {
    "collapsed": false,
    "scrolled": false
   },
   "outputs": [],
   "source": [
    "s = pyrosetta.create_score_function( 'beta_cst' )\n",
    "s.set_weight( fa_sol, 7 ) "
   ]
  },
  {
   "cell_type": "code",
   "execution_count": 335,
   "metadata": {
    "collapsed": true
   },
   "outputs": [],
   "source": [
    "fmt = dict( zip( 'ANDRCQEGHILKMPFSTWYV', [\n",
    "    'ALA','ASN','ASP','ARG','CYS','GLN','GLU',\n",
    "    'GLY','HIS','ILE','LEU','LYS','MET','PRO','PHE','SER',\n",
    "    'THR','TRP','TYR','VAL' ] ) )"
   ]
  },
  {
   "cell_type": "code",
   "execution_count": 336,
   "metadata": {
    "collapsed": false
   },
   "outputs": [],
   "source": [
    "score_types = s.get_nonzero_weighted_scoretypes()"
   ]
  },
  {
   "cell_type": "code",
   "execution_count": 337,
   "metadata": {
    "collapsed": false
   },
   "outputs": [
    {
     "data": {
      "text/plain": [
       "vector1_core_scoring_ScoreType[fa_atr, fa_rep, fa_sol, fa_intra_atr_xover4, fa_intra_rep_xover4, fa_intra_sol_xover4, lk_ball, lk_ball_iso, lk_ball_bridge, lk_ball_bridge_uncpl, fa_elec, fa_intra_elec, pro_close, hbond_sr_bb, hbond_lr_bb, hbond_bb_sc, hbond_sc, dslf_fa13, atom_pair_constraint, coordinate_constraint, angle_constraint, dihedral_constraint, omega, fa_dun_dev, fa_dun_rot, fa_dun_semi, p_aa_pp, hxl_tors, ref, chainbreak, rama_prepro, res_type_constraint]"
      ]
     },
     "execution_count": 337,
     "metadata": {},
     "output_type": "execute_result"
    }
   ],
   "source": [
    "score_types"
   ]
  },
  {
   "cell_type": "code",
   "execution_count": 339,
   "metadata": {
    "collapsed": false,
    "scrolled": false
   },
   "outputs": [],
   "source": [
    "def generate_features( param_vector ):\n",
    "    \n",
    "    p = pyrosetta.pose_from_file( 'reference_files/bglb.pdb' ) \n",
    "    s = pyrosetta.create_score_function( 'beta_cst' ) \n",
    "    \n",
    "    # update values using values from params_vector  \n",
    "    fa_sol = rosetta.core.scoring.score_type_from_name( 'fa_sol' ) \n",
    "    fa_elec = rosetta.core.scoring.score_type_from_name( 'fa_elec' ) \n",
    "    atom_pair_constraint = rosetta.core.scoring.score_type_from_name( 'atom_pair_constraint' ) \n",
    "    s.set_weight( fa_sol, param_vector[ 0 ] ) \n",
    "    s.set_weight( fa_elec, param_vector[ 1 ] ) \n",
    "    s.set_weight( atom_pair_constraint, param_vector[ 2 ] ) \n",
    "    \n",
    "    # capture initial pose params \n",
    "    orig_score = s( p ) \n",
    "\n",
    "    # run through all mutants for which we have data to save processing time \n",
    "    with open( 'reference_files/mutant_list.txt' ) as fn:\n",
    "        mutant_list = fn.read().split()\n",
    "        \n",
    "    mutant_features = []\n",
    "    for mutant in mutant_list:\n",
    "        \n",
    "        # create and sample the mutant \n",
    "        my_pose = p.clone()\n",
    "        mutate = rosetta.protocols.simple_moves.MutateResidue( int(mutant[1:-1]), fmt[ mutant[ -1 ] ] ) \n",
    "        mutate.apply( my_pose )\n",
    "        # sampling? \n",
    "        \n",
    "        # calculate features \n",
    "        my_features = []\n",
    "        my_features.append( s( my_pose ) ) # total_score \n",
    "        \n",
    "        # return package \n",
    "        mutant_features.append( [mutant] + my_features )         \n",
    "        \n",
    "    return mutant_features "
   ]
  },
  {
   "cell_type": "code",
   "execution_count": 340,
   "metadata": {
    "collapsed": false
   },
   "outputs": [],
   "source": [
    "initial_param_vector = ( 1, 1, 1 ) \n",
    "m_feats = generate_features( initial_param_vector )"
   ]
  },
  {
   "cell_type": "code",
   "execution_count": 341,
   "metadata": {
    "collapsed": false
   },
   "outputs": [],
   "source": [
    "def score_function( mutant_features_list ): \n",
    "    target_name = 'target_tm' \n",
    "    targets = pandas.read_csv( '/Users/alex/Documents/bagel-thermal/data_set/targets.csv', index_col=0 )[[target_name]] \n",
    "    df = pandas.DataFrame( mutant_features_list )\n",
    "    df.set_index( 0, inplace=True ) \n",
    "    J = targets.join( df ) \n",
    "    return J.corr()[ target_name ].drop( target_name ).values[0]"
   ]
  },
  {
   "cell_type": "code",
   "execution_count": 342,
   "metadata": {
    "collapsed": false
   },
   "outputs": [],
   "source": [
    "def ml_score_function( mutant_features_list ): \n",
    "    target_name = 'target_tm' \n",
    "    targets = pandas.read_csv( '/Users/alex/Documents/bagel-thermal/data_set/targets.csv', index_col=0 )[[target_name]] \n",
    "    df = pandas.DataFrame( mutant_features_list )\n",
    "    df.set_index( 0, inplace=True ) \n",
    "    J = targets.join( df ).dropna() \n",
    "    y = J.ix[:, 0].ravel()\n",
    "    X = J.ix[:, 1:]\n",
    "    clf = linear_model.SGDRegressor()\n",
    "    mean_score = cross_validation.cross_val_score( clf, X, y ).mean()\n",
    "    return mean_score "
   ]
  },
  {
   "cell_type": "code",
   "execution_count": null,
   "metadata": {
    "collapsed": true
   },
   "outputs": [],
   "source": [
    "#Score function (or loss function) with signature score_func(y, y_pred, **kwargs)\n",
    "def score_func( y, y_pred, **kwargs ):\n",
    "    \n",
    "    return score \n",
    "    \n",
    "scorer = metrics.make_scorer( score_func, greater_is_better=True, needs_proba=False, needs_threshold=False )"
   ]
  },
  {
   "cell_type": "code",
   "execution_count": 343,
   "metadata": {
    "collapsed": false
   },
   "outputs": [],
   "source": [
    "score = ml_score_function( m_feats )"
   ]
  },
  {
   "cell_type": "code",
   "execution_count": 344,
   "metadata": {
    "collapsed": false
   },
   "outputs": [
    {
     "data": {
      "text/plain": [
       "-5.3039238421345818e+28"
      ]
     },
     "execution_count": 344,
     "metadata": {},
     "output_type": "execute_result"
    }
   ],
   "source": [
    "score"
   ]
  },
  {
   "cell_type": "code",
   "execution_count": 345,
   "metadata": {
    "collapsed": true
   },
   "outputs": [],
   "source": [
    "# now, implement the Monte Carlo search for \"good params\", or params that minimize the score function "
   ]
  },
  {
   "cell_type": "code",
   "execution_count": 346,
   "metadata": {
    "collapsed": false
   },
   "outputs": [
    {
     "name": "stdout",
     "output_type": "stream",
     "text": [
      "trial: 0\n",
      "score: -9.856978179347566e+29\n",
      "params: [1 1 1]\n",
      "Monte Carlo: accept\n",
      "trial: 1\n",
      "score: -1.5032375971598514e+30\n",
      "params: [ 1.15320257 -0.06085274  1.01684054]\n",
      "Monte Carlo: accept\n",
      "trial: 2\n",
      "score: -1.2322171982871256e+32\n",
      "params: [ 2.52095711 -0.23910619  1.19759233]\n",
      "Monte Carlo: accept\n",
      "trial: 3\n",
      "score: -3.7094430689191845e+30\n",
      "params: [ 2.09858477 -0.53420776  0.98095366]\n",
      "Monte Carlo: reject\n",
      "trial: 4\n",
      "score: -2.1874411513558305e+31\n",
      "params: [ 0.96708889 -0.79622965  0.63706753]\n",
      "Monte Carlo: reject\n",
      "trial: 5\n",
      "score: -1.324252042798274e+30\n",
      "params: [ 0.77927606  0.12237184  1.63228932]\n",
      "Monte Carlo: reject\n",
      "trial: 6\n",
      "score: -4.667372629765229e+31\n",
      "params: [ 3.33512766  0.88159889  0.53311386]\n",
      "Monte Carlo: reject\n",
      "trial: 7\n",
      "score: -7.1984900164010775e+31\n",
      "params: [ 2.82670176 -0.4283028   0.16218927]\n",
      "Monte Carlo: reject\n",
      "trial: 8\n",
      "score: -3.3073068865058767e+30\n",
      "params: [ 1.09008247 -0.16093653  1.39063741]\n",
      "Monte Carlo: reject\n",
      "trial: 9\n",
      "score: -2.493638008452948e+31\n",
      "params: [ 1.91113292 -2.39977756  1.72689696]\n",
      "Monte Carlo: reject\n"
     ]
    },
    {
     "data": {
      "text/plain": [
       "(-1.2322171982871256e+32, array([ 2.52095711, -0.23910619,  1.19759233]))"
      ]
     },
     "execution_count": 346,
     "metadata": {},
     "output_type": "execute_result"
    }
   ],
   "source": [
    "def search_for_params( initial_param_vector ):\n",
    "    \n",
    "    low_score = 1e9 # a billion! \n",
    "    trials = 10 \n",
    "    param_vector = np.array(initial_param_vector)\n",
    "    trial_params = param_vector\n",
    "    \n",
    "    for i in range( trials ): \n",
    "        \n",
    "        # generate features and score\n",
    "        m_feats = generate_features( trial_params )\n",
    "        score = ml_score_function( m_feats )\n",
    "        print( 'trial: {}\\nscore: {}\\nparams: {}'.format( i, score, trial_params ) ) \n",
    "        \n",
    "        # no temperature here yet, just finds low score \n",
    "        if score < low_score: \n",
    "            print( 'Monte Carlo: accept' ) \n",
    "            low_score = score \n",
    "            param_vector = trial_params \n",
    "        else:\n",
    "            print( 'Monte Carlo: reject' ) \n",
    "\n",
    "        # now randomly preturb the params? \n",
    "        preturb_vec = np.random.normal( loc=0.0, scale=1.0, size=len(param_vector) )\n",
    "        trial_params = param_vector + preturb_vec        \n",
    "            \n",
    "    # at end of simulation, produce results \n",
    "    result = low_score, param_vector \n",
    "    return result\n",
    "\n",
    "result = search_for_params( (1,1,1) )\n",
    "result "
   ]
  },
  {
   "cell_type": "code",
   "execution_count": null,
   "metadata": {
    "collapsed": true
   },
   "outputs": [],
   "source": []
  },
  {
   "cell_type": "code",
   "execution_count": null,
   "metadata": {
    "collapsed": true
   },
   "outputs": [],
   "source": []
  },
  {
   "cell_type": "code",
   "execution_count": null,
   "metadata": {
    "collapsed": true
   },
   "outputs": [],
   "source": []
  }
 ],
 "metadata": {
  "anaconda-cloud": {},
  "kernelspec": {
   "display_name": "Python [conda root]",
   "language": "python",
   "name": "conda-root-py"
  },
  "language_info": {
   "codemirror_mode": {
    "name": "ipython",
    "version": 3
   },
   "file_extension": ".py",
   "mimetype": "text/x-python",
   "name": "python",
   "nbconvert_exporter": "python",
   "pygments_lexer": "ipython3",
   "version": "3.5.2"
  }
 },
 "nbformat": 4,
 "nbformat_minor": 1
}
