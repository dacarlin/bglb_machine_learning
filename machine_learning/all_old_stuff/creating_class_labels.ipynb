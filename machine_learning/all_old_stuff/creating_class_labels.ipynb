{
 "cells": [
  {
   "cell_type": "code",
   "execution_count": 36,
   "metadata": {
    "collapsed": true
   },
   "outputs": [],
   "source": [
    "%matplotlib inline\n",
    "import pandas\n",
    "import matplotlib.pyplot as plt "
   ]
  },
  {
   "cell_type": "markdown",
   "metadata": {},
   "source": [
    "Here, we will look at various ways to classify the proteins in our data set."
   ]
  },
  {
   "cell_type": "code",
   "execution_count": 37,
   "metadata": {
    "collapsed": false
   },
   "outputs": [],
   "source": [
    "df = pandas.read_csv( '../data_sets/experimental/thermo_paper_data_set.csv', index_col=0 )"
   ]
  },
  {
   "cell_type": "markdown",
   "metadata": {},
   "source": [
    "The most obvious is by expression. "
   ]
  },
  {
   "cell_type": "code",
   "execution_count": 38,
   "metadata": {
    "collapsed": false
   },
   "outputs": [
    {
     "data": {
      "text/plain": [
       "1    92\n",
       "0    37\n",
       "Name: expression, dtype: int64"
      ]
     },
     "execution_count": 38,
     "metadata": {},
     "output_type": "execute_result"
    }
   ],
   "source": [
    "df.expression.value_counts()"
   ]
  },
  {
   "cell_type": "markdown",
   "metadata": {},
   "source": [
    "What are some other ways to split up the proteins into two classes? \n",
    "\n",
    "### Bad mutations versus neutral and good mutations\n",
    "\n",
    "The first class contains proteins that do not expresss and proteins that have a Tm of less than 39 C. The second class is all the rest of the proteins. "
   ]
  },
  {
   "cell_type": "code",
   "execution_count": 39,
   "metadata": {
    "collapsed": false
   },
   "outputs": [
    {
     "data": {
      "text/plain": [
       "1    66\n",
       "0    63\n",
       "Name: my_clf, dtype: int64"
      ]
     },
     "execution_count": 39,
     "metadata": {},
     "output_type": "execute_result"
    }
   ],
   "source": [
    "my_clf = []\n",
    "\n",
    "for idx, row in df.iterrows():\n",
    "    if row.expression == 0 or row.tm < 39.2:\n",
    "        my_clf.append( 0 ) \n",
    "    else:\n",
    "        my_clf.append( 1 ) \n",
    "        \n",
    "df[ 'my_clf' ] = my_clf \n",
    "df.my_clf.value_counts()"
   ]
  },
  {
   "cell_type": "code",
   "execution_count": 40,
   "metadata": {
    "collapsed": false
   },
   "outputs": [],
   "source": [
    "f = pandas.read_csv( 'feature_sets/expression_combined.csv', index_col=0 ).drop( 'expression', axis=1 ) \n",
    "\n",
    "software = []\n",
    "\n",
    "for col in f.columns:\n",
    "    if '_enzyme_design' in col:\n",
    "        software.append( 'enzyme_design' ) \n",
    "    elif '_foldx' in col:\n",
    "        software.append( 'foldx' )\n",
    "    elif '_ddg' in col:\n",
    "        software.append( 'ddg' ) "
   ]
  },
  {
   "cell_type": "code",
   "execution_count": 41,
   "metadata": {
    "collapsed": false
   },
   "outputs": [
    {
     "data": {
      "text/plain": [
       "(126, 77)"
      ]
     },
     "execution_count": 41,
     "metadata": {},
     "output_type": "execute_result"
    }
   ],
   "source": [
    "J = df[ [ 'my_clf' ] ].join( f ).dropna()\n",
    "J.shape"
   ]
  },
  {
   "cell_type": "code",
   "execution_count": 42,
   "metadata": {
    "collapsed": false,
    "scrolled": false
   },
   "outputs": [],
   "source": [
    "from sklearn.preprocessing import MinMaxScaler, StandardScaler\n",
    "from sklearn.cross_validation import StratifiedKFold, cross_val_predict\n",
    "from sklearn.svm import SVC \n",
    "from sklearn.grid_search import GridSearchCV\n",
    "from sklearn.metrics import matthews_corrcoef, make_scorer, classification_report, roc_curve\n",
    "from sklearn.feature_selection import SelectKBest\n",
    "from sklearn.pipeline import Pipeline"
   ]
  },
  {
   "cell_type": "code",
   "execution_count": 43,
   "metadata": {
    "collapsed": true
   },
   "outputs": [],
   "source": [
    "scl = StandardScaler()\n",
    "matt_score = make_scorer( matthews_corrcoef ) "
   ]
  },
  {
   "cell_type": "code",
   "execution_count": 44,
   "metadata": {
    "collapsed": false
   },
   "outputs": [
    {
     "name": "stdout",
     "output_type": "stream",
     "text": [
      "(126, 76)\n",
      "(126,)\n"
     ]
    }
   ],
   "source": [
    "X = scl.fit_transform( J.ix[ : , 1: ] )\n",
    "y = J.ix[ : , 0 ].as_matrix().ravel()\n",
    "\n",
    "print X.shape\n",
    "print y.shape "
   ]
  },
  {
   "cell_type": "markdown",
   "metadata": {},
   "source": [
    "Now we're attacking a problem with balanced classes."
   ]
  },
  {
   "cell_type": "code",
   "execution_count": 45,
   "metadata": {
    "collapsed": true
   },
   "outputs": [],
   "source": [
    "roc_curve?"
   ]
  },
  {
   "cell_type": "code",
   "execution_count": 46,
   "metadata": {
    "collapsed": true
   },
   "outputs": [],
   "source": [
    "param_grid = [\n",
    "    { \n",
    "        'svm__kernel': [ 'linear', 'rbf', 'poly' ], \n",
    "        'svm__C': [ 3e-2, 3e-1, 3, 3e1 ], \n",
    "        'kbest__k': [ 2, 10, 50 ], \n",
    "    }\n",
    "]"
   ]
  },
  {
   "cell_type": "code",
   "execution_count": 47,
   "metadata": {
    "collapsed": false
   },
   "outputs": [
    {
     "name": "stderr",
     "output_type": "stream",
     "text": [
      "/usr/local/bin/anaconda/lib/python2.7/site-packages/sklearn/feature_selection/univariate_selection.py:113: UserWarning: Features [22] are constant.\n",
      "  UserWarning)\n",
      "/usr/local/bin/anaconda/lib/python2.7/site-packages/sklearn/feature_selection/univariate_selection.py:113: UserWarning: Features [22 56] are constant.\n",
      "  UserWarning)\n"
     ]
    },
    {
     "data": {
      "image/png": "[encoded data removed]",
      "text/plain": [
       "<matplotlib.figure.Figure at 0x115d232d0>"
      ]
     },
     "metadata": {},
     "output_type": "display_data"
    }
   ],
   "source": [
    "plt.figure()\n",
    "skf = StratifiedKFold( y, n_folds=5, shuffle=True ) \n",
    "for train, test in skf:\n",
    "        \n",
    "    pln = Pipeline([('kbest',SelectKBest()), ('svm',SVC(probability=True))])\n",
    "    clf = GridSearchCV( pln, param_grid, scoring=matt_score )\n",
    "    preds = clf.fit( X[ train, : ], y[ train ] ).predict( X[ test, : ] ) \n",
    "    probs = clf.fit( X[ train, : ], y[ train ] ).predict_proba( X[ test, : ] )[ : , 0 ]\n",
    "    tpr, fpr, __ = roc_curve( y[ test ], probs ) \n",
    "    plt.plot( tpr, fpr ) \n",
    "    #print classification_report( y[ test ], preds ) "
   ]
  }
 ],
 "metadata": {
  "kernelspec": {
   "display_name": "Python 2",
   "language": "python",
   "name": "python2"
  },
  "language_info": {
   "codemirror_mode": {
    "name": "ipython",
    "version": 2
   },
   "file_extension": ".py",
   "mimetype": "text/x-python",
   "name": "python",
   "nbconvert_exporter": "python",
   "pygments_lexer": "ipython2",
   "version": "2.7.11"
  }
 },
 "nbformat": 4,
 "nbformat_minor": 0
}
