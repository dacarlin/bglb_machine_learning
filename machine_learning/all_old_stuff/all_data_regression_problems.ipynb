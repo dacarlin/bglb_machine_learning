{
 "cells": [
  {
   "cell_type": "code",
   "execution_count": 1,
   "metadata": {
    "collapsed": true
   },
   "outputs": [],
   "source": [
    "%matplotlib inline\n",
    "\n",
    "import matplotlib.pyplot as plt \n",
    "import pandas \n",
    "import numpy as np \n",
    "from scipy.stats.stats import pearsonr\n",
    "\n",
    "from sklearn.preprocessing import StandardScaler, MinMaxScaler\n",
    "from sklearn.linear_model import ElasticNetCV\n",
    "from sklearn.cross_validation import StratifiedKFold\n",
    "from sklearn.ensemble import BaggingRegressor"
   ]
  },
  {
   "cell_type": "code",
   "execution_count": 2,
   "metadata": {
    "collapsed": false
   },
   "outputs": [],
   "source": [
    "df = pandas.read_csv( '../data_sets/experimental/bglb_all.csv', index_col=0 ) \n",
    "f = pandas.read_csv( '../data_sets/rosetta/enzyme_design_noncovalent_2.csv', index_col=0 )"
   ]
  },
  {
   "cell_type": "code",
   "execution_count": 3,
   "metadata": {
    "collapsed": false
   },
   "outputs": [
    {
     "data": {
      "text/plain": [
       "(116,)"
      ]
     },
     "execution_count": 3,
     "metadata": {},
     "output_type": "execute_result"
    }
   ],
   "source": [
    "df[ 'kcat' ].dropna().shape"
   ]
  },
  {
   "cell_type": "code",
   "execution_count": 4,
   "metadata": {
    "collapsed": false
   },
   "outputs": [],
   "source": [
    "my_f = [ i for i in f.columns if 'cst' not in i and len(i) != 4 and 'desc' not in i ] "
   ]
  },
  {
   "cell_type": "code",
   "execution_count": 5,
   "metadata": {
    "collapsed": false
   },
   "outputs": [
    {
     "name": "stdout",
     "output_type": "stream",
     "text": [
      "(89, 48)\n",
      "(89,)\n"
     ]
    }
   ],
   "source": [
    "my_cst = 'kcat'  # should be a list? \n",
    "data = f.join( df[ [ my_cst ] ] )[ my_f + [my_cst] ]\n",
    "data[ 'name' ] = data.index\n",
    "data = data.groupby( 'name' ).apply( lambda x: x.sort_values( 'total_score' ).head( 1 ) ) \n",
    "\n",
    "data = data.dropna()\n",
    "scl = StandardScaler()\n",
    "X = scl.fit_transform( data[ my_f ] )\n",
    "y = np.log10( data[ 'kcat' ] / 880 ).as_matrix().ravel()\n",
    "\n",
    "print X.shape\n",
    "print y.shape "
   ]
  },
  {
   "cell_type": "code",
   "execution_count": 6,
   "metadata": {
    "collapsed": false
   },
   "outputs": [
    {
     "name": "stderr",
     "output_type": "stream",
     "text": [
      "/usr/local/bin/anaconda/lib/python2.7/site-packages/sklearn/linear_model/coordinate_descent.py:466: ConvergenceWarning: Objective did not converge. You might want to increase the number of iterations\n",
      "  ConvergenceWarning)\n"
     ]
    },
    {
     "data": {
      "text/plain": [
       "<matplotlib.collections.PathCollection at 0x114bd2bd0>"
      ]
     },
     "execution_count": 6,
     "metadata": {},
     "output_type": "execute_result"
    },
    {
     "data": {
      "image/png": "[encoded data removed]",
      "text/plain": [
       "<matplotlib.figure.Figure at 0x101bcf810>"
      ]
     },
     "metadata": {},
     "output_type": "display_data"
    }
   ],
   "source": [
    "EN = ElasticNetCV( l1_ratio=[.2,.5,.9,.95,.99], cv=10, max_iter=1e4 ) \n",
    "EN.fit( X, y ) \n",
    "preds = EN.predict( X ) \n",
    "plt.scatter( y, preds, c='k', lw=0 )"
   ]
  },
  {
   "cell_type": "code",
   "execution_count": 7,
   "metadata": {
    "collapsed": false
   },
   "outputs": [
    {
     "data": {
      "text/plain": [
       "<matplotlib.collections.PathCollection at 0x114e7f650>"
      ]
     },
     "execution_count": 7,
     "metadata": {},
     "output_type": "execute_result"
    },
    {
     "data": {
      "image/png": "[encoded data removed]",
      "text/plain": [
       "<matplotlib.figure.Figure at 0x114a50810>"
      ]
     },
     "metadata": {},
     "output_type": "display_data"
    }
   ],
   "source": [
    "edited_preds = [ (i,j) for (i,j) in zip(preds,y) if i > -1.2 and j < .5 ] \n",
    "plt.scatter( *zip(*edited_preds), c='r', lw=0 )"
   ]
  },
  {
   "cell_type": "code",
   "execution_count": 11,
   "metadata": {
    "collapsed": false
   },
   "outputs": [],
   "source": [
    "l1_ratio = [ .1, .5, .7, .9, .95, .99, 1 ]\n",
    "net = ElasticNetCV( l1_ratio=l1_ratio, cv=10, max_iter=1e3 ) \n",
    "bag = BaggingRegressor( net, n_estimators=30, n_jobs=-1, oob_score=True )\n",
    "bag.fit( X, y )\n",
    "preds = bag.predict( X )"
   ]
  },
  {
   "cell_type": "code",
   "execution_count": 12,
   "metadata": {
    "collapsed": false
   },
   "outputs": [
    {
     "data": {
      "text/plain": [
       "<matplotlib.text.Text at 0x1152cb510>"
      ]
     },
     "execution_count": 12,
     "metadata": {},
     "output_type": "execute_result"
    },
    {
     "data": {
      "image/png": "[encoded data removed]",
      "text/plain": [
       "<matplotlib.figure.Figure at 0x1151b07d0>"
      ]
     },
     "metadata": {},
     "output_type": "display_data"
    }
   ],
   "source": [
    "#plt.subplot( 1, 3, i + 1 ) \n",
    "plt.scatter( preds, y, marker='.', color='k' )\n",
    "plt.xlabel( 'Predicted' ); plt.ylabel( 'Actual' )\n",
    "r = pearsonr( preds, y )[0].round(2)\n",
    "plt.title( '{} pcc={}'.format( 'kcat', r ) ) "
   ]
  },
  {
   "cell_type": "code",
   "execution_count": null,
   "metadata": {
    "collapsed": true
   },
   "outputs": [],
   "source": [
    "constants = [ 'kcat', 'km', 'kcatkm' ]\n",
    "\n",
    "plt.figure( figsize=( 9, 2.5 ) ) \n",
    "\n",
    "for i, constant in enumerate( constants ):\n",
    "    \n",
    "#     J = pandas.read_csv( 'training_sets/{}.csv'.format( constant ), index_col=0 ).as_matrix()  \n",
    "#     X = J[:, :-1]\n",
    "#     y = J[:, -1:].ravel()\n",
    "    \n",
    "#     l1_ratio = [ .1, .5, .7, .9, .95, .99, 1 ]\n",
    "    \n",
    "#     net = ElasticNetCV( l1_ratio=l1_ratio, cv=10, max_iter=-1 ) \n",
    "#     bag = BaggingRegressor( net, n_estimators=30, n_jobs=-1, oob_score=True )\n",
    "#     bag.fit( X, y )\n",
    "#     preds = bag.predict( X )\n",
    "\n",
    "    plt.subplot( 1, 3, i + 1 ) \n",
    "#     plt.scatter( preds, y, marker='.', color='k' )\n",
    "    plt.xlabel( 'Predicted' ); plt.ylabel( 'Actual' )\n",
    "#     r = pearsonr( preds, y )[0].round(2)\n",
    "#     plt.title( '{} pcc={}'.format( constant, r ) ) "
   ]
  }
 ],
 "metadata": {
  "kernelspec": {
   "display_name": "Python 2",
   "language": "python",
   "name": "python2"
  },
  "language_info": {
   "codemirror_mode": {
    "name": "ipython",
    "version": 2
   },
   "file_extension": ".py",
   "mimetype": "text/x-python",
   "name": "python",
   "nbconvert_exporter": "python",
   "pygments_lexer": "ipython2",
   "version": "2.7.11"
  }
 },
 "nbformat": 4,
 "nbformat_minor": 0
}
