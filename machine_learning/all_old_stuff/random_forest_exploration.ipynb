{
 "cells": [
  {
   "cell_type": "code",
   "execution_count": 10,
   "metadata": {
    "collapsed": false
   },
   "outputs": [
    {
     "name": "stdout",
     "output_type": "stream",
     "text": [
      " (126, 76)\n",
      "(126,)\n"
     ]
    }
   ],
   "source": [
    "%matplotlib inline\n",
    "import matplotlib.pyplot as plt \n",
    "import pandas \n",
    "\n",
    "from sklearn.preprocessing import MinMaxScaler\n",
    "from sklearn.metrics import matthews_corrcoef\n",
    "\n",
    "df = pandas.read_csv( 'feature_sets/expression_combined.csv', index_col=0 ) \n",
    "\n",
    "# scale features and separate into predictors\n",
    "\n",
    "scl = MinMaxScaler()\n",
    "X = scl.fit_transform( df.ix[:,:-1] )\n",
    "y = df.ix[:,-1:].as_matrix().ravel()\n",
    "\n",
    "print X.shape\n",
    "print y.shape"
   ]
  },
  {
   "cell_type": "code",
   "execution_count": 14,
   "metadata": {
    "collapsed": true
   },
   "outputs": [],
   "source": [
    "from sklearn.ensemble import RandomForestClassifier\n",
    "from sklearn.cross_validation import cross_val_predict\n",
    "\n",
    "rf = RandomForestClassifier( oob_score=True, n_jobs=-1, class_weight='balanced_subsample' )"
   ]
  },
  {
   "cell_type": "code",
   "execution_count": 22,
   "metadata": {
    "collapsed": true
   },
   "outputs": [],
   "source": [
    "preds = cross_val_predict( rf, X, y, cv=20 ) "
   ]
  },
  {
   "cell_type": "code",
   "execution_count": 23,
   "metadata": {
    "collapsed": false
   },
   "outputs": [
    {
     "name": "stdout",
     "output_type": "stream",
     "text": [
      "percent correctly predicted 0.690476190476\n",
      "matt. corr. 0.300236331247\n",
      "      name  true  pred  correct\n",
      "2    W399S     1     0        0\n",
      "5     S16N     0     1        0\n",
      "7    N293D     1     0        0\n",
      "11   R240D     1     0        0\n",
      "15   H315E     1     0        0\n",
      "19   W399A     0     1        0\n",
      "20   E164G     0     1        0\n",
      "22   E164A     1     0        0\n",
      "23   E164R     1     0        0\n",
      "24   Y295A     1     0        0\n",
      "26   W325R     0     1        0\n",
      "27   E222Y     0     1        0\n",
      "29   P329N     0     1        0\n",
      "34   H119E     0     1        0\n",
      "35   F415A     1     0        0\n",
      "36   H379T     0     1        0\n",
      "38   D403A     0     1        0\n",
      "39   R240E     0     1        0\n",
      "40   M221A     0     1        0\n",
      "43   I244N     0     1        0\n",
      "44   G355A     0     1        0\n",
      "47   H315N     0     1        0\n",
      "48   T296A     0     1        0\n",
      "49   W325G     0     1        0\n",
      "56   Y294L     0     1        0\n",
      "57   W407Y     0     1        0\n",
      "70   E222A     1     0        0\n",
      "84   N354A     1     0        0\n",
      "94   W325C     1     0        0\n",
      "103  E154D     1     0        0\n",
      "109  H379R     1     0        0\n",
      "110   S17E     1     0        0\n",
      "111  W120F     1     0        0\n",
      "114  Q313R     1     0        0\n",
      "116  I244E     1     0        0\n",
      "117  N163D     1     0        0\n",
      "121  N163E     0     1        0\n",
      "122  N293K     0     1        0\n",
      "123  T296E     0     1        0\n"
     ]
    }
   ],
   "source": [
    "my_zip = zip( df.index, y, preds, ) \n",
    "calls = pandas.DataFrame( my_zip, columns=['name', 'true', 'pred'] )\n",
    "calls[ 'correct' ] = ( calls.true == calls.pred ).astype( int ) \n",
    "print 'percent correctly predicted',  calls.correct.sum() / (len( calls ) * 1.)\n",
    "print 'matt. corr.', matthews_corrcoef( calls.true, calls.pred ) \n",
    "print calls[ ( calls.correct == 0 ) ] "
   ]
  },
  {
   "cell_type": "code",
   "execution_count": null,
   "metadata": {
    "collapsed": true
   },
   "outputs": [],
   "source": []
  }
 ],
 "metadata": {
  "kernelspec": {
   "display_name": "Python 2",
   "language": "python",
   "name": "python2"
  },
  "language_info": {
   "codemirror_mode": {
    "name": "ipython",
    "version": 2
   },
   "file_extension": ".py",
   "mimetype": "text/x-python",
   "name": "python",
   "nbconvert_exporter": "python",
   "pygments_lexer": "ipython2",
   "version": "2.7.11"
  }
 },
 "nbformat": 4,
 "nbformat_minor": 0
}
