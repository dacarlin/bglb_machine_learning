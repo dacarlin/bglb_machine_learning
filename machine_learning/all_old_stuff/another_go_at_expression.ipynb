{
 "cells": [
  {
   "cell_type": "code",
   "execution_count": 13,
   "metadata": {
    "collapsed": false
   },
   "outputs": [],
   "source": [
    "%matplotlib inline\n",
    "import matplotlib.pyplot as plt \n",
    "\n",
    "from __future__ import print_function\n",
    "\n",
    "{"
   ]
  },
  {
   "cell_type": "code",
   "execution_count": 21,
   "metadata": {
    "collapsed": false
   },
   "outputs": [],
   "source": [
    "import pandas \n",
    "\n",
    "my_cols = [ str( i ) for i in [ \n",
    "    u'total_score', u'fa_rep', u'hbond_sc', u'tot_pstat_pm', u'tot_nlpstat_pm', u'tot_burunsat_pm', u'tot_hbond_pm', u'tot_NLconts_pm', u'tot_nlsurfaceE_pm', u'tot_total_charge',\n",
    "    u'SR_1_total_score', u'SR_1_fa_rep', u'SR_1_hbond_sc', u'SR_1_hbond_pm', u'SR_1_burunsat_pm', u'SR_1_pstat_pm', u'SR_1_nlpstat_pm', \n",
    "    u'SR_2_total_score', u'SR_2_fa_rep', u'SR_2_hbond_sc', u'SR_2_hbond_pm', u'SR_2_burunsat_pm', u'SR_2_pstat_pm', u'SR_2_nlpstat_pm',\n",
    "    u'SR_3_total_score', u'SR_3_fa_rep', u'SR_3_hbond_sc', u'SR_3_hbond_pm', u'SR_3_burunsat_pm', u'SR_3_pstat_pm', u'SR_3_nlpstat_pm', \n",
    "    u'SR_4_total_score', u'SR_4_fa_rep', u'SR_4_hbond_sc', u'SR_4_hbond_pm', u'SR_4_burunsat_pm', u'SR_4_pstat_pm', u'SR_4_nlpstat_pm',\n",
    "    u'SR_5_total_score', u'SR_5_fa_rep', u'SR_5_hbond_sc', u'SR_5_interf_E_1_2', u'SR_5_dsasa_1_2', u'SR_5_hbond_pm', u'SR_5_burunsat_pm', \n",
    "] ]\n",
    "\n",
    "E = pandas.read_csv( 'data_sets/experimental/expr_144_mutants.csv', index_col='mutant' ) \n",
    "#F = pandas.read_csv( 'data_sets/calculated/enzyme_design_talaris_2014.csv', index_col='name', usecols=my_cols+['name'] ) \n",
    "F = pandas.read_csv( 'data_sets/calculated/enzyme_design_talaris_2014.csv', usecols=my_cols+['name'] ) \n",
    "F = F.groupby( 'name' ).apply( lambda x: x.sort_values( 'total_score' ).head( 10 ) ) \n",
    "F.index = F.name\n",
    "J = E.join( F ).dropna().drop( 'name', axis=1 ) \n",
    "\n",
    "X = J.drop( 'expression', axis=1 )\n",
    "y = J.expression"
   ]
  },
  {
   "cell_type": "code",
   "execution_count": 22,
   "metadata": {
    "collapsed": false
   },
   "outputs": [
    {
     "name": "stdout",
     "output_type": "stream",
     "text": [
      "# Tuning hyper-parameters for precision\n",
      "\n",
      "Best parameters set found on development set:\n",
      "\n",
      "{'kernel': 'rbf', 'C': 1000, 'gamma': 0.001}\n",
      "\n",
      "Grid scores on development set:\n",
      "\n",
      "0.718 (+/-0.046) for {'kernel': 'rbf', 'C': 1, 'gamma': 0.001}\n",
      "0.709 (+/-0.142) for {'kernel': 'rbf', 'C': 1, 'gamma': 0.0001}\n",
      "0.735 (+/-0.033) for {'kernel': 'rbf', 'C': 10, 'gamma': 0.001}\n",
      "0.711 (+/-0.053) for {'kernel': 'rbf', 'C': 10, 'gamma': 0.0001}\n",
      "0.769 (+/-0.052) for {'kernel': 'rbf', 'C': 100, 'gamma': 0.001}\n",
      "0.723 (+/-0.046) for {'kernel': 'rbf', 'C': 100, 'gamma': 0.0001}\n",
      "0.790 (+/-0.057) for {'kernel': 'rbf', 'C': 1000, 'gamma': 0.001}\n",
      "0.755 (+/-0.040) for {'kernel': 'rbf', 'C': 1000, 'gamma': 0.0001}\n",
      "0.731 (+/-0.054) for {'kernel': 'linear', 'C': 1}\n",
      "0.714 (+/-0.060) for {'kernel': 'linear', 'C': 10}\n",
      "0.732 (+/-0.033) for {'kernel': 'linear', 'C': 100}\n",
      "0.717 (+/-0.068) for {'kernel': 'linear', 'C': 1000}\n",
      "\n",
      "Detailed classification report:\n",
      "\n",
      "The model is trained on the full development set.\n",
      "The scores are computed on the full evaluation set.\n",
      "\n",
      "             precision    recall  f1-score   support\n",
      "\n",
      "          0       0.65      0.68      0.66       186\n",
      "          1       0.87      0.86      0.86       479\n",
      "\n",
      "avg / total       0.81      0.81      0.81       665\n",
      "\n"
     ]
    },
    {
     "data": {
      "image/png": "[encoded data removed]",
      "text/plain": [
       "<matplotlib.figure.Figure at 0x114548410>"
      ]
     },
     "metadata": {},
     "output_type": "display_data"
    },
    {
     "name": "stdout",
     "output_type": "stream",
     "text": [
      "\n",
      "# Tuning hyper-parameters for recall\n",
      "\n",
      "Best parameters set found on development set:\n",
      "\n",
      "{'kernel': 'rbf', 'C': 1000, 'gamma': 0.001}\n",
      "\n",
      "Grid scores on development set:\n",
      "\n",
      "0.686 (+/-0.041) for {'kernel': 'rbf', 'C': 1, 'gamma': 0.001}\n",
      "0.726 (+/-0.019) for {'kernel': 'rbf', 'C': 1, 'gamma': 0.0001}\n",
      "0.704 (+/-0.016) for {'kernel': 'rbf', 'C': 10, 'gamma': 0.001}\n",
      "0.681 (+/-0.048) for {'kernel': 'rbf', 'C': 10, 'gamma': 0.0001}\n",
      "0.744 (+/-0.049) for {'kernel': 'rbf', 'C': 100, 'gamma': 0.001}\n",
      "0.684 (+/-0.039) for {'kernel': 'rbf', 'C': 100, 'gamma': 0.0001}\n",
      "0.773 (+/-0.058) for {'kernel': 'rbf', 'C': 1000, 'gamma': 0.001}\n",
      "0.711 (+/-0.039) for {'kernel': 'rbf', 'C': 1000, 'gamma': 0.0001}\n",
      "0.678 (+/-0.034) for {'kernel': 'linear', 'C': 1}\n",
      "0.635 (+/-0.057) for {'kernel': 'linear', 'C': 10}\n",
      "0.632 (+/-0.057) for {'kernel': 'linear', 'C': 100}\n",
      "0.635 (+/-0.031) for {'kernel': 'linear', 'C': 1000}\n",
      "\n",
      "Detailed classification report:\n",
      "\n",
      "The model is trained on the full development set.\n",
      "The scores are computed on the full evaluation set.\n",
      "\n",
      "             precision    recall  f1-score   support\n",
      "\n",
      "          0       0.65      0.68      0.66       186\n",
      "          1       0.87      0.86      0.86       479\n",
      "\n",
      "avg / total       0.81      0.81      0.81       665\n",
      "\n"
     ]
    },
    {
     "data": {
      "image/png": "[encoded data removed]",
      "text/plain": [
       "<matplotlib.figure.Figure at 0x114548a90>"
      ]
     },
     "metadata": {},
     "output_type": "display_data"
    },
    {
     "name": "stdout",
     "output_type": "stream",
     "text": [
      "\n"
     ]
    }
   ],
   "source": [
    "# Split the dataset in two equal parts\n",
    "X_train, X_test, y_train, y_test = train_test_split(\n",
    "    X, y, test_size=0.5, random_state=0)\n",
    "\n",
    "# Set the parameters by cross-validation\n",
    "tuned_parameters = [{'kernel': ['rbf'], 'gamma': [1e-3, 1e-4],\n",
    "                     'C': [1, 10, 100, 1000]},\n",
    "                    {'kernel': ['linear'], 'C': [1, 10, 100, 1000]}]\n",
    "\n",
    "scores = ['precision', 'recall']\n",
    "\n",
    "for score in scores:\n",
    "    print(\"# Tuning hyper-parameters for %s\" % score)\n",
    "    print()\n",
    "\n",
    "    clf = GridSearchCV(SVC(C=1, class_weight='balanced'), tuned_parameters, cv=3,\n",
    "                       scoring='%s_weighted' % score)\n",
    "    clf.fit(X_train, y_train)\n",
    "\n",
    "    print(\"Best parameters set found on development set:\")\n",
    "    print()\n",
    "    print(clf.best_params_)\n",
    "    print()\n",
    "    print(\"Grid scores on development set:\")\n",
    "    print()\n",
    "    for params, mean_score, scores in clf.grid_scores_:\n",
    "        print(\"%0.3f (+/-%0.03f) for %r\"\n",
    "              % (mean_score, scores.std() * 2, params))\n",
    "    print()\n",
    "\n",
    "    print(\"Detailed classification report:\")\n",
    "    print()\n",
    "    print(\"The model is trained on the full development set.\")\n",
    "    print(\"The scores are computed on the full evaluation set.\")\n",
    "    print()\n",
    "    y_true, y_pred = y_test, clf.predict(X_test)\n",
    "    print(classification_report(y_true, y_pred))\n",
    "    y_desc = clf.decision_function(X_test) \n",
    "    tpr, fpr, __ = roc_curve( y_true, y_desc ) \n",
    "    plt.figure( figsize=( 3,3 ) ) \n",
    "    plt.plot( tpr, fpr ) \n",
    "    plt.show()\n",
    "    print()\n",
    "\n",
    "# Note the problem is too easy: the hyperparameter plateau is too flat and the\n",
    "# output model is the same for precision and recall with ties in quality."
   ]
  },
  {
   "cell_type": "code",
   "execution_count": null,
   "metadata": {
    "collapsed": true
   },
   "outputs": [],
   "source": []
  },
  {
   "cell_type": "code",
   "execution_count": null,
   "metadata": {
    "collapsed": true
   },
   "outputs": [],
   "source": []
  }
 ],
 "metadata": {
  "kernelspec": {
   "display_name": "Python 2",
   "language": "python",
   "name": "python2"
  },
  "language_info": {
   "codemirror_mode": {
    "name": "ipython",
    "version": 2
   },
   "file_extension": ".py",
   "mimetype": "text/x-python",
   "name": "python",
   "nbconvert_exporter": "python",
   "pygments_lexer": "ipython2",
   "version": "2.7.11"
  }
 },
 "nbformat": 4,
 "nbformat_minor": 0
}
