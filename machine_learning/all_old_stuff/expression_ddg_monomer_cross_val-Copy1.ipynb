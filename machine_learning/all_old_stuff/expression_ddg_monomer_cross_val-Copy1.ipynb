{
 "cells": [
  {
   "cell_type": "code",
   "execution_count": 45,
   "metadata": {
    "collapsed": false
   },
   "outputs": [],
   "source": [
    "%matplotlib inline \n",
    "\n",
    "import matplotlib.pyplot as plt \n",
    "import pandas \n",
    "import numpy as np\n",
    "from scipy import interp\n",
    "\n",
    "from sklearn import ( preprocessing, cross_validation, ensemble, pipeline, \n",
    "                      svm, decomposition, grid_search, linear_model, metrics )"
   ]
  },
  {
   "cell_type": "code",
   "execution_count": 5,
   "metadata": {
    "collapsed": false
   },
   "outputs": [
    {
     "name": "stdout",
     "output_type": "stream",
     "text": [
      "        total  fa_atr  fa_rep  fa_sol  fa_intra_rep  fa_elec  pro_close  \\\n",
      "mutant                                                                    \n",
      "R240A   0.657   9.367  -0.289 -10.655        -0.016    2.621     -0.014   \n",
      "Q313R   1.615  -1.249   0.093   2.730         0.006   -0.702     -0.022   \n",
      "N354A   3.306   6.762   0.367  -6.846        -0.004    1.431      0.011   \n",
      "T218A   0.241   4.076  -1.701  -6.064        -0.014    1.110      0.015   \n",
      "L362M  -0.882   0.614  -0.157   0.163        -0.014   -0.197      0.003   \n",
      "\n",
      "        hbond_bb_sc  hbond_sc   rama  omega  fa_dun  p_aa_pp  yhh_planarity  \\\n",
      "mutant                                                                        \n",
      "R240A        -0.019     1.880 -0.002    0.0  -3.246   -0.068         -0.001   \n",
      "Q313R        -0.034    -0.688  0.053    0.0   0.215    0.034         -0.016   \n",
      "N354A         0.654     1.275  0.129    0.0  -2.916    0.498         -0.019   \n",
      "T218A         0.004     1.862  0.265    0.0  -0.384    0.511         -0.010   \n",
      "L362M        -0.004    -0.001  0.035    0.0  -0.881    0.067         -0.001   \n",
      "\n",
      "        expression  \n",
      "mutant              \n",
      "R240A            1  \n",
      "Q313R            1  \n",
      "N354A            1  \n",
      "T218A            1  \n",
      "L362M            1  \n"
     ]
    }
   ],
   "source": [
    "df = pandas.read_csv( 'feature_sets/expression_ddg.csv', index_col=0 ) \n",
    "print df.sample( 5 ) "
   ]
  },
  {
   "cell_type": "code",
   "execution_count": 9,
   "metadata": {
    "collapsed": false
   },
   "outputs": [
    {
     "name": "stdout",
     "output_type": "stream",
     "text": [
      "(127, 14)\n",
      "(127,)\n"
     ]
    }
   ],
   "source": [
    "# scale features and separate into predictors\n",
    "\n",
    "scl = preprocessing.MaxAbsScaler()\n",
    "X = scl.fit_transform( df.ix[:,:-1] )\n",
    "y = df.ix[:,-1:].as_matrix().ravel()\n",
    "\n",
    "print X.shape\n",
    "print y.shape"
   ]
  },
  {
   "cell_type": "code",
   "execution_count": 34,
   "metadata": {
    "collapsed": false
   },
   "outputs": [
    {
     "data": {
      "image/png": "[encoded data removed]",
      "text/plain": [
       "<matplotlib.figure.Figure at 0x117a31290>"
      ]
     },
     "metadata": {},
     "output_type": "display_data"
    }
   ],
   "source": [
    "# individual feature correlations\n",
    "methods = [ 'pearson', 'kendall', 'spearman' ] \n",
    "plt.figure( figsize=(14,5) )\n",
    "for i, method in enumerate( methods ):\n",
    "    my_corr = df.corr(method=method)['expression'].drop( [ 'expression', 'omega' ] ).sort_values(ascending=False)\n",
    "\n",
    "    plt.subplot( 1, 3, i+1 )\n",
    "    plt.barh( range( len( my_corr ) ), my_corr, align='center', color='purple' )\n",
    "    plt.yticks( range(len( my_corr )), my_corr.index ) \n",
    "    plt.xlabel( '{} correlation between\\nsingle Rosetta feature and binary expression'.format( method.capitalize() ) ) \n",
    "    \n",
    "plt.tight_layout()"
   ]
  },
  {
   "cell_type": "code",
   "execution_count": 36,
   "metadata": {
    "collapsed": false
   },
   "outputs": [
    {
     "name": "stdout",
     "output_type": "stream",
     "text": [
      "43 samples of class 0\n",
      "84 samples of class 1\n"
     ]
    },
    {
     "data": {
      "text/plain": [
       "<matplotlib.text.Text at 0x1184bee10>"
      ]
     },
     "execution_count": 36,
     "metadata": {},
     "output_type": "execute_result"
    },
    {
     "data": {
      "image/png": "[encoded data removed]",
      "text/plain": [
       "<matplotlib.figure.Figure at 0x116112550>"
      ]
     },
     "metadata": {},
     "output_type": "display_data"
    }
   ],
   "source": [
    "# unbalanced classes \n",
    "my_list = list( y ) \n",
    "print my_list.count( 0 ), 'samples of class 0'\n",
    "print my_list.count( 1 ), 'samples of class 1'\n",
    "\n",
    "plt.figure( figsize=( 2,2 ) ) \n",
    "plt.hist( y, bins=2, color='k', rwidth=0.4 )\n",
    "plt.xticks( [ .25, .75 ], [ '0', '1' ] ) \n",
    "plt.title( 'Expression\\n(0=no, 1=yes)' ) "
   ]
  },
  {
   "cell_type": "code",
   "execution_count": 37,
   "metadata": {
    "collapsed": true
   },
   "outputs": [],
   "source": [
    "# if we had more data ... \n",
    "#X_train, X_test, y_train, y_test = cross_validation.train_test_split(X, y, test_size=0.5)\n",
    "# instead we will use cross-validation "
   ]
  },
  {
   "cell_type": "code",
   "execution_count": 54,
   "metadata": {
    "collapsed": false
   },
   "outputs": [
    {
     "name": "stdout",
     "output_type": "stream",
     "text": [
      "[mean: 0.67308, std: 0.15886, params: {'rf__class_weight': 'balanced_subsample', 'rf__max_features': 'sqrt'}, mean: 0.67331, std: 0.13825, params: {'rf__class_weight': 'balanced_subsample', 'rf__max_features': 6}]\n"
     ]
    }
   ],
   "source": [
    "# random forest\n",
    "\n",
    "param_grid = [\n",
    "    { \n",
    "        'rf__max_features': [ 'sqrt', 6 ], \n",
    "        'rf__class_weight': [ 'balanced_subsample' ], \n",
    "    },\n",
    "]\n",
    "  \n",
    "pln = pipeline.Pipeline([\n",
    "    ( 'rf', ensemble.RandomForestClassifier() ),\n",
    "])\n",
    "\n",
    "\n",
    "#my_score = metrics.make_scorer( metrics.matthews_corrcoef )\n",
    "\n",
    "skf = cross_validation.StratifiedKFold( y, 10 ) \n",
    "clf = GridSearchCV( pln, param_grid, cv=skf, scoring='f1_weighted' )\n",
    "clf.fit( X, y ) \n",
    "\n",
    "#print dir( clf ) \n",
    "print clf.grid_scores_"
   ]
  },
  {
   "cell_type": "code",
   "execution_count": null,
   "metadata": {
    "collapsed": false
   },
   "outputs": [
    {
     "data": {
      "image/png": "[encoded data removed]",
      "text/plain": [
       "<matplotlib.figure.Figure at 0x1149954d0>"
      ]
     },
     "metadata": {},
     "output_type": "display_data"
    }
   ],
   "source": [
    "# logistic regression \n",
    "# 10-fold stratified cross validation \n",
    "\n",
    "skf = cross_validation.StratifiedKFold( y, 10 )\n",
    "\n",
    "param_grid = [\n",
    "    { \n",
    "        'logit__class_weight': [ 'balanced' ], \n",
    "    },\n",
    "]\n",
    "  \n",
    "pln = pipeline.Pipeline([\n",
    "    ( 'logit', linear_model.LogisticRegressionCV() ),\n",
    "])\n",
    "\n",
    "mean_tpr = 0.0\n",
    "mean_fpr = np.linspace(0, 1, 100)\n",
    "all_tpr = []\n",
    "\n",
    "plt.figure( figsize=( 12, 12 ) ) \n",
    "\n",
    "for i, (train, test) in enumerate(skf):\n",
    "    clf = GridSearchCV( pln, param_grid, cv=10 )\n",
    "    probas_ = clf.fit(X[train], y[train]).predict_proba(X[test])\n",
    "    fpr, tpr, thresholds = roc_curve(y[test], probas_[:, 1])\n",
    "    mean_tpr += interp(mean_fpr, fpr, tpr)\n",
    "    mean_tpr[0] = 0.0\n",
    "    roc_auc = auc(fpr, tpr)\n",
    "    plt.plot(fpr, tpr, lw=1, label='ROC fold %d (area = %0.2f)' % (i, roc_auc))\n",
    "\n",
    "plt.plot([0, 1], [0, 1], '--', color=(0.6, 0.6, 0.6), label='Luck')\n",
    "\n",
    "mean_tpr /= len(skf)\n",
    "mean_tpr[-1] = 1.0\n",
    "mean_auc = auc(mean_fpr, mean_tpr)\n",
    "plt.plot(mean_fpr, mean_tpr, 'k--',\n",
    "         label='Mean ROC (area = %0.2f)' % mean_auc, lw=2)\n",
    "\n",
    "plt.xlim([-0.05, 1.05])\n",
    "plt.ylim([-0.05, 1.05])\n",
    "plt.xlabel('False Positive Rate')\n",
    "plt.ylabel('True Positive Rate')\n",
    "plt.legend(loc=\"lower right\")\n",
    "plt.show()"
   ]
  },
  {
   "cell_type": "code",
   "execution_count": null,
   "metadata": {
    "collapsed": false
   },
   "outputs": [
    {
     "name": "stderr",
     "output_type": "stream",
     "text": [
      "/usr/local/bin/anaconda/lib/python2.7/site-packages/sklearn/metrics/classification.py:1074: UndefinedMetricWarning: Precision is ill-defined and being set to 0.0 in labels with no predicted samples.\n",
      "  'precision', 'predicted', average, warn_for)\n"
     ]
    }
   ],
   "source": [
    "import numpy as np \n",
    "\n",
    "iterations = range( 100 ) \n",
    "all_scores = []\n",
    "for i in iterations:\n",
    "    skf = cross_validation.StratifiedKFold( y, 10, shuffle=True )\n",
    "    my_scores = cross_val_score( pln, X, y, cv=skf, scoring='precision_weighted' )\n",
    "    all_scores.append( my_scores.mean() ) "
   ]
  },
  {
   "cell_type": "code",
   "execution_count": null,
   "metadata": {
    "collapsed": false
   },
   "outputs": [],
   "source": [
    "plt.plot( range( 100 ), all_scores ) \n",
    "plt.title( 'Stability of logistic regression with shuffled samples' ) \n",
    "plt.xlabel( 'Number of iterations' )\n",
    "plt.ylabel( 'F1 score' ) "
   ]
  },
  {
   "cell_type": "code",
   "execution_count": null,
   "metadata": {
    "collapsed": false
   },
   "outputs": [],
   "source": [
    "score, permutation_scores, p_value = permutation_test_score(\n",
    "    clf, X, y, scoring=\"f1_weighted\", cv=10, n_permutations=100, n_jobs=-1)"
   ]
  },
  {
   "cell_type": "code",
   "execution_count": null,
   "metadata": {
    "collapsed": false
   },
   "outputs": [],
   "source": [
    "#print(\"Classification score %s (pvalue : %s)\" % (score, p_value))\n",
    "\n",
    "print 'F1_score={:.2f}, p_value={:.2f}'.format( score, p_value ) \n",
    "\n",
    "plt.hist(permutation_scores, 20, label='Permutation scores', color='k', lw=0 )\n",
    "ylim = plt.ylim()\n",
    "plt.plot(2 * [score], ylim, '--r', linewidth=2.1, label='F1 score (p={:.2f})'.format( p_value ) )\n",
    "#plt.plot(2 * [1. / 2], ylim, '--k', linewidth=3, label='Luck')\n",
    "\n",
    "plt.ylim(ylim)\n",
    "plt.legend()\n",
    "plt.xlabel('Score')\n",
    "plt.xlim( 0, 1 ) \n",
    "plt.show()"
   ]
  },
  {
   "cell_type": "code",
   "execution_count": null,
   "metadata": {
    "collapsed": false
   },
   "outputs": [],
   "source": [
    "plt.figure( figsize=( 16, 3 ) ) \n",
    "plt.plot( range( len( permutation_scores ) ), permutation_scores, color='purple' ) \n",
    "#plt.plot( enumerate( permutation_scores ) ) \n",
    "plt.plot( range( len( all_scores ) ), all_scores, color='green' ) \n",
    "plt.title( 'Stability of logistic regression with shuffled samples' ) \n",
    "plt.xlabel( 'Number of iterations' )\n",
    "plt.ylabel( 'F1 score' ) \n",
    "plt.legend( [ 'Permutation score', 'Average of 10-fold cross validation' ] ) \n",
    "\n",
    "print ' over all iterations'\n",
    "print 'Mean of permutation scores', np.mean( permutation_scores ).round( 2 ) \n",
    "print 'Average of 10-fold cross validation', np.mean( all_scores ).round( 2 ) "
   ]
  },
  {
   "cell_type": "code",
   "execution_count": null,
   "metadata": {
    "collapsed": true
   },
   "outputs": [],
   "source": [
    "# random forest\n",
    "\n",
    "from sklearn.cross_validation import StratifiedKFold\n",
    "\n",
    "param_grid = [\n",
    "    { \n",
    "        'rf__criterion': [ 'entropy', 'gini' ], \n",
    "        'rf__n_estimators': [ 10, 50 ], \n",
    "        'rf__max_features': [ 1, 2, 'sqrt', None ], \n",
    "        'rf__max_depth': [ 2, 3, 6 ], \n",
    "        'rf__class_weight': [ 'balanced_subsample' ], \n",
    "    },\n",
    "]\n",
    "  \n",
    "pln = pipeline.Pipeline([\n",
    "    ( 'rf', RandomForestClassifier() ),\n",
    "])\n",
    "\n",
    "# for i in range( 10 ):\n",
    "    \n",
    "#     # repeat all this ten times \n",
    "    \n",
    "#     skf = StratifiedKFold( y, 10, shuffle=True ) \n",
    "    \n",
    "    \n",
    "#     for train_fold, test_fold in skf:\n",
    "        \n",
    "#         grid = GridSearchCV( pln, param_grid ) \n",
    "        \n",
    "#         grid.fit( \n",
    "    \n",
    "\n",
    "# fit the model \n",
    "clf = GridSearchCV( pln, param_grid, cv=10 )\n",
    "clf.fit( X_train, y_train )\n",
    "\n",
    "# predict class labels in test set \n",
    "y_true, y_pred = y_test, clf.predict(X_test)\n",
    "\n",
    "# print(\"Best parameters found on training set\")\n",
    "# print(clf.best_params_)\n",
    "\n",
    "# print(\"Grid scores on training set\")\n",
    "# for params, mean_score, scores in clf.grid_scores_:\n",
    "#     print(\"%0.3f (±%0.03f) for %r\" % (mean_score, scores.std() * 2, params))\n",
    "\n",
    "#print(\"Detailed classification report\")\n",
    "\n",
    "print classification_report( y_true, y_pred )\n",
    "\n",
    "y_desc = clf.predict_proba( X_test )\n",
    "y_prob = [ i[j] for i, j in zip( y_desc, y_true ) ] # the probability for the given class label\n",
    "\n",
    "# ROC curve \n",
    "tpr, fpr, __ = roc_curve( y_true, y_prob ) \n",
    "my_auc = roc_auc_score( y_true, y_prob ) \n",
    "plt.figure( figsize=( 3,3 ) ) \n",
    "plt.plot( tpr, fpr ) \n",
    "plt.xlabel( 'True positive rate' )\n",
    "plt.ylabel( 'False positive rate' )\n",
    "plt.title( 'ROC AUC={0:.2f}'.format( my_auc ) ) \n",
    "plt.show()\n",
    "\n",
    "# Precision-recall curve \n",
    "precision, recall, __ = precision_recall_curve( y_true, y_prob ) \n",
    "my_auc = average_precision_score( y_true, y_prob ) \n",
    "plt.figure( figsize=( 3,3 ) ) \n",
    "plt.plot( recall, precision ) \n",
    "plt.xlabel( 'Recall' )\n",
    "plt.ylabel( 'Precision' )\n",
    "plt.title( 'Precision-recall AUC={0:.2f}'.format( my_auc ) ) \n",
    "plt.show()\n",
    "\n",
    "# Feature importance \n",
    "# feat_import = clf.best_estimator_.named_steps['rf'].feature_importances_\n",
    "# w = pandas.DataFrame( zip( df.columns[:-1], feat_import ), columns=['feature','importance'] )\n",
    "# w.set_index( 'feature', inplace=True ) \n",
    "# w.sort_values( by='importance', ascending=False )"
   ]
  },
  {
   "cell_type": "code",
   "execution_count": null,
   "metadata": {
    "collapsed": false,
    "scrolled": false,
    "slideshow": {
     "slide_type": "slide"
    }
   },
   "outputs": [],
   "source": [
    "# fit the model \n",
    "clf = GridSearchCV( pln, param_grid, cv=10 )\n",
    "y_pred = cross_validation.cross_val_predict( clf, X, y, cv=10 )\n",
    "#clf.fit( X_train, y_train )\n",
    "\n",
    "# predict class labels in test set \n",
    "#y_true, y_pred = y_test, clf.predict(X_test)\n",
    "\n",
    "# print(\"Best parameters found on training set\")\n",
    "# print(clf.best_params_)\n",
    "\n",
    "# print(\"Grid scores on training set\")\n",
    "# for params, mean_score, scores in clf.grid_scores_:\n",
    "#     print(\"%0.3f (±%0.03f) for %r\" % (mean_score, scores.std() * 2, params))\n",
    "\n",
    "#print(\"Detailed classification report\")\n",
    "\n",
    "y_true = y \n",
    "print classification_report( y_true, y_pred )\n",
    "\n",
    "y_desc = clf.best_estimator_.named_steps['rf'].predict_proba( X_test )\n",
    "y_prob = [ i[j] for i, j in zip( y_desc, y_true ) ] # the probability for the given class label\n",
    "\n",
    "# ROC curve \n",
    "tpr, fpr, __ = roc_curve( y_true, y_prob ) \n",
    "my_auc = roc_auc_score( y_true, y_prob ) \n",
    "plt.figure( figsize=( 3,3 ) ) \n",
    "plt.plot( tpr, fpr ) \n",
    "plt.xlabel( 'True positive rate' )\n",
    "plt.ylabel( 'False positive rate' )\n",
    "plt.title( 'ROC AUC={0:.2f}'.format( my_auc ) ) \n",
    "plt.show()\n",
    "\n",
    "# Precision-recall curve \n",
    "precision, recall, __ = precision_recall_curve( y_true, y_prob ) \n",
    "my_auc = average_precision_score( y_true, y_prob ) \n",
    "plt.figure( figsize=( 3,3 ) ) \n",
    "plt.plot( recall, precision ) \n",
    "plt.xlabel( 'Recall' )\n",
    "plt.ylabel( 'Precision' )\n",
    "plt.title( 'Precision-recall AUC={0:.2f}'.format( my_auc ) ) \n",
    "plt.show()\n",
    "\n",
    "# Feature importance \n",
    "feat_import = clf.best_estimator_.named_steps['rf'].feature_importances_\n",
    "w = pandas.DataFrame( zip( df.columns[:-1], feat_import ), columns=['feature','importance'] )\n",
    "w.set_index( 'feature', inplace=True ) \n",
    "w.sort_values( by='importance', ascending=False )"
   ]
  },
  {
   "cell_type": "code",
   "execution_count": null,
   "metadata": {
    "collapsed": false,
    "scrolled": false
   },
   "outputs": [],
   "source": [
    "# SVM with PCA \n",
    "param_grid = [\n",
    "    { \n",
    "        'svm__kernel': [ 'rbf', 'linear' ], \n",
    "        'svm__gamma': [ 1e-3, 1e-4 ],\n",
    "        'svm__C': [ .1, .3, 3, 30 ],  \n",
    "        'svm__class_weight': [ 'balanced' ],\n",
    "        'pca__n_components': [ 2, 5, 10 ], \n",
    "        'pca__whiten': [ True ], \n",
    "    },\n",
    "]\n",
    "\n",
    "scores = ['precision', 'recall']\n",
    "\n",
    "for score in scores:\n",
    "    print(\"# Tuning hyper-parameters for %s\" % score)\n",
    "        \n",
    "    pln = pipeline.Pipeline([\n",
    "        ( 'pca', decomposition.PCA() ), \n",
    "        ( 'svm', svm.SVC() ),\n",
    "    ])\n",
    "\n",
    "    clf = GridSearchCV(pln, param_grid, cv=10, scoring='%s_weighted' % score)\n",
    "    clf.fit(X_train, y_train)\n",
    "\n",
    "    print(\"Best parameters set found on development set:\")\n",
    "\n",
    "    print(clf.best_params_)\n",
    "    print \n",
    "    print(\"Grid scores on development set:\")\n",
    "    print \n",
    "    for params, mean_score, scores in clf.grid_scores_:\n",
    "        print(\"%0.3f (+/-%0.03f) for %r\"\n",
    "              % (mean_score, scores.std() * 2, params))\n",
    "    print \n",
    "\n",
    "    print(\"Detailed classification report:\")\n",
    "    print \n",
    "    print(\"The model is trained on the full development set.\")\n",
    "    print(\"The scores are computed on the full evaluation set.\")\n",
    "    print \n",
    "    y_true, y_pred = y_test, clf.predict(X_test)\n",
    "    print(classification_report(y_true, y_pred))\n",
    "    y_desc = clf.decision_function(X_test) \n",
    "    tpr, fpr, __ = roc_curve( y_true, y_desc ) \n",
    "    my_auc = roc_auc_score( y_true, y_desc ) \n",
    "    plt.figure( figsize=( 3,3 ) ) \n",
    "    plt.plot( tpr, fpr ) \n",
    "    plt.title( 'AUC={}'.format( my_auc ) ) \n",
    "    plt.show()"
   ]
  },
  {
   "cell_type": "code",
   "execution_count": null,
   "metadata": {
    "collapsed": false
   },
   "outputs": [],
   "source": [
    "# logistic regression \n",
    "\n",
    "# Set the parameters by cross-validation\n",
    "param_grid = [\n",
    "    { \n",
    "        'logit__class_weight': [ 'balanced', None ], \n",
    "    },\n",
    "]\n",
    "  \n",
    "pln = pipeline.Pipeline([\n",
    "    ( 'logit', LogisticRegressionCV() ),\n",
    "])\n",
    "\n",
    "clf = GridSearchCV( pln, param_grid, cv=10 )\n",
    "clf.fit( X_train, y_train )\n",
    "\n",
    "print(\"Best parameters found on training set\")\n",
    "print(clf.best_params_)\n",
    "\n",
    "print(\"Grid scores on training set\")\n",
    "for params, mean_score, scores in clf.grid_scores_:\n",
    "    print(\"%0.3f (±%0.03f) for %r\" % (mean_score, scores.std() * 2, params))\n",
    "\n",
    "print(\"Detailed classification report\")\n",
    "y_true, y_pred = y_test, clf.predict(X_test)\n",
    "print(classification_report(y_true, y_pred))\n",
    "\n",
    "y_desc = clf.predict_proba( X_test )\n",
    "# gives a pair p(0), p(1) where p is probability and [0,1] are class labels \n",
    "# sum to 1 \n",
    "y_prob = [ i[j] for i, j in zip( y_desc, y_true ) ] # the probability for the given class label\n",
    "\n",
    "tpr, fpr, __ = roc_curve( y_true, y_prob ) \n",
    "my_auc = roc_auc_score( y_true, y_prob ) \n",
    "plt.figure( figsize=( 3,3 ) ) \n",
    "plt.plot( tpr, fpr ) \n",
    "plt.xlabel( 'True positive rate' )\n",
    "plt.ylabel( 'False positive rate' )\n",
    "plt.title( 'AUC={0:.2f}'.format( my_auc ) ) \n",
    "plt.show()\n",
    "\n",
    "feat_import = clf.best_estimator_.named_steps['logit'].coef_[0]\n",
    "w = pandas.DataFrame( zip( df.columns[:-1], feat_import ), columns=['feature','importance'] )\n",
    "w.set_index( 'feature', inplace=True ) \n",
    "w.sort_values( by='importance', ascending=False )"
   ]
  },
  {
   "cell_type": "code",
   "execution_count": null,
   "metadata": {
    "collapsed": true
   },
   "outputs": [],
   "source": []
  },
  {
   "cell_type": "code",
   "execution_count": null,
   "metadata": {
    "collapsed": true
   },
   "outputs": [],
   "source": [
    "import numpy as np\n",
    "import matplotlib.pyplot as plt\n",
    "from sklearn import svm, datasets, feature_selection, cross_validation\n",
    "from sklearn.pipeline import Pipeline\n",
    "\n",
    "###############################################################################\n",
    "# Import some data to play with\n",
    "digits = datasets.load_digits()\n",
    "y = digits.target\n",
    "# Throw away data, to be in the curse of dimension settings\n",
    "y = y[:200]\n",
    "X = digits.data[:200]\n",
    "n_samples = len(y)\n",
    "X = X.reshape((n_samples, -1))\n",
    "# add 200 non-informative features\n",
    "X = np.hstack((X, 2 * np.random.random((n_samples, 200))))\n",
    "\n",
    "###############################################################################\n",
    "# Create a feature-selection transform and an instance of SVM that we\n",
    "# combine together to have an full-blown estimator\n",
    "\n",
    "transform = feature_selection.SelectPercentile(feature_selection.f_classif)\n",
    "\n",
    "clf = Pipeline([('anova', transform), ('svc', svm.SVC(C=1.0))])\n",
    "\n",
    "###############################################################################\n",
    "# Plot the cross-validation score as a function of percentile of features\n",
    "score_means = list()\n",
    "score_stds = list()\n",
    "percentiles = (1, 3, 6, 10, 15, 20, 30, 40, 60, 80, 100)\n",
    "\n",
    "for percentile in percentiles:\n",
    "    clf.set_params(anova__percentile=percentile)\n",
    "    # Compute cross-validation score using all CPUs\n",
    "    this_scores = cross_validation.cross_val_score(clf, X, y, n_jobs=1)\n",
    "    score_means.append(this_scores.mean())\n",
    "    score_stds.append(this_scores.std())\n",
    "\n",
    "plt.errorbar(percentiles, score_means, np.array(score_stds))\n",
    "\n",
    "plt.title(\n",
    "    'Performance of the SVM-Anova varying the percentile of features selected')\n",
    "plt.xlabel('Percentile')\n",
    "plt.ylabel('Prediction rate')\n",
    "\n",
    "plt.axis('tight')\n",
    "plt.show()"
   ]
  },
  {
   "cell_type": "code",
   "execution_count": null,
   "metadata": {
    "collapsed": false
   },
   "outputs": [],
   "source": [
    "print(__doc__)\n",
    "\n",
    "import numpy as np\n",
    "from scipy import interp\n",
    "import matplotlib.pyplot as plt\n",
    "\n",
    "from sklearn import svm, datasets\n",
    "from sklearn.metrics import roc_curve, auc\n",
    "from sklearn.cross_validation import StratifiedKFold\n",
    "\n",
    "\n",
    "# Run classifier with cross-validation and plot ROC curves\n",
    "cv = StratifiedKFold(y, n_folds=6)\n",
    "classifier = svm.SVC(kernel='linear', class_weight='balanced', probability=True)\n",
    "\n",
    "mean_tpr = 0.0\n",
    "mean_fpr = np.linspace(0, 1, 100)\n",
    "all_tpr = []\n",
    "\n",
    "for i, (train, test) in enumerate(cv):\n",
    "    probas_ = classifier.fit(X[train], y[train]).predict_proba(X[test])\n",
    "    # Compute ROC curve and area the curve\n",
    "    fpr, tpr, thresholds = roc_curve(y[test], probas_[:, 1])\n",
    "    mean_tpr += interp(mean_fpr, fpr, tpr)\n",
    "    mean_tpr[0] = 0.0\n",
    "    roc_auc = auc(fpr, tpr)\n",
    "    plt.plot(fpr, tpr, lw=1, label='ROC fold %d (area = %0.2f)' % (i, roc_auc))\n",
    "\n",
    "plt.plot([0, 1], [0, 1], '--', color=(0.6, 0.6, 0.6), label='Luck')\n",
    "\n",
    "mean_tpr /= len(cv)\n",
    "mean_tpr[-1] = 1.0\n",
    "mean_auc = auc(mean_fpr, mean_tpr)\n",
    "plt.plot(mean_fpr, mean_tpr, 'k--',\n",
    "         label='Mean ROC (area = %0.2f)' % mean_auc, lw=2)\n",
    "\n",
    "plt.xlim([-0.05, 1.05])\n",
    "plt.ylim([-0.05, 1.05])\n",
    "plt.xlabel('False Positive Rate')\n",
    "plt.ylabel('True Positive Rate')\n",
    "plt.title('Receiver operating characteristic example')\n",
    "plt.legend(loc=\"lower right\")\n",
    "plt.show()"
   ]
  },
  {
   "cell_type": "code",
   "execution_count": null,
   "metadata": {
    "collapsed": true
   },
   "outputs": [],
   "source": []
  },
  {
   "cell_type": "code",
   "execution_count": null,
   "metadata": {
    "collapsed": false
   },
   "outputs": [],
   "source": [
    "# Split the dataset in two equal parts\n",
    "\n",
    "from sklearn.ensemble import RandomForestClassifier\n",
    "\n",
    "my_importances = []\n",
    "\n",
    "for i in range( 10 ):\n",
    "\n",
    "    X_train, X_test, y_train, y_test = cross_validation.train_test_split(X, y, test_size=0.5)\n",
    "    forest = RandomForestClassifier(n_estimators=1000, n_jobs=-1, class_weight='balanced')\n",
    "    forest.fit(X_train, y_train)\n",
    "\n",
    "    preds = forest.predict( X_test ) \n",
    "    probs = [ i[j] for i, j in zip( forest.predict_proba( X_test ), y_test ) ] \n",
    "\n",
    "    tpr, fpr, __ = roc_curve( preds, probs ) \n",
    "\n",
    "    plt.plot( tpr, fpr ) \n",
    "    plt.xlim( -0.05, 1.05 )\n",
    "    plt.ylim( -0.05, 1.05 )\n",
    "    \n",
    "    my_importances.append( forest.feature_importances_ )"
   ]
  },
  {
   "cell_type": "code",
   "execution_count": null,
   "metadata": {
    "collapsed": false
   },
   "outputs": [],
   "source": [
    "import pandas \n",
    "\n",
    "my_df = pandas.DataFrame( my_importances, columns=df.columns[:-1] )\n",
    "means = my_df.mean()\n",
    "st = my_df.std()\n",
    "\n",
    "print 'Average weight over all iterations' \n",
    "\n",
    "my_sorted = means.sort_values(ascending=False)\n",
    "my_sorted"
   ]
  },
  {
   "cell_type": "code",
   "execution_count": null,
   "metadata": {
    "collapsed": false
   },
   "outputs": [],
   "source": [
    "plt.title('Feature Importances')\n",
    "\n",
    "plt.bar( range( len( my_sorted ) ), my_sorted, color='lightblue',\n",
    "         align='center', lw=0, ecolor='k', yerr=st, error_kw=dict(capsize=0) )\n",
    "plt.xticks( range( len( my_sorted ) ), my_sorted.index, rotation=90 )            \n",
    "\n",
    "plt.ylim( 0, .25 )\n",
    "plt.tight_layout()\n",
    "plt.show()\n"
   ]
  },
  {
   "cell_type": "code",
   "execution_count": null,
   "metadata": {
    "collapsed": true
   },
   "outputs": [],
   "source": []
  }
 ],
 "metadata": {
  "celltoolbar": "Slideshow",
  "kernelspec": {
   "display_name": "Python 2",
   "language": "python",
   "name": "python2"
  },
  "language_info": {
   "codemirror_mode": {
    "name": "ipython",
    "version": 2
   },
   "file_extension": ".py",
   "mimetype": "text/x-python",
   "name": "python",
   "nbconvert_exporter": "python",
   "pygments_lexer": "ipython2",
   "version": "2.7.11"
  }
 },
 "nbformat": 4,
 "nbformat_minor": 0
}
