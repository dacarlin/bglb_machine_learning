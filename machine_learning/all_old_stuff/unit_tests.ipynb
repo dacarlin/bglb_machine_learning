{
 "cells": [
  {
   "cell_type": "code",
   "execution_count": 30,
   "metadata": {
    "collapsed": false
   },
   "outputs": [
    {
     "name": "stdout",
     "output_type": "stream",
     "text": [
      "        sequence_pos    tm        why_no_tm   kcat  ekcat    km   ekm  ki  \\\n",
      "mutant                                                                      \n",
      "N404A          404.0  42.0              NaN    4.0    1.0  9.42  0.42 NaN   \n",
      "N220H          220.0  39.5              NaN  123.0    1.0  5.14  0.21 NaN   \n",
      "Q19P            19.0   NaN              NaN    NaN    NaN   NaN   NaN NaN   \n",
      "N293D          293.0   NaN  below detection    NaN    NaN   NaN   NaN NaN   \n",
      "H373R          373.0  39.1              NaN  707.0    9.0  6.31  0.30 NaN   \n",
      "\n",
      "        eki    kcatkm  ekcatkm  in_plos_paper  added_later  expression  \\\n",
      "mutant                                                                   \n",
      "N404A   NaN     393.0     18.0              1            0           1   \n",
      "N220H   NaN   23874.0   1031.0              1            0           1   \n",
      "Q19P    NaN       NaN      NaN              0            1           0   \n",
      "N293D   NaN       NaN      NaN              0            0           1   \n",
      "H373R   NaN  112169.0   5512.0              1            0           1   \n",
      "\n",
      "       gel_number note  \n",
      "mutant                  \n",
      "N404A           9  NaN  \n",
      "N220H          10  NaN  \n",
      "Q19P          NaN  NaN  \n",
      "N293D           8  NaN  \n",
      "H373R          14  NaN  \n"
     ]
    }
   ],
   "source": [
    "# are mutants in thermal stability data set represented by models? \n",
    "\n",
    "import pandas \n",
    "\n",
    "therm = pandas.read_csv( '../data_sets/experimental/thermo_paper_data_set.csv', index_col=0 )\n",
    "print therm.sample( 5 ) "
   ]
  },
  {
   "cell_type": "code",
   "execution_count": 31,
   "metadata": {
    "collapsed": false
   },
   "outputs": [
    {
     "data": {
      "text/plain": [
       "[True, True, False]"
      ]
     },
     "execution_count": 31,
     "metadata": {},
     "output_type": "execute_result"
    }
   ],
   "source": [
    "my_list = [ 'N220Y', 'E164A', 'jeff' ]\n",
    "[ x in therm.index for x in my_list ] "
   ]
  },
  {
   "cell_type": "code",
   "execution_count": 32,
   "metadata": {
    "collapsed": false
   },
   "outputs": [
    {
     "name": "stdout",
     "output_type": "stream",
     "text": [
      "[True, True, True, True, True, True, True, True, True, True, True, True, True, True, True, True, True, True, True, True, 'E164G', 'Y295G', 'E164A', 'E164R', 'E353A', 'Y295A', True, True, True, True, True, True, True, True, True, True, True, True, True, True, True, True, True, True, True, True, True, True, True, True, True, True, True, True, True, True, True, True, True, True, True, True, True, True, True, True, True, True, True, True, True, True, True, True, True, True, True, True, True, True, True, True, True, True, True, True, True, True, True, True, True, True, True, True, True, True, True, True, True, True, 'E423S', True, True, True, True, True, True, True, True, True, True, True, True, True, True, True, True, True, True, True, True, 'BglB', True, True, True, True, True, True, True]\n"
     ]
    }
   ],
   "source": [
    "talaris = pandas.read_csv( '../data_sets/rosetta/enzyme_design_talaris_2013.csv', index_col='name' ) \n",
    "#print talaris.sample( 5 ) \n",
    "\n",
    "print [ x in talaris.index or x for x in therm.index ] "
   ]
  },
  {
   "cell_type": "code",
   "execution_count": 33,
   "metadata": {
    "collapsed": false
   },
   "outputs": [
    {
     "name": "stdout",
     "output_type": "stream",
     "text": [
      "[True, True, True, True, True, True, True, True, True, True, True, True, True, True, True, True, True, True, True, True, 'E164G', 'Y295G', 'E164A', 'E164R', 'E353A', 'Y295A', True, True, True, True, True, True, True, True, True, True, True, True, True, True, True, True, True, True, True, True, True, True, True, True, True, True, True, True, True, True, True, True, True, True, True, True, True, True, True, True, True, True, True, True, True, True, True, True, True, True, True, True, True, True, True, True, True, True, True, True, True, True, True, True, True, True, True, True, True, True, True, True, True, True, 'E423S', True, True, True, True, True, True, True, True, True, True, True, True, True, True, True, True, True, True, True, True, 'BglB', True, True, True, True, True, True, True]\n"
     ]
    }
   ],
   "source": [
    "talaris_14 = pandas.read_csv( '../data_sets/rosetta/enzyme_design_talaris_2014.csv', index_col='name' ) \n",
    "#print talaris.sample( 5 ) \n",
    "\n",
    "print [ x in talaris_14.index or x for x in therm.index ] "
   ]
  },
  {
   "cell_type": "code",
   "execution_count": 35,
   "metadata": {
    "collapsed": false
   },
   "outputs": [
    {
     "name": "stdout",
     "output_type": "stream",
     "text": [
      "[True, True, True, True, True, True, True, True, True, True, True, True, True, True, True, True, True, True, True, True, True, True, True, True, 'E353A', True, True, True, True, True, True, True, True, True, True, True, True, True, True, True, True, True, True, True, True, True, True, True, True, True, True, True, True, True, True, True, True, True, True, True, True, True, True, True, True, True, True, True, True, True, True, True, True, True, True, True, True, True, True, True, True, True, True, True, True, True, True, True, True, True, True, True, True, True, True, True, True, True, True, True, 'E423S', True, True, True, True, True, True, True, True, True, True, True, True, True, True, True, True, True, True, True, True, 'BglB', True, True, True, True, True, True, True]\n"
     ]
    }
   ],
   "source": [
    "non_cov = pandas.read_csv( '../data_sets/rosetta/enzyme_design_noncovalent_2.csv', index_col=0 ) \n",
    "print [ x in non_cov.index or x for x in therm.index ] "
   ]
  }
 ],
 "metadata": {
  "kernelspec": {
   "display_name": "Python 2",
   "language": "python",
   "name": "python2"
  },
  "language_info": {
   "codemirror_mode": {
    "name": "ipython",
    "version": 2
   },
   "file_extension": ".py",
   "mimetype": "text/x-python",
   "name": "python",
   "nbconvert_exporter": "python",
   "pygments_lexer": "ipython2",
   "version": "2.7.11"
  }
 },
 "nbformat": 4,
 "nbformat_minor": 0
}
