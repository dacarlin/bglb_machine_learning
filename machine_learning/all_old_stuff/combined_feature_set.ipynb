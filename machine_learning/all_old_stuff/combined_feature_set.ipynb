{
 "cells": [
  {
   "cell_type": "code",
   "execution_count": 4,
   "metadata": {
    "collapsed": false,
    "scrolled": false
   },
   "outputs": [],
   "source": [
    "import pandas \n",
    "\n",
    "my_sets = [ 'foldx', 'ddg', 'enzyme_design' ]\n",
    "targets = [ 'expression', 'tm', 'kcat', 'km', 'kcatkm' ]\n",
    "all_features = []\n",
    "\n",
    "for target in targets:\n",
    "    my_df = pandas.read_csv( '../data_sets/experimental/thermo_paper_data_set.csv', index_col=0 )\n",
    "    for my_set in my_sets:\n",
    "        df = pandas.read_csv( 'feature_sets/{}_{}.csv'.format( target, my_set ), index_col=0 ) \n",
    "        df.drop( target, axis=1, inplace=True ) \n",
    "        my_cols = [ str( i ) + '_' + my_set for i in df.columns ] \n",
    "        all_features += my_cols \n",
    "        df.columns = my_cols \n",
    "        my_df = my_df.join( df )\n",
    "    \n",
    "    all_features = list( set( all_features ) ) # randomly shuffles features \n",
    "    \n",
    "    my_df = my_df[ all_features + [ target ] ].dropna()\n",
    "    my_df.to_csv( '../machine_learning/feature_sets/{}_combined.csv'.format( target ) )"
   ]
  },
  {
   "cell_type": "code",
   "execution_count": null,
   "metadata": {
    "collapsed": true
   },
   "outputs": [],
   "source": []
  }
 ],
 "metadata": {
  "kernelspec": {
   "display_name": "Python 2",
   "language": "python",
   "name": "python2"
  },
  "language_info": {
   "codemirror_mode": {
    "name": "ipython",
    "version": 2
   },
   "file_extension": ".py",
   "mimetype": "text/x-python",
   "name": "python",
   "nbconvert_exporter": "python",
   "pygments_lexer": "ipython2",
   "version": "2.7.11"
  }
 },
 "nbformat": 4,
 "nbformat_minor": 0
}
