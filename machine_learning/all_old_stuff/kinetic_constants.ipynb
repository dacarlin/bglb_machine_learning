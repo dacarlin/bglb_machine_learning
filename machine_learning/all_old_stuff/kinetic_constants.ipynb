{
 "cells": [
  {
   "cell_type": "markdown",
   "metadata": {},
   "source": [
    "## Predicting kinetic constants \n",
    "\n",
    "Here, we will build models to predict $k_{cat}$, $K_M$, and $k_{cat}/K_M$ from:\n",
    "\n",
    "+ 50 enzyme design features "
   ]
  },
  {
   "cell_type": "markdown",
   "metadata": {},
   "source": [
    "This completes our cleaning up the data to use in machine learning. In the next steps, we will evaluate the performance of machine learning algorithms in predicting the functional effect of each mutation, in terms of its effect on kcat, km, and kcat/km. \n",
    "\n",
    "## Kinetic constants benchmark, first attempt (emulating PLOS paper)"
   ]
  },
  {
   "cell_type": "code",
   "execution_count": 42,
   "metadata": {
    "collapsed": false
   },
   "outputs": [
    {
     "name": "stdout",
     "output_type": "stream",
     "text": [
      "166 models\n"
     ]
    }
   ],
   "source": [
    "from glob import glob \n",
    "import pandas\n",
    "\n",
    "sf = pandas.read_csv( 'data_sets/calculated/enzyme_design_talaris_2013.csv', index_col='description' )\n",
    "low = sf.groupby( 'name' ).apply( lambda x: x.sort_values( by='total_score' ).sample( 10 ).mean() )\n",
    "\n",
    "print len( low ), 'models'"
   ]
  },
  {
   "cell_type": "code",
   "execution_count": 43,
   "metadata": {
    "collapsed": false,
    "scrolled": false
   },
   "outputs": [
    {
     "name": "stdout",
     "output_type": "stream",
     "text": [
      "76 kcat\n",
      "76 km\n",
      "87 kcat/km\n"
     ]
    }
   ],
   "source": [
    "from numpy import log, inf, nan\n",
    "\n",
    "# experimental data \n",
    "experimental = pandas.read_csv( 'data_sets/experimental/plos2015.csv', index_col='name' )\n",
    "\n",
    "# log and relative to wt \n",
    "wt = experimental.loc[ 'BglB' ]\n",
    "experimental.drop( [ 'BglB' ] )\n",
    "log_diff = log( experimental / wt ) - 1\n",
    "\n",
    "print len( log_diff.kcat.dropna() ), 'kcat'\n",
    "print len( log_diff.km.dropna() ), 'km'\n",
    "print len( log_diff.kcatkm.dropna() ), 'kcat/km'"
   ]
  },
  {
   "cell_type": "code",
   "execution_count": 44,
   "metadata": {
    "collapsed": true
   },
   "outputs": [],
   "source": [
    "# add additional features \n",
    "\n",
    "#distances = pandas.read_csv( 'data_sets/distance_from_active_site.csv', index_col='name' ) "
   ]
  },
  {
   "cell_type": "code",
   "execution_count": 45,
   "metadata": {
    "collapsed": false
   },
   "outputs": [
    {
     "name": "stdout",
     "output_type": "stream",
     "text": [
      "101 joined\n"
     ]
    }
   ],
   "source": [
    "joined = log_diff.join( low, lsuffix='low_' )\n",
    "\n",
    "print len( joined ), 'joined' "
   ]
  },
  {
   "cell_type": "markdown",
   "metadata": {},
   "source": [
    "So now we have 10 models (the lowest 10 by total_energy out of 100 simulations) of each protein, joined with experimental data. We don't have all pieces of experimental data for each protein, so there are some NaNs in the above dataframe, which scikit-learn doesn't deal very well with. We will clean up the data. "
   ]
  },
  {
   "cell_type": "code",
   "execution_count": 46,
   "metadata": {
    "collapsed": false
   },
   "outputs": [],
   "source": [
    "from sklearn import preprocessing\n",
    "\n",
    "constants = [ 'kcat', 'km', 'kcatkm' ]\n",
    "\n",
    "# clean up data for sklearn\n",
    "features = [ u'total_score', u'fa_rep', u'hbond_sc', u'tot_pstat_pm',\n",
    "       u'tot_nlpstat_pm', u'tot_burunsat_pm', u'tot_hbond_pm',\n",
    "       u'tot_NLconts_pm', u'tot_nlsurfaceE_pm', u'tot_total_charge',\n",
    "       u'SR_1_total_score', u'SR_1_fa_rep', u'SR_1_hbond_sc',\n",
    "       u'SR_1_hbond_pm', u'SR_1_burunsat_pm',\n",
    "       u'SR_1_pstat_pm', u'SR_1_nlpstat_pm', u'SR_2_total_score',\n",
    "       u'SR_2_fa_rep', u'SR_2_hbond_sc', u'SR_2_hbond_pm',\n",
    "       u'SR_2_burunsat_pm', u'SR_2_pstat_pm', u'SR_2_nlpstat_pm',\n",
    "       u'SR_3_total_score', u'SR_3_fa_rep', u'SR_3_hbond_sc', \n",
    "       u'SR_3_hbond_pm', u'SR_3_burunsat_pm', u'SR_3_pstat_pm',\n",
    "       u'SR_3_nlpstat_pm', u'SR_4_total_score', u'SR_4_fa_rep',\n",
    "       u'SR_4_hbond_sc', u'SR_4_hbond_pm',\n",
    "       u'SR_4_burunsat_pm', u'SR_4_pstat_pm', u'SR_4_nlpstat_pm',\n",
    "       u'SR_5_total_score', u'SR_5_fa_rep', u'SR_5_hbond_sc', \n",
    "       u'SR_5_interf_E_1_2', u'SR_5_dsasa_1_2', u'SR_5_hbond_pm',\n",
    "       u'SR_5_burunsat_pm' ]\n",
    "\n",
    "for constant in constants:\n",
    "    work = joined[ features + [ constant ] ]\n",
    "    work = work.replace( [ inf, -inf ], nan ).dropna()\n",
    "    scaler = preprocessing.StandardScaler()\n",
    "    J = scaler.fit_transform( work ) \n",
    "    work = pandas.DataFrame( J, columns=work.columns )\n",
    "    work.to_csv( 'data_sets/tmp/{}.csv'.format( constant ) )"
   ]
  },
  {
   "cell_type": "code",
   "execution_count": 47,
   "metadata": {
    "collapsed": false,
    "scrolled": false
   },
   "outputs": [
    {
     "name": "stderr",
     "output_type": "stream",
     "text": [
      "/usr/local/bin/anaconda/lib/python2.7/site-packages/sklearn/ensemble/bagging.py:920: UserWarning: Some inputs do not have OOB scores. This probably means too few estimators were used to compute any reliable oob estimates.\n",
      "  warn(\"Some inputs do not have OOB scores. \"\n"
     ]
    },
    {
     "data": {
      "image/png": "[encoded data removed]",
      "text/plain": [
       "<matplotlib.figure.Figure at 0x1170289d0>"
      ]
     },
     "metadata": {},
     "output_type": "display_data"
    }
   ],
   "source": [
    "%matplotlib inline\n",
    "import matplotlib.pyplot as plt\n",
    "\n",
    "from sklearn.linear_model import ElasticNetCV\n",
    "from sklearn.ensemble import BaggingRegressor\n",
    "from sklearn import preprocessing, cross_validation\n",
    "from scipy.stats.stats import pearsonr\n",
    "\n",
    "constants = [ 'kcat', 'km', 'kcatkm' ]\n",
    "\n",
    "plt.figure( figsize=( 9, 2.5 ) ) \n",
    "\n",
    "for i, constant in enumerate( constants ):\n",
    "    \n",
    "    J = pandas.read_csv( 'data_sets/tmp/{}.csv'.format( constant ), index_col=0 ).as_matrix()  \n",
    "    X = J[:, :-1]\n",
    "    y = J[:, -1:].ravel()\n",
    "    \n",
    "    l1_ratio = [ .1, .5, .7, .9, .95, .99, 1 ]\n",
    "    \n",
    "    net = ElasticNetCV( l1_ratio=l1_ratio, cv=10, max_iter=-1 ) \n",
    "    bag = BaggingRegressor( net, n_estimators=1, n_jobs=-1, oob_score=True )\n",
    "    bag.fit( X, y )\n",
    "    preds = bag.predict( X )\n",
    "\n",
    "    plt.subplot( 1, 3, i + 1 ) \n",
    "    plt.scatter( preds, y, marker='.', color='k' )\n",
    "    plt.xlabel( 'Predicted' ); plt.ylabel( 'Actual' )\n",
    "    r = pearsonr( preds, y )[0].round(2)\n",
    "    plt.title( '{} pcc={}'.format( constant, r ) ) "
   ]
  },
  {
   "cell_type": "markdown",
   "metadata": {},
   "source": [
    "### Per-feature stratification \n",
    "\n",
    "Sampling all of the features 10 highest and 10 lowest rows to see if any of the sample subsets improve EN performance. Will also include a few more estimators "
   ]
  },
  {
   "cell_type": "code",
   "execution_count": 48,
   "metadata": {
    "collapsed": false,
    "scrolled": true
   },
   "outputs": [],
   "source": [
    "# try sampling all the features to pick the lowest 10 models \n",
    "\n",
    "import pandas \n",
    "from numpy import inf, nan, log \n",
    "from sklearn import preprocessing \n",
    "\n",
    "# Rosetta features for 17400 Bagel protein models \n",
    "sf = pandas.read_csv( 'data_sets/calculated/enzyme_design_talaris_2014.csv' )\n",
    "sf['name'] = sf.description.str.split( '_' ).str[ 1 ]\n",
    "\n",
    "# constants to be included as above \n",
    "# experimental data, and also log compared to wild type as above "
   ]
  },
  {
   "cell_type": "code",
   "execution_count": 49,
   "metadata": {
    "collapsed": false,
    "scrolled": false
   },
   "outputs": [
    {
     "name": "stdout",
     "output_type": "stream",
     "text": [
      "kcat . . . . . . . . . . . . . . . . . . . . . . . . . . . . . . . . . . . . . . . . . . . . . . . . . . . . . . . . . . . . . . . . . . . . . . . . . . . . . . . . . . . . . . . . . . \n",
      "km . . . . . . . . . . . . . . . . . . . . . . . . . . . . . . . . . . . . . . . . . . . . . . . . . . . . . . . . . . . . . . . . . . . . . . . . . . . . . . . . . . . . . . . . . . \n",
      "kcatkm . . . . . . . . . . . . . . . . . . . . . . . . . . . . . . . . . . . . . . . . . . . . . . . . . . . . . . . . . . . . . . . . . . . . . . . . . . . . . . . . . . . . . . . . . . \n"
     ]
    }
   ],
   "source": [
    "G = sf.groupby( 'name' ) #20,000 x 100\n",
    "feature_sets = []\n",
    "for constant in constants:\n",
    "    y = log_diff[ [ constant ] ]\n",
    "    print constant,     \n",
    "    for a in [ True, False ]:\n",
    "        for feature in features:            \n",
    "            print '.', \n",
    "            X = G.apply( lambda x: x.sort_values( by=feature, ascending=a ).head( 10 ).mean() )[ features ] \n",
    "            J = X.join( y ).replace( [ inf, -inf ], nan ).dropna()\n",
    "            scaler = preprocessing.StandardScaler()\n",
    "            J = scaler.fit_transform( J )\n",
    "            feature_sets.append( ( constant, a, feature, J ) )\n",
    "    print ''"
   ]
  },
  {
   "cell_type": "code",
   "execution_count": 50,
   "metadata": {
    "collapsed": false
   },
   "outputs": [],
   "source": [
    "import pickle\n",
    "\n",
    "with open( 'data_sets/tmp/feature_sets.pkl', 'w' ) as fn:\n",
    "    pickle.dump( feature_sets, fn ) "
   ]
  },
  {
   "cell_type": "code",
   "execution_count": 51,
   "metadata": {
    "collapsed": false,
    "scrolled": false
   },
   "outputs": [
    {
     "name": "stdout",
     "output_type": "stream",
     "text": [
      "appended EN_auto_L1\n",
      "appended SGD\n",
      "appended EN_with_manual_L1_ratio\n",
      "appended EN_with_bagging\n",
      "appended EN_auto_L1\n",
      "appended SGD\n",
      "appended EN_with_manual_L1_ratio\n",
      "appended EN_with_bagging\n",
      "appended EN_auto_L1\n",
      "appended SGD\n",
      "appended EN_with_manual_L1_ratio\n",
      "appended EN_with_bagging\n"
     ]
    }
   ],
   "source": [
    "# try EN on all feature sets\n",
    "\n",
    "%matplotlib inline\n",
    "import matplotlib.pyplot as plt \n",
    "from sklearn import cross_validation, preprocessing\n",
    "from sklearn.linear_model import ElasticNetCV, SGDRegressor\n",
    "from sklearn.ensemble import BaggingRegressor\n",
    "from scipy.stats.stats import pearsonr\n",
    "from numpy import log, mean\n",
    "from glob import glob \n",
    "import pandas\n",
    "import pickle \n",
    "\n",
    "from sklearn.cross_validation import cross_val_score, cross_val_predict\n",
    "\n",
    "scores = []\n",
    "\n",
    "L = [ .1, .5, .7, .9, .95, .99, 1 ]\n",
    "cv = 10 \n",
    "\n",
    "classifiers = [ \n",
    "    ( 'EN_auto_L1', ElasticNetCV( selection='random', cv=cv ) ),  \n",
    "    ( 'SGD', SGDRegressor( penalty='elasticnet' ) ),  # stochastic gradient descent\n",
    "    ( 'EN_with_manual_L1_ratio', ElasticNetCV( l1_ratio=L, cv=cv ) ), \n",
    "    ( 'EN_with_bagging', BaggingRegressor( ElasticNetCV( l1_ratio=L, cv=cv ), n_estimators=10 ) ), \n",
    "]\n",
    "\n",
    "with open( 'feature_sets.pkl' ) as fn:\n",
    "    loaded_feature_sets = pickle.load( fn ) \n",
    "    \n",
    "for ( constant, a, feature, J ) in loaded_feature_sets[0:3]:\n",
    "    \n",
    "    X = J[:, :-1]\n",
    "    y = J[:, -1:].ravel()\n",
    "    \n",
    "    for clf_short_name, clf in classifiers:\n",
    "\n",
    "        result = {\n",
    "            'classifier_short_name': clf_short_name,\n",
    "            'classifier': clf.fit( X, y ),\n",
    "            'y': y, \n",
    "            'X': X, \n",
    "            'predictions': clf.predict( X ), \n",
    "            'score': clf.score( X, y ),\n",
    "            'constant': constant, \n",
    "            'ascending': a, \n",
    "            'feature': feature, \n",
    "            'cross_val_score': cross_val_score( clf, X, y ) \n",
    "        }\n",
    "        \n",
    "        scores.append( result ) \n",
    "        print 'appended', result['classifier_short_name']\n",
    "\n",
    "scores = pandas.DataFrame( scores )\n",
    "scores.to_pickle( 'data_sets/tmp/scores.pkl' ) "
   ]
  },
  {
   "cell_type": "code",
   "execution_count": 52,
   "metadata": {
    "collapsed": false
   },
   "outputs": [],
   "source": [
    "import pickle\n",
    "\n",
    "with open( 'data_sets/tmp/scores.pkl' ) as fn:\n",
    "    loaded_scores = pickle.load( fn ) "
   ]
  },
  {
   "cell_type": "code",
   "execution_count": 53,
   "metadata": {
    "collapsed": false
   },
   "outputs": [
    {
     "data": {
      "text/plain": [
       "Index([u'X', u'ascending', u'classifier', u'classifier_short_name',\n",
       "       u'constant', u'cross_val_score', u'feature', u'predictions', u'score',\n",
       "       u'y'],\n",
       "      dtype='object')"
      ]
     },
     "execution_count": 53,
     "metadata": {},
     "output_type": "execute_result"
    }
   ],
   "source": [
    "loaded_scores.columns"
   ]
  },
  {
   "cell_type": "code",
   "execution_count": 54,
   "metadata": {
    "collapsed": false,
    "scrolled": false
   },
   "outputs": [
    {
     "name": "stdout",
     "output_type": "stream",
     "text": [
      "Index([u'X', u'ascending', u'classifier', u'classifier_short_name',\n",
      "       u'constant', u'cross_val_score', u'feature', u'predictions', u'score',\n",
      "       u'y'],\n",
      "      dtype='object')\n"
     ]
    }
   ],
   "source": [
    "def my_function( df ):\n",
    "    return df.sort_values( 'score', ascending=False ).head( 5 ) \n",
    "\n",
    "low5 = scores.groupby( 'constant' ).apply( my_function ) \n",
    "\n",
    "print low5.columns"
   ]
  },
  {
   "cell_type": "code",
   "execution_count": 55,
   "metadata": {
    "collapsed": false
   },
   "outputs": [
    {
     "data": {
      "text/html": [
       "<div>\n",
       "<table border=\"1\" class=\"dataframe\">\n",
       "  <thead>\n",
       "    <tr style=\"text-align: right;\">\n",
       "      <th></th>\n",
       "      <th></th>\n",
       "      <th>X</th>\n",
       "      <th>ascending</th>\n",
       "      <th>classifier</th>\n",
       "      <th>classifier_short_name</th>\n",
       "      <th>constant</th>\n",
       "      <th>cross_val_score</th>\n",
       "      <th>feature</th>\n",
       "      <th>predictions</th>\n",
       "      <th>score</th>\n",
       "      <th>y</th>\n",
       "    </tr>\n",
       "    <tr>\n",
       "      <th>constant</th>\n",
       "      <th></th>\n",
       "      <th></th>\n",
       "      <th></th>\n",
       "      <th></th>\n",
       "      <th></th>\n",
       "      <th></th>\n",
       "      <th></th>\n",
       "      <th></th>\n",
       "      <th></th>\n",
       "      <th></th>\n",
       "      <th></th>\n",
       "    </tr>\n",
       "  </thead>\n",
       "  <tbody>\n",
       "    <tr>\n",
       "      <th rowspan=\"5\" valign=\"top\">kcat</th>\n",
       "      <th>11</th>\n",
       "      <td>[[-0.185611689987, -0.160587584974, -1.8495402...</td>\n",
       "      <td>True</td>\n",
       "      <td>(ElasticNetCV(alphas=None, copy_X=True, cv=10,...</td>\n",
       "      <td>EN_with_bagging</td>\n",
       "      <td>kcat</td>\n",
       "      <td>[-0.316391091806, 0.104828386676, -0.968602550...</td>\n",
       "      <td>hbond_sc</td>\n",
       "      <td>[0.426830779821, 0.471656792264, 0.03429466378...</td>\n",
       "      <td>0.509940</td>\n",
       "      <td>[0.930228452973, 0.567303558594, 0.59443494529...</td>\n",
       "    </tr>\n",
       "    <tr>\n",
       "      <th>9</th>\n",
       "      <td>[[-0.185611689987, -0.160587584974, -1.8495402...</td>\n",
       "      <td>True</td>\n",
       "      <td>SGDRegressor(alpha=0.0001, average=False, epsi...</td>\n",
       "      <td>SGD</td>\n",
       "      <td>kcat</td>\n",
       "      <td>[-0.152970243978, 0.117393904833, -0.779670217...</td>\n",
       "      <td>hbond_sc</td>\n",
       "      <td>[0.267067754979, 0.478874322244, -0.1492476505...</td>\n",
       "      <td>0.491099</td>\n",
       "      <td>[0.930228452973, 0.567303558594, 0.59443494529...</td>\n",
       "    </tr>\n",
       "    <tr>\n",
       "      <th>1</th>\n",
       "      <td>[[-0.171719291993, -0.153413538022, -2.0785239...</td>\n",
       "      <td>True</td>\n",
       "      <td>SGDRegressor(alpha=0.0001, average=False, epsi...</td>\n",
       "      <td>SGD</td>\n",
       "      <td>kcat</td>\n",
       "      <td>[-0.114754799699, 0.0630527065472, -0.33665840...</td>\n",
       "      <td>total_score</td>\n",
       "      <td>[-0.210276083464, -0.0488917697579, 0.59842108...</td>\n",
       "      <td>0.476861</td>\n",
       "      <td>[0.930228452973, 0.567303558594, 0.59443494529...</td>\n",
       "    </tr>\n",
       "    <tr>\n",
       "      <th>3</th>\n",
       "      <td>[[-0.171719291993, -0.153413538022, -2.0785239...</td>\n",
       "      <td>True</td>\n",
       "      <td>(ElasticNetCV(alphas=None, copy_X=True, cv=10,...</td>\n",
       "      <td>EN_with_bagging</td>\n",
       "      <td>kcat</td>\n",
       "      <td>[-0.0178616649697, -0.0234617803295, -0.459266...</td>\n",
       "      <td>total_score</td>\n",
       "      <td>[0.00788472541611, 0.0686692020993, 0.35133431...</td>\n",
       "      <td>0.461373</td>\n",
       "      <td>[0.930228452973, 0.567303558594, 0.59443494529...</td>\n",
       "    </tr>\n",
       "    <tr>\n",
       "      <th>5</th>\n",
       "      <td>[[-0.170602985369, -0.15676900475, -1.74031641...</td>\n",
       "      <td>True</td>\n",
       "      <td>SGDRegressor(alpha=0.0001, average=False, epsi...</td>\n",
       "      <td>SGD</td>\n",
       "      <td>kcat</td>\n",
       "      <td>[-0.111810491182, -0.0144014804468, -0.2154186...</td>\n",
       "      <td>fa_rep</td>\n",
       "      <td>[-0.106075776719, 0.0653070491104, 0.820800236...</td>\n",
       "      <td>0.430831</td>\n",
       "      <td>[0.930228452973, 0.567303558594, 0.59443494529...</td>\n",
       "    </tr>\n",
       "  </tbody>\n",
       "</table>\n",
       "</div>"
      ],
      "text/plain": [
       "                                                             X ascending  \\\n",
       "constant                                                                   \n",
       "kcat     11  [[-0.185611689987, -0.160587584974, -1.8495402...      True   \n",
       "         9   [[-0.185611689987, -0.160587584974, -1.8495402...      True   \n",
       "         1   [[-0.171719291993, -0.153413538022, -2.0785239...      True   \n",
       "         3   [[-0.171719291993, -0.153413538022, -2.0785239...      True   \n",
       "         5   [[-0.170602985369, -0.15676900475, -1.74031641...      True   \n",
       "\n",
       "                                                    classifier  \\\n",
       "constant                                                         \n",
       "kcat     11  (ElasticNetCV(alphas=None, copy_X=True, cv=10,...   \n",
       "         9   SGDRegressor(alpha=0.0001, average=False, epsi...   \n",
       "         1   SGDRegressor(alpha=0.0001, average=False, epsi...   \n",
       "         3   (ElasticNetCV(alphas=None, copy_X=True, cv=10,...   \n",
       "         5   SGDRegressor(alpha=0.0001, average=False, epsi...   \n",
       "\n",
       "            classifier_short_name constant  \\\n",
       "constant                                     \n",
       "kcat     11       EN_with_bagging     kcat   \n",
       "         9                    SGD     kcat   \n",
       "         1                    SGD     kcat   \n",
       "         3        EN_with_bagging     kcat   \n",
       "         5                    SGD     kcat   \n",
       "\n",
       "                                               cross_val_score      feature  \\\n",
       "constant                                                                      \n",
       "kcat     11  [-0.316391091806, 0.104828386676, -0.968602550...     hbond_sc   \n",
       "         9   [-0.152970243978, 0.117393904833, -0.779670217...     hbond_sc   \n",
       "         1   [-0.114754799699, 0.0630527065472, -0.33665840...  total_score   \n",
       "         3   [-0.0178616649697, -0.0234617803295, -0.459266...  total_score   \n",
       "         5   [-0.111810491182, -0.0144014804468, -0.2154186...       fa_rep   \n",
       "\n",
       "                                                   predictions     score  \\\n",
       "constant                                                                   \n",
       "kcat     11  [0.426830779821, 0.471656792264, 0.03429466378...  0.509940   \n",
       "         9   [0.267067754979, 0.478874322244, -0.1492476505...  0.491099   \n",
       "         1   [-0.210276083464, -0.0488917697579, 0.59842108...  0.476861   \n",
       "         3   [0.00788472541611, 0.0686692020993, 0.35133431...  0.461373   \n",
       "         5   [-0.106075776719, 0.0653070491104, 0.820800236...  0.430831   \n",
       "\n",
       "                                                             y  \n",
       "constant                                                        \n",
       "kcat     11  [0.930228452973, 0.567303558594, 0.59443494529...  \n",
       "         9   [0.930228452973, 0.567303558594, 0.59443494529...  \n",
       "         1   [0.930228452973, 0.567303558594, 0.59443494529...  \n",
       "         3   [0.930228452973, 0.567303558594, 0.59443494529...  \n",
       "         5   [0.930228452973, 0.567303558594, 0.59443494529...  "
      ]
     },
     "execution_count": 55,
     "metadata": {},
     "output_type": "execute_result"
    }
   ],
   "source": [
    "low5"
   ]
  },
  {
   "cell_type": "code",
   "execution_count": 35,
   "metadata": {
    "collapsed": false
   },
   "outputs": [
    {
     "name": "stdout",
     "output_type": "stream",
     "text": [
      "('kcat', 0)\n",
      "0.1\n",
      "('kcat', 1)\n",
      "0.1\n",
      "('kcat', 2)\n",
      "0.1\n"
     ]
    }
   ],
   "source": [
    "for name, row in low5.iterrows():\n",
    "    print name\n",
    "    print row.classifier.l1_ratio_"
   ]
  },
  {
   "cell_type": "code",
   "execution_count": 39,
   "metadata": {
    "collapsed": false,
    "scrolled": false
   },
   "outputs": [
    {
     "data": {
      "image/png": "[encoded data removed]",
      "text/plain": [
       "<matplotlib.figure.Figure at 0x117ec9d10>"
      ]
     },
     "metadata": {},
     "output_type": "display_data"
    },
    {
     "data": {
      "image/png": "[encoded data removed]",
      "text/plain": [
       "<matplotlib.figure.Figure at 0x11763a050>"
      ]
     },
     "metadata": {},
     "output_type": "display_data"
    },
    {
     "data": {
      "image/png": "[encoded data removed]",
      "text/plain": [
       "<matplotlib.figure.Figure at 0x117eefc90>"
      ]
     },
     "metadata": {},
     "output_type": "display_data"
    }
   ],
   "source": [
    "# with the bagging classifier \n",
    "\n",
    "for name, s in low5.iterrows():\n",
    "    \n",
    "    plt.figure( figsize=(10,3) )\n",
    "\n",
    "    plt.subplot( 1, 3, 1 ) \n",
    "    pcc = pearsonr( s.y, s.predictions )[0].round( 2 )  \n",
    "    plt.title( '{} {} {}\\n{} PCC={}'.format( s.constant, s.feature, s.ascending, s.classifier_short_name, pcc ) )\n",
    "    plt.scatter( s.y, s.predictions, linewidths=0, color='k', marker='.' ) \n",
    "    \n",
    "    plt.subplot( 1, 3, 2 )\n",
    "    plt.hist( X ) \n",
    "    plt.xlabel( s.feature ) \n",
    "\n",
    "    plt.show()\n",
    "    #plt.close()\n",
    "\n"
   ]
  },
  {
   "cell_type": "code",
   "execution_count": 27,
   "metadata": {
    "collapsed": false,
    "scrolled": false
   },
   "outputs": [
    {
     "data": {
      "image/png": "[encoded data removed]",
      "text/plain": [
       "<matplotlib.figure.Figure at 0x10b3e92d0>"
      ]
     },
     "metadata": {},
     "output_type": "display_data"
    },
    {
     "data": {
      "image/png": "[encoded data removed]",
      "text/plain": [
       "<matplotlib.figure.Figure at 0x10b6f1ed0>"
      ]
     },
     "metadata": {},
     "output_type": "display_data"
    },
    {
     "data": {
      "image/png": "[encoded data removed]",
      "text/plain": [
       "<matplotlib.figure.Figure at 0x10b455590>"
      ]
     },
     "metadata": {},
     "output_type": "display_data"
    },
    {
     "data": {
      "image/png": "[encoded data removed]",
      "text/plain": [
       "<matplotlib.figure.Figure at 0x10bcd6310>"
      ]
     },
     "metadata": {},
     "output_type": "display_data"
    },
    {
     "data": {
      "image/png": "[encoded data removed]",
      "text/plain": [
       "<matplotlib.figure.Figure at 0x10bcd6710>"
      ]
     },
     "metadata": {},
     "output_type": "display_data"
    },
    {
     "data": {
      "image/png": "[encoded data removed]",
      "text/plain": [
       "<matplotlib.figure.Figure at 0x109cc0810>"
      ]
     },
     "metadata": {},
     "output_type": "display_data"
    },
    {
     "data": {
      "image/png": "[encoded data removed]",
      "text/plain": [
       "<matplotlib.figure.Figure at 0x10bb26dd0>"
      ]
     },
     "metadata": {},
     "output_type": "display_data"
    },
    {
     "data": {
      "image/png": "[encoded data removed]",
      "text/plain": [
       "<matplotlib.figure.Figure at 0x10c080050>"
      ]
     },
     "metadata": {},
     "output_type": "display_data"
    },
    {
     "data": {
      "image/png": "[encoded data removed]",
      "text/plain": [
       "<matplotlib.figure.Figure at 0x10be4c910>"
      ]
     },
     "metadata": {},
     "output_type": "display_data"
    },
    {
     "data": {
      "image/png": "[encoded data removed]",
      "text/plain": [
       "<matplotlib.figure.Figure at 0x10b5e9e90>"
      ]
     },
     "metadata": {},
     "output_type": "display_data"
    },
    {
     "data": {
      "image/png": "[encoded data removed]",
      "text/plain": [
       "<matplotlib.figure.Figure at 0x109fdc150>"
      ]
     },
     "metadata": {},
     "output_type": "display_data"
    },
    {
     "data": {
      "image/png": "[encoded data removed]",
      "text/plain": [
       "<matplotlib.figure.Figure at 0x10bb2ffd0>"
      ]
     },
     "metadata": {},
     "output_type": "display_data"
    },
    {
     "data": {
      "image/png": "[encoded data removed]",
      "text/plain": [
       "<matplotlib.figure.Figure at 0x107ae9c10>"
      ]
     },
     "metadata": {},
     "output_type": "display_data"
    },
    {
     "data": {
      "image/png": "[encoded data removed]",
      "text/plain": [
       "<matplotlib.figure.Figure at 0x10b83b710>"
      ]
     },
     "metadata": {},
     "output_type": "display_data"
    },
    {
     "data": {
      "image/png": "[encoded data removed]",
      "text/plain": [
       "<matplotlib.figure.Figure at 0x10b83b8d0>"
      ]
     },
     "metadata": {},
     "output_type": "display_data"
    }
   ],
   "source": [
    "# without the bagging classifier \n",
    "\n",
    "for name, s in low5.iterrows():\n",
    "\n",
    "    pcc = pearsonr( s.y, s.predictions )[0].round( 2 )  \n",
    "    plt.figure( figsize=(3,3) ) \n",
    "    plt.title( '{} {} {}\\n{} PCC={}'.format( s.constant, s.feature, s.ascending, s.classifier_short_name, pcc ) )\n",
    "    plt.scatter( s.y, s.predictions, marker='.' ) \n",
    "    plt.show()\n"
   ]
  },
  {
   "cell_type": "markdown",
   "metadata": {},
   "source": [
    "## Additional features\n",
    "\n",
    "### Distance from active site "
   ]
  },
  {
   "cell_type": "code",
   "execution_count": 41,
   "metadata": {
    "collapsed": false,
    "scrolled": false
   },
   "outputs": [],
   "source": [
    "# add distance from active site as a feature for every possible mutation  \n",
    "\n",
    "from Bio.PDB.PDBParser import PDBParser \n",
    "from Bio.SeqUtils import IUPACData\n",
    "\n",
    "parser = PDBParser()\n",
    "structure = parser.get_structure( 'bglb', 'bglb.pdb' )\n",
    "\n",
    "ligand = structure[0]['X']\n",
    "for i in ligand:\n",
    "    ligand_centroid = i['C5'] \n",
    "\n",
    "chain_a = structure[0]['A']\n",
    "    \n",
    "l = []\n",
    "for i in range( 1, 445 ):\n",
    "    res = chain_a[ i ]\n",
    "    n = IUPACData.protein_letters_3to1[ res.get_resname().capitalize() ] \n",
    "    atom_1 = res['CA']\n",
    "    distance = atom_1 - ligand_centroid\n",
    "    for aa in IUPACData.protein_letters:\n",
    "        l.append( ( '{}{}{}'.format( n, i, aa.upper() ), distance ) ) \n",
    "    \n",
    "df = pandas.DataFrame( l, columns=[ 'name', 'distance' ] )  \n",
    "\n",
    "\n",
    "df.to_csv( 'data_sets/distance_from_active_site.csv' ) "
   ]
  },
  {
   "cell_type": "markdown",
   "metadata": {
    "collapsed": true
   },
   "source": [
    "## Stratch "
   ]
  },
  {
   "cell_type": "code",
   "execution_count": 31,
   "metadata": {
    "collapsed": false,
    "scrolled": false
   },
   "outputs": [
    {
     "name": "stdout",
     "output_type": "stream",
     "text": [
      "Fitting 3 folds for each of 18 candidates, totalling 54 fits\n",
      "[CV] features__pca__n_components=1, svm__C=0.1, features__univ_select__k=1 \n",
      "[CV]  features__pca__n_components=1, svm__C=0.1, features__univ_select__k=1, score=0.960784 -   0.0s\n",
      "[CV] features__pca__n_components=1, svm__C=0.1, features__univ_select__k=1 \n",
      "[CV]  features__pca__n_components=1, svm__C=0.1, features__univ_select__k=1, score=0.901961 -   0.0s\n",
      "[CV] features__pca__n_components=1, svm__C=0.1, features__univ_select__k=1 \n",
      "[CV]  features__pca__n_components=1, svm__C=0.1, features__univ_select__k=1, score=0.979167 -   0.0s\n",
      "[CV] features__pca__n_components=1, svm__C=1, features__univ_select__k=1 \n",
      "[CV]  features__pca__n_components=1, svm__C=1, features__univ_select__k=1, score=0.941176 -   0.0s"
     ]
    },
    {
     "name": "stderr",
     "output_type": "stream",
     "text": [
      "[Parallel(n_jobs=1)]: Done   1 tasks       | elapsed:    0.0s\n",
      "[Parallel(n_jobs=1)]: Done   4 tasks       | elapsed:    0.1s\n",
      "[Parallel(n_jobs=1)]: Done   7 tasks       | elapsed:    0.1s\n"
     ]
    },
    {
     "name": "stdout",
     "output_type": "stream",
     "text": [
      "\n",
      "[CV] features__pca__n_components=1, svm__C=1, features__univ_select__k=1 \n",
      "[CV]  features__pca__n_components=1, svm__C=1, features__univ_select__k=1, score=0.921569 -   0.0s\n",
      "[CV] features__pca__n_components=1, svm__C=1, features__univ_select__k=1 \n",
      "[CV]  features__pca__n_components=1, svm__C=1, features__univ_select__k=1, score=0.979167 -   0.0s\n",
      "[CV] features__pca__n_components=1, svm__C=10, features__univ_select__k=1 \n",
      "[CV]  features__pca__n_components=1, svm__C=10, features__univ_select__k=1, score=0.960784 -   0.0s\n",
      "[CV] features__pca__n_components=1, svm__C=10, features__univ_select__k=1 \n",
      "[CV]  features__pca__n_components=1, svm__C=10, features__univ_select__k=1, score=0.921569 -   0.0s\n",
      "[CV] features__pca__n_components=1, svm__C=10, features__univ_select__k=1 \n",
      "[CV]  features__pca__n_components=1, svm__C=10, features__univ_select__k=1, score=0.979167 -   0.0s\n",
      "[CV] features__pca__n_components=1, svm__C=0.1, features__univ_select__k=2 \n",
      "[CV]  features__pca__n_components=1, svm__C=0.1, features__univ_select__k=2, score=0.960784 -   0.0s\n",
      "[CV] features__pca__n_components=1, svm__C=0.1, features__univ_select__k=2 \n",
      "[CV]  features__pca__n_components=1, svm__C=0.1, features__univ_select__k=2, score=0.921569 -   0.0s\n",
      "[CV] features__pca__n_components=1, svm__C=0.1, features__univ_select__k=2 \n",
      "[CV]  features__pca__n_components=1, svm__C=0.1, features__univ_select__k=2, score=0.979167 -   0.0s\n",
      "[CV] features__pca__n_components=1, svm__C=1, features__univ_select__k=2 \n",
      "[CV]  features__pca__n_components=1, svm__C=1, features__univ_select__k=2, score=0.960784 -   0.0s\n",
      "[CV] features__pca__n_components=1, svm__C=1, features__univ_select__k=2 \n",
      "[CV]  features__pca__n_components=1, svm__C=1, features__univ_select__k=2, score=0.921569 -   0.0s\n",
      "[CV] features__pca__n_components=1, svm__C=1, features__univ_select__k=2 \n",
      "[CV]  features__pca__n_components=1, svm__C=1, features__univ_select__k=2, score=1.000000 -   0.0s\n",
      "[CV] features__pca__n_components=1, svm__C=10, features__univ_select__k=2 \n",
      "[CV]  features__pca__n_components=1, svm__C=10, features__univ_select__k=2, score=0.980392 -   0.0s\n",
      "[CV] features__pca__n_components=1, svm__C=10, features__univ_select__k=2 \n",
      "[CV]  features__pca__n_components=1, svm__C=10, features__univ_select__k=2, score=0.901961 -   0.0s\n",
      "[CV] features__pca__n_components=1, svm__C=10, features__univ_select__k=2 \n",
      "[CV]  features__pca__n_components=1, svm__C=10, features__univ_select__k=2, score=1.000000 -   0.0s\n",
      "[CV] features__pca__n_components=2, svm__C=0.1, features__univ_select__k=1 \n",
      "[CV]  features__pca__n_components=2, svm__C=0.1, features__univ_select__k=1, score=0.960784 -   0.0s\n",
      "[CV] features__pca__n_components=2, svm__C=0.1, features__univ_select__k=1 \n",
      "[CV]  features__pca__n_components=2, svm__C=0.1, features__univ_select__k=1, score=0.901961 -   0.0s\n",
      "[CV] features__pca__n_components=2, svm__C=0.1, features__univ_select__k=1 \n",
      "[CV]  features__pca__n_components=2, svm__C=0.1, features__univ_select__k=1, score=0.979167 -   0.0s\n",
      "[CV] features__pca__n_components=2, svm__C=1, features__univ_select__k=1 \n",
      "[CV]  features__pca__n_components=2, svm__C=1, features__univ_select__k=1, score=0.980392 -   0.0s"
     ]
    },
    {
     "name": "stderr",
     "output_type": "stream",
     "text": [
      "[Parallel(n_jobs=1)]: Done  12 tasks       | elapsed:    0.1s\n",
      "[Parallel(n_jobs=1)]: Done  17 tasks       | elapsed:    0.2s\n",
      "[Parallel(n_jobs=1)]: Done  24 tasks       | elapsed:    0.2s\n"
     ]
    },
    {
     "name": "stdout",
     "output_type": "stream",
     "text": [
      "\n",
      "[CV] features__pca__n_components=2, svm__C=1, features__univ_select__k=1 \n",
      "[CV]  features__pca__n_components=2, svm__C=1, features__univ_select__k=1, score=0.941176 -   0.0s\n",
      "[CV] features__pca__n_components=2, svm__C=1, features__univ_select__k=1 \n",
      "[CV]  features__pca__n_components=2, svm__C=1, features__univ_select__k=1, score=0.979167 -   0.0s\n",
      "[CV] features__pca__n_components=2, svm__C=10, features__univ_select__k=1 \n",
      "[CV]  features__pca__n_components=2, svm__C=10, features__univ_select__k=1, score=0.980392 -   0.0s\n",
      "[CV] features__pca__n_components=2, svm__C=10, features__univ_select__k=1 \n",
      "[CV]  features__pca__n_components=2, svm__C=10, features__univ_select__k=1, score=0.941176 -   0.0s\n",
      "[CV] features__pca__n_components=2, svm__C=10, features__univ_select__k=1 \n",
      "[CV]  features__pca__n_components=2, svm__C=10, features__univ_select__k=1, score=0.979167 -   0.0s\n",
      "[CV] features__pca__n_components=2, svm__C=0.1, features__univ_select__k=2 \n",
      "[CV]  features__pca__n_components=2, svm__C=0.1, features__univ_select__k=2, score=0.980392 -   0.0s\n",
      "[CV] features__pca__n_components=2, svm__C=0.1, features__univ_select__k=2 \n",
      "[CV]  features__pca__n_components=2, svm__C=0.1, features__univ_select__k=2, score=0.941176 -   0.0s\n",
      "[CV] features__pca__n_components=2, svm__C=0.1, features__univ_select__k=2 \n",
      "[CV]  features__pca__n_components=2, svm__C=0.1, features__univ_select__k=2, score=0.979167 -   0.0s\n",
      "[CV] features__pca__n_components=2, svm__C=1, features__univ_select__k=2 \n",
      "[CV]  features__pca__n_components=2, svm__C=1, features__univ_select__k=2, score=1.000000 -   0.0s\n",
      "[CV] features__pca__n_components=2, svm__C=1, features__univ_select__k=2 \n",
      "[CV]  features__pca__n_components=2, svm__C=1, features__univ_select__k=2, score=0.960784 -   0.0s\n",
      "[CV] features__pca__n_components=2, svm__C=1, features__univ_select__k=2 \n",
      "[CV]  features__pca__n_components=2, svm__C=1, features__univ_select__k=2, score=0.979167 -   0.0s\n",
      "[CV] features__pca__n_components=2, svm__C=10, features__univ_select__k=2 \n",
      "[CV]  features__pca__n_components=2, svm__C=10, features__univ_select__k=2, score=0.980392 -   0.0s\n",
      "[CV] features__pca__n_components=2, svm__C=10, features__univ_select__k=2 \n",
      "[CV]  features__pca__n_components=2, svm__C=10, features__univ_select__k=2, score=0.921569 -   0.0s\n",
      "[CV] features__pca__n_components=2, svm__C=10, features__univ_select__k=2 \n",
      "[CV]  features__pca__n_components=2, svm__C=10, features__univ_select__k=2, score=1.000000 -   0.0s\n",
      "[CV] features__pca__n_components=3, svm__C=0.1, features__univ_select__k=1 \n",
      "[CV]  features__pca__n_components=3, svm__C=0.1, features__univ_select__k=1, score=0.980392 -   0.0s\n",
      "[CV] features__pca__n_components=3, svm__C=0.1, features__univ_select__k=1 \n",
      "[CV]  features__pca__n_components=3, svm__C=0.1, features__univ_select__k=1, score=0.941176 -   0.0s\n",
      "[CV] features__pca__n_components=3, svm__C=0.1, features__univ_select__k=1 "
     ]
    },
    {
     "name": "stderr",
     "output_type": "stream",
     "text": [
      "[Parallel(n_jobs=1)]: Done  31 tasks       | elapsed:    0.3s\n",
      "[Parallel(n_jobs=1)]: Done  40 tasks       | elapsed:    0.4s\n"
     ]
    },
    {
     "name": "stdout",
     "output_type": "stream",
     "text": [
      "\n",
      "[CV]  features__pca__n_components=3, svm__C=0.1, features__univ_select__k=1, score=0.979167 -   0.0s\n",
      "[CV] features__pca__n_components=3, svm__C=1, features__univ_select__k=1 \n",
      "[CV]  features__pca__n_components=3, svm__C=1, features__univ_select__k=1, score=1.000000 -   0.0s\n",
      "[CV] features__pca__n_components=3, svm__C=1, features__univ_select__k=1 \n",
      "[CV]  features__pca__n_components=3, svm__C=1, features__univ_select__k=1, score=0.941176 -   0.0s\n",
      "[CV] features__pca__n_components=3, svm__C=1, features__univ_select__k=1 \n",
      "[CV]  features__pca__n_components=3, svm__C=1, features__univ_select__k=1, score=0.979167 -   0.0s\n",
      "[CV] features__pca__n_components=3, svm__C=10, features__univ_select__k=1 \n",
      "[CV]  features__pca__n_components=3, svm__C=10, features__univ_select__k=1, score=1.000000 -   0.0s\n",
      "[CV] features__pca__n_components=3, svm__C=10, features__univ_select__k=1 \n",
      "[CV]  features__pca__n_components=3, svm__C=10, features__univ_select__k=1, score=0.921569 -   0.0s\n",
      "[CV] features__pca__n_components=3, svm__C=10, features__univ_select__k=1 \n",
      "[CV]  features__pca__n_components=3, svm__C=10, features__univ_select__k=1, score=1.000000 -   0.0s\n",
      "[CV] features__pca__n_components=3, svm__C=0.1, features__univ_select__k=2 \n",
      "[CV]  features__pca__n_components=3, svm__C=0.1, features__univ_select__k=2, score=0.980392 -   0.0s\n",
      "[CV] features__pca__n_components=3, svm__C=0.1, features__univ_select__k=2 \n",
      "[CV]  features__pca__n_components=3, svm__C=0.1, features__univ_select__k=2, score=0.941176 -   0.0s\n",
      "[CV] features__pca__n_components=3, svm__C=0.1, features__univ_select__k=2 \n",
      "[CV]  features__pca__n_components=3, svm__C=0.1, features__univ_select__k=2, score=0.979167 -   0.0s\n",
      "[CV] features__pca__n_components=3, svm__C=1, features__univ_select__k=2 \n",
      "[CV]  features__pca__n_components=3, svm__C=1, features__univ_select__k=2, score=1.000000 -   0.0s\n",
      "[CV] features__pca__n_components=3, svm__C=1, features__univ_select__k=2 \n",
      "[CV]  features__pca__n_components=3, svm__C=1, features__univ_select__k=2, score=0.960784 -   0.0s\n",
      "[CV] features__pca__n_components=3, svm__C=1, features__univ_select__k=2 \n",
      "[CV]  features__pca__n_components=3, svm__C=1, features__univ_select__k=2, score=0.979167 -   0.0s\n",
      "[CV] features__pca__n_components=3, svm__C=10, features__univ_select__k=2 \n",
      "[CV]  features__pca__n_components=3, svm__C=10, features__univ_select__k=2, score=1.000000 -   0.0s\n",
      "[CV] features__pca__n_components=3, svm__C=10, features__univ_select__k=2 \n",
      "[CV]  features__pca__n_components=3, svm__C=10, features__univ_select__k=2, score=0.921569 -   0.0s\n",
      "[CV] features__pca__n_components=3, svm__C=10, features__univ_select__k=2 \n",
      "[CV]  features__pca__n_components=3, svm__C=10, features__univ_select__k=2, score=1.000000 -   0.0s\n",
      "Pipeline(steps=[('features', FeatureUnion(n_jobs=1,\n",
      "       transformer_list=[('pca', PCA(copy=True, n_components=2, whiten=False)), ('univ_select', SelectKBest(k=2, score_func=<function f_classif at 0x1087fa5f0>))],\n",
      "       transformer_weights=None)), ('svm', SVC(C=1, cache_size=200, class_weight=None, coef0=0.0,\n",
      "  decision_function_shape=None, degree=3, gamma='auto', kernel='linear',\n",
      "  max_iter=-1, probability=False, random_state=None, shrinking=True,\n",
      "  tol=0.001, verbose=False))])\n"
     ]
    },
    {
     "name": "stderr",
     "output_type": "stream",
     "text": [
      "[Parallel(n_jobs=1)]: Done  49 tasks       | elapsed:    0.5s\n",
      "[Parallel(n_jobs=1)]: Done  54 out of  54 | elapsed:    0.5s finished\n"
     ]
    }
   ],
   "source": [
    "# Author: Andreas Mueller <amueller@ais.uni-bonn.de>\n",
    "#\n",
    "# License: BSD 3 clause\n",
    "\n",
    "from sklearn.pipeline import Pipeline, FeatureUnion\n",
    "from sklearn.grid_search import GridSearchCV\n",
    "from sklearn.svm import SVC\n",
    "from sklearn.datasets import load_iris\n",
    "from sklearn.decomposition import PCA\n",
    "from sklearn.feature_selection import SelectKBest\n",
    "\n",
    "iris = load_iris()\n",
    "\n",
    "X, y = iris.data, iris.target\n",
    "\n",
    "# This dataset is way to high-dimensional. Better do PCA:\n",
    "pca = PCA(n_components=2)\n",
    "\n",
    "# Maybe some original features where good, too?\n",
    "selection = SelectKBest(k=1)\n",
    "\n",
    "# Build estimator from PCA and Univariate selection:\n",
    "\n",
    "combined_features = FeatureUnion([(\"pca\", pca), (\"univ_select\", selection)])\n",
    "\n",
    "# Use combined features to transform dataset:\n",
    "X_features = combined_features.fit(X, y).transform(X)\n",
    "\n",
    "svm = SVC(kernel=\"linear\")\n",
    "\n",
    "# Do grid search over k, n_components and C:\n",
    "\n",
    "pipeline = Pipeline([(\"features\", combined_features), (\"svm\", svm)])\n",
    "\n",
    "param_grid = dict(features__pca__n_components=[1, 2, 3],\n",
    "                  features__univ_select__k=[1, 2],\n",
    "                  svm__C=[0.1, 1, 10])\n",
    "\n",
    "grid_search = GridSearchCV(pipeline, param_grid=param_grid, verbose=10)\n",
    "grid_search.fit(X, y)\n",
    "print(grid_search.best_estimator_)"
   ]
  },
  {
   "cell_type": "code",
   "execution_count": 176,
   "metadata": {
    "collapsed": false
   },
   "outputs": [],
   "source": [
    "# clean try at it (what?)"
   ]
  },
  {
   "cell_type": "code",
   "execution_count": 199,
   "metadata": {
    "collapsed": false
   },
   "outputs": [
    {
     "name": "stdout",
     "output_type": "stream",
     "text": [
      "        distance\n",
      "name            \n",
      "D288G  21.533550\n",
      "C54L   17.077085\n",
      "R385R  23.580620\n",
      "L171F  12.435019\n",
      "L434M  22.921677\n",
      "        distance\n",
      "name            \n",
      "H328T  17.296524\n",
      "P319F  20.129499\n",
      "K442Y  28.076277\n",
      "Q69Q   25.309523\n",
      "T2E    29.248558\n",
      "8880 rows\n"
     ]
    }
   ],
   "source": [
    "# features \n",
    "\n",
    "f = pandas.DataFrame()\n",
    "\n",
    "# distance from active site \n",
    "\n",
    "distance_features = pandas.read_csv( 'data_sets/distance_from_active_site.csv', index_col=0 ) \n",
    "distance_features.set_index( 'name', inplace=True ) \n",
    "\n",
    "print distance_features.sample( 5 ) \n",
    "\n",
    "f['distance'] = distance_features.distance\n",
    "\n",
    "print f.sample( 5 ) \n",
    "print len( f ), 'rows'"
   ]
  },
  {
   "cell_type": "code",
   "execution_count": 200,
   "metadata": {
    "collapsed": false
   },
   "outputs": [
    {
     "name": "stdout",
     "output_type": "stream",
     "text": [
      "        distance  blosum62\n",
      "name                      \n",
      "Y295I   8.555000        -1\n",
      "D55K   19.611868        -1\n",
      "A192W  16.758543        -3\n",
      "F332D  15.382276        -3\n",
      "S169N  13.790542         1\n",
      "8880 rows\n"
     ]
    }
   ],
   "source": [
    "# blosum scores from flat file \n",
    "# ftp://ftp.ncbi.nih.gov/blast/matrices/BLOSUM62\n",
    "\n",
    "bsm = pandas.read_csv( 'blosum62.txt', sep='\\s+', index_col=0 ) \n",
    "f['blosum62'] = [ bsm[ i[0] ][ i[-1] ] for i in f.index ]\n",
    "print f.sample( 5 ) \n",
    "print len( f ), 'rows' "
   ]
  },
  {
   "cell_type": "code",
   "execution_count": 201,
   "metadata": {
    "collapsed": false
   },
   "outputs": [
    {
     "name": "stdout",
     "output_type": "stream",
     "text": [
      "68\n"
     ]
    }
   ],
   "source": [
    "# ddg_monomer features \n",
    "\n",
    "ddg = pandas.read_csv( '/Users/alex/Documents/bagel-thermostability/protocols/results/apo_kellogg.out', sep='\\s+', index_col='description' ).drop( 'ddG:', axis=1 )\n",
    "f = f.join( ddg ).dropna()\n",
    "print len( f ) "
   ]
  },
  {
   "cell_type": "code",
   "execution_count": 202,
   "metadata": {
    "collapsed": false
   },
   "outputs": [],
   "source": [
    "# enzyme design features \n",
    "\n",
    "enzdes = pandas.read_csv( 'data_sets/scorefile.csv', index_col=0 )\n",
    "enzdes = enzdes.groupby( 'name' ).apply( lambda x : x.head(10).mean() ) \n",
    "\n",
    "#enzdes.groupby( 'name' ).mean() \n",
    "#enzdes.set_index( 'name', inplace=True ) \n",
    "# = f.join( enzdes, rsuffix='_enzdes' ).dropna() #\n",
    "#print len( f )"
   ]
  },
  {
   "cell_type": "code",
   "execution_count": 204,
   "metadata": {
    "collapsed": false
   },
   "outputs": [
    {
     "name": "stderr",
     "output_type": "stream",
     "text": [
      "/usr/local/bin/anaconda/lib/python2.7/site-packages/ipykernel/__main__.py:1: FutureWarning: using '-' to provide set differences with Indexes is deprecated, use .difference()\n",
      "  if __name__ == '__main__':\n"
     ]
    },
    {
     "data": {
      "text/plain": [
       "Index([u'E164A', u'E164G', u'E164R', u'E353A', u'G174R', u'L122E', u'L122N',\n",
       "       u'L402C', u'R297F', u'S169P', u'Y295A', u'Y295G', u'Y75H'],\n",
       "      dtype='object')"
      ]
     },
     "execution_count": 204,
     "metadata": {},
     "output_type": "execute_result"
    }
   ],
   "source": [
    "f.index - enzdes.index"
   ]
  },
  {
   "cell_type": "code",
   "execution_count": 223,
   "metadata": {
    "collapsed": false
   },
   "outputs": [
    {
     "data": {
      "text/plain": [
       "8900"
      ]
     },
     "execution_count": 223,
     "metadata": {},
     "output_type": "execute_result"
    }
   ],
   "source": [
    "import screed \n",
    "\n",
    "complete_list = []\n",
    "\n",
    "for record in screed.open( 'bglb.fasta' ):\n",
    "    for index, letter in enumerate( record.sequence ):\n",
    "        for new_letter in 'ACDEFGHIKLMNPQRSTVWY':\n",
    "            complete_list.append( letter + str( index + 1 ) + new_letter )\n",
    "            \n",
    "len( complete_list ) "
   ]
  },
  {
   "cell_type": "code",
   "execution_count": 224,
   "metadata": {
    "collapsed": false
   },
   "outputs": [],
   "source": [
    "lis = pandas.read_csv( 'mutant_list', header=None, names=['name'], index_col=0 ) \n",
    "\n",
    "d = f.index.difference( enzdes.index ).difference( lis.index ) "
   ]
  },
  {
   "cell_type": "code",
   "execution_count": 226,
   "metadata": {
    "collapsed": false
   },
   "outputs": [
    {
     "name": "stdout",
     "output_type": "stream",
     "text": [
      "True\n",
      "True\n",
      "True\n",
      "True\n",
      "True\n",
      "True\n",
      "True\n"
     ]
    }
   ],
   "source": [
    "for m in d:\n",
    "    print m in complete_list \n"
   ]
  },
  {
   "cell_type": "code",
   "execution_count": 181,
   "metadata": {
    "collapsed": false,
    "scrolled": true
   },
   "outputs": [
    {
     "name": "stdout",
     "output_type": "stream",
     "text": [
      "50\n"
     ]
    }
   ],
   "source": [
    "# join with experimental \n",
    "\n",
    "# read in data \n",
    "# clean up data \n",
    "\n",
    "import pandas \n",
    "\n",
    "df = pandas.read_csv( 'data_sets/expression_cat.csv' ) \n",
    "df['expression'] = ( df.expression + 0.5 ) // 1 \n",
    "df.dropna( inplace=True ) \n",
    "df.set_index( 'name', inplace=True ) \n",
    "\n",
    "J = f.join( df ).dropna() \n",
    "J.to_csv( 'J.csv' ) \n",
    "print len( J ) \n",
    "\n",
    "# select features \n",
    "\n",
    "select = ['distance', 'blosum62', 'total', 'fa_atr', 'fa_rep', 'fa_sol', 'fa_intra_rep', 'fa_elec', 'pro_close', 'hbond_sr_bb', 'hbond_lr_bb', 'hbond_bb_sc', 'hbond_sc', 'dslf_fa13', 'coordinate_constraint', 'angle_constraint', 'dihedral_constraint', 'rama', 'omega', 'fa_dun', 'p_aa_pp', 'ref', 'chainbreak', 'res_type_constraint', 'total_score', 'fa_rep_enzdes', 'hbond_sc_enzdes', 'all_cst', 'tot_pstat_pm', 'tot_nlpstat_pm', 'tot_burunsat_pm', 'tot_hbond_pm', 'tot_NLconts_pm', 'tot_nlsurfaceE_pm', 'tot_total_charge', 'tot_total_pos_charges', 'tot_total_neg_charges', 'tot_seq_recovery', 'SR_1', 'SR_1_total_score', 'SR_1_fa_rep', 'SR_1_hbond_sc', 'SR_1_all_cst', 'SR_1_hbond_pm', 'SR_1_burunsat_pm', 'SR_1_pstat_pm', 'SR_1_nlpstat_pm', 'SR_2', 'SR_2_total_score', 'SR_2_fa_rep', 'SR_2_hbond_sc', 'SR_2_all_cst', 'SR_2_hbond_pm', 'SR_2_burunsat_pm', 'SR_2_pstat_pm', 'SR_2_nlpstat_pm', 'SR_3', 'SR_3_total_score', 'SR_3_fa_rep', 'SR_3_hbond_sc', 'SR_3_all_cst', 'SR_3_hbond_pm', 'SR_3_burunsat_pm', 'SR_3_pstat_pm', 'SR_3_nlpstat_pm', 'SR_4', 'SR_4_total_score', 'SR_4_fa_rep', 'SR_4_hbond_sc', 'SR_4_all_cst', 'SR_4_hbond_pm', 'SR_4_burunsat_pm', 'SR_4_pstat_pm', 'SR_4_nlpstat_pm', 'SR_5', 'SR_5_total_score', 'SR_5_fa_rep', 'SR_5_hbond_sc', 'SR_5_all_cst', 'SR_5_interf_E_1_2', 'SR_5_dsasa_1_2', 'SR_5_hbond_pm', 'SR_5_burunsat_pm']\n",
    "X = J[ select ] \n",
    "y = J[ 'expression' ] \n",
    "\n",
    "# plot all the features against experimental data \n",
    "\n",
    "# %matplotlib inline\n",
    "# import matplotlib.pyplot as plt \n",
    "\n",
    "# for feature in X.columns:\n",
    "#     plt.figure( figsize=( 3, 3 ) )\n",
    "#     plt.scatter( X[ feature ], y )\n",
    "#     plt.xlabel( feature ) \n",
    "#     plt.ylabel( 'SDS-PAGE' ) \n",
    "#     plt.show()\n"
   ]
  },
  {
   "cell_type": "code",
   "execution_count": 237,
   "metadata": {
    "collapsed": false
   },
   "outputs": [
    {
     "name": "stdout",
     "output_type": "stream",
     "text": [
      "CV accuracy: 0.800 +/- 0.000\n"
     ]
    },
    {
     "data": {
      "image/png": "[encoded data removed]",
      "text/plain": [
       "<matplotlib.figure.Figure at 0x117607790>"
      ]
     },
     "metadata": {},
     "output_type": "display_data"
    }
   ],
   "source": [
    "import numpy as np \n",
    "from sklearn.grid_search import GridSearchCV, RandomizedSearchCV\n",
    "from sklearn.cross_validation import cross_val_score, cross_val_predict\n",
    "from sklearn.metrics import roc_curve, roc_auc_score\n",
    "from sklearn.pipeline import Pipeline\n",
    "from sklearn.preprocessing import StandardScaler\n",
    "from sklearn.svm import SVC\n",
    "\n",
    "pipe_svc = Pipeline([\n",
    "    ( 'scl', StandardScaler() ),\n",
    "    ( 'clf', SVC() )\n",
    "])\n",
    "\n",
    "param_range = [ 0.001, 0.01, 0.1, 1., 10., 100. ]\n",
    "\n",
    "param_grid = [\n",
    "    { \n",
    "        'clf__C': param_range, \n",
    "        'clf__kernel': [ 'linear', 'rbf' ], \n",
    "    },\n",
    "        { \n",
    "        'clf__C': param_range, \n",
    "        'clf__gamma': param_range, \n",
    "        'clf__kernel': [ 'rbf' ], \n",
    "    },\n",
    "]\n",
    "\n",
    "gs = GridSearchCV( estimator=pipe_svc, param_grid=param_grid, cv=5 ) \n",
    "\n",
    "#scores = cross_val_score( gs, X, y, scoring='accuracy', cv=5 )\n",
    "print('CV accuracy: %.3f +/- %.3f' % (np.mean(scores), np.std(scores)))\n",
    "\n",
    "predicted = cross_val_predict( gs, X, y, cv=10 )\n",
    "\n",
    "fpr, tpr, __ = roc_curve( y, predicted ) \n",
    "\n",
    "plt.figure( figsize=(4,4) )\n",
    "plt.plot( fpr, tpr ) \n",
    "plt.plot([0, 1], [0, 1], 'k--')\n",
    "plt.xlim([-0.02, 1.02])\n",
    "plt.ylim([-0.02, 1.02])\n",
    "plt.xlabel('False Positive Rate')\n",
    "plt.ylabel('True Positive Rate')\n",
    "plt.title('SVM results')\n",
    "plt.legend( [ 'grid search SVC' ], loc='lower right' )\n",
    "plt.show()"
   ]
  },
  {
   "cell_type": "code",
   "execution_count": 231,
   "metadata": {
    "collapsed": false
   },
   "outputs": [
    {
     "name": "stdout",
     "output_type": "stream",
     "text": [
      "[[ 0 10]\n",
      " [ 0 40]]\n"
     ]
    }
   ],
   "source": [
    "from sklearn.metrics import confusion_matrix\n",
    "from sklearn.cross_validation import StratifiedKFold\n",
    "\n",
    "gs.fit( X, y )\n",
    "y_pred = gs.predict( X )\n",
    "confmat = confusion_matrix(y_true=y, y_pred=y_pred)\n",
    "\n",
    "print(confmat)"
   ]
  },
  {
   "cell_type": "code",
   "execution_count": 233,
   "metadata": {
    "collapsed": false
   },
   "outputs": [
    {
     "data": {
      "text/plain": [
       "8880"
      ]
     },
     "execution_count": 233,
     "metadata": {},
     "output_type": "execute_result"
    }
   ],
   "source": [
    "# OK, let's decide on a list of 1000 mutants to model \n",
    "\n",
    "len( distance_features )"
   ]
  },
  {
   "cell_type": "code",
   "execution_count": null,
   "metadata": {
    "collapsed": true
   },
   "outputs": [],
   "source": []
  }
 ],
 "metadata": {
  "kernelspec": {
   "display_name": "Python 2",
   "language": "python",
   "name": "python2"
  },
  "language_info": {
   "codemirror_mode": {
    "name": "ipython",
    "version": 2
   },
   "file_extension": ".py",
   "mimetype": "text/x-python",
   "name": "python",
   "nbconvert_exporter": "python",
   "pygments_lexer": "ipython2",
   "version": "2.7.11"
  }
 },
 "nbformat": 4,
 "nbformat_minor": 0
}
