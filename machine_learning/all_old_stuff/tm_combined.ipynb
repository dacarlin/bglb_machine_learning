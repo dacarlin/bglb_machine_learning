{
 "cells": [
  {
   "cell_type": "code",
   "execution_count": 1,
   "metadata": {
    "collapsed": true
   },
   "outputs": [],
   "source": [
    "%matplotlib inline \n",
    "import matplotlib.pyplot as plt "
   ]
  },
  {
   "cell_type": "code",
   "execution_count": 2,
   "metadata": {
    "collapsed": false
   },
   "outputs": [
    {
     "data": {
      "text/plain": [
       "Index([u'tot_pstat_pm_enzyme_design', u'helix dipole_foldx',\n",
       "       u'Electrostatics_foldx', u'fa_elec_ddg', u'Van der Waals_foldx',\n",
       "       u'rama_ddg', u'fa_intra_rep_ddg', u'SR_5_hbond_sc_enzyme_design',\n",
       "       u'energy Ionisation_foldx', u'p_aa_pp_ddg',\n",
       "       u'SR_2_hbond_pm_enzyme_design', u'fa_atr_ddg',\n",
       "       u'tot_nlpstat_pm_enzyme_design', u'tot_total_charge_enzyme_design',\n",
       "       u'SR_3_burunsat_pm_enzyme_design',\n",
       "       u'tot_total_pos_charges_enzyme_design', u'torsional clash_foldx',\n",
       "       u'tot_hbond_pm_enzyme_design', u'Solvation Hydrophobic_foldx',\n",
       "       u'fa_sol_ddg', u'Solvation Polar_foldx', u'omega_ddg', u'fa_rep_ddg',\n",
       "       u'tot_total_neg_charges_enzyme_design',\n",
       "       u'tot_burunsat_pm_enzyme_design', u'hbond_sc_enzyme_design',\n",
       "       u'total energy_foldx', u'SR_2_pstat_pm_enzyme_design',\n",
       "       u'SR_1_hbond_pm_enzyme_design', u'SR_4_total_score_enzyme_design',\n",
       "       u'SR_3_nlpstat_pm_enzyme_design', u'SR_5_interf_E_1_2_enzyme_design',\n",
       "       u'yhh_planarity_ddg', u'total_ddg', u'tot_nlsurfaceE_pm_enzyme_design',\n",
       "       u'SR_1_total_score_enzyme_design', u'SR_5_fa_rep_enzyme_design',\n",
       "       u'SR_1_fa_rep_enzyme_design', u'SR_1_nlpstat_pm_enzyme_design',\n",
       "       u'Van der Waals clashes_foldx', u'SR_2_nlpstat_pm_enzyme_design',\n",
       "       u'entropy mainchain_foldx', u'hbond_bb_sc_ddg',\n",
       "       u'electrostatic kon_foldx', u'SR_1_burunsat_pm_enzyme_design',\n",
       "       u'hbond_sc_ddg', u'SR_4_pstat_pm_enzyme_design',\n",
       "       u'SR_4_hbond_pm_enzyme_design', u'SR_2_total_score_enzyme_design',\n",
       "       u'total_score_enzyme_design', u'entropy sidechain_foldx',\n",
       "       u'tot_NLconts_pm_enzyme_design', u'SR_2_fa_rep_enzyme_design',\n",
       "       u'backbone clash_foldx', u'fa_rep_enzyme_design',\n",
       "       u'SR_3_hbond_pm_enzyme_design', u'SR_4_burunsat_pm_enzyme_design',\n",
       "       u'SR_1_pstat_pm_enzyme_design', u'SR_5_dsasa_1_2_enzyme_design',\n",
       "       u'SR_3_fa_rep_enzyme_design', u'pro_close_ddg',\n",
       "       u'Sidechain Hbond_foldx', u'SR_5_hbond_pm_enzyme_design', u'fa_dun_ddg',\n",
       "       u'SR_2_burunsat_pm_enzyme_design', u'SR_5_total_score_enzyme_design',\n",
       "       u'SR_4_hbond_sc_enzyme_design', u'SR_3_hbond_sc_enzyme_design',\n",
       "       u'SR_2_hbond_sc_enzyme_design', u'Backbone Hbond_foldx',\n",
       "       u'SR_4_fa_rep_enzyme_design', u'SR_5_burunsat_pm_enzyme_design',\n",
       "       u'SR_1_hbond_sc_enzyme_design', u'SR_4_nlpstat_pm_enzyme_design',\n",
       "       u'SR_3_total_score_enzyme_design', u'SR_3_pstat_pm_enzyme_design',\n",
       "       u'tm'],\n",
       "      dtype='object')"
      ]
     },
     "execution_count": 2,
     "metadata": {},
     "output_type": "execute_result"
    }
   ],
   "source": [
    "import pandas \n",
    "\n",
    "df = pandas.read_csv( 'feature_sets/tm_combined.csv', index_col=0 )\n",
    "df.columns"
   ]
  },
  {
   "cell_type": "code",
   "execution_count": 3,
   "metadata": {
    "collapsed": false
   },
   "outputs": [
    {
     "name": "stdout",
     "output_type": "stream",
     "text": [
      "(60, 76)\n",
      "(60,)\n"
     ]
    }
   ],
   "source": [
    "from sklearn import preprocessing, linear_model, cross_validation, ensemble\n",
    "\n",
    "scl = preprocessing.MinMaxScaler()\n",
    "X = scl.fit_transform( df.ix[:,:-1] )\n",
    "#y = scl.fit_transform( df.ix[:,-1].reshape( -1, 1 ) ).ravel()\n",
    "y = df.ix[:,-1].as_matrix().ravel()\n",
    "\n",
    "print X.shape\n",
    "print y.shape "
   ]
  },
  {
   "cell_type": "code",
   "execution_count": 4,
   "metadata": {
    "collapsed": false,
    "scrolled": false
   },
   "outputs": [
    {
     "name": "stderr",
     "output_type": "stream",
     "text": [
      "/usr/local/bin/anaconda/lib/python2.7/site-packages/sklearn/linear_model/coordinate_descent.py:466: ConvergenceWarning: Objective did not converge. You might want to increase the number of iterations\n",
      "  ConvergenceWarning)\n"
     ]
    },
    {
     "data": {
      "text/plain": [
       "<matplotlib.collections.PathCollection at 0x114a31c10>"
      ]
     },
     "execution_count": 4,
     "metadata": {},
     "output_type": "execute_result"
    },
    {
     "data": {
      "image/png": "[encoded data removed]",
      "text/plain": [
       "<matplotlib.figure.Figure at 0x106d26f50>"
      ]
     },
     "metadata": {},
     "output_type": "display_data"
    }
   ],
   "source": [
    "# elastic net \n",
    "\n",
    "param_grid = {\n",
    "    'l1_ratio': [ 0.5, 0.9, .99 ],\n",
    "}\n",
    "\n",
    "clf = linear_model.ElasticNetCV( cv=10, **param_grid )\n",
    "bag = ensemble.BaggingRegressor( clf, n_estimators=10 ) \n",
    "preds = cross_validation.cross_val_predict( bag, X, y ) \n",
    "\n",
    "plt.figure( figsize=( 4,4 ) ) \n",
    "plt.scatter( y, preds, color='k', lw=0 ) "
   ]
  },
  {
   "cell_type": "code",
   "execution_count": 5,
   "metadata": {
    "collapsed": false,
    "scrolled": false
   },
   "outputs": [
    {
     "data": {
      "text/plain": [
       "<matplotlib.collections.PathCollection at 0x114bbe850>"
      ]
     },
     "execution_count": 5,
     "metadata": {},
     "output_type": "execute_result"
    },
    {
     "data": {
      "image/png": "[encoded data removed]",
      "text/plain": [
       "<matplotlib.figure.Figure at 0x10420fad0>"
      ]
     },
     "metadata": {},
     "output_type": "display_data"
    }
   ],
   "source": [
    "new_preds = bag.fit( X, y ).predict( X )\n",
    "plt.figure( figsize=( 4,4 ) ) \n",
    "plt.scatter( y, preds, color='k', lw=0 ) "
   ]
  },
  {
   "cell_type": "code",
   "execution_count": 6,
   "metadata": {
    "collapsed": false
   },
   "outputs": [
    {
     "ename": "AttributeError",
     "evalue": "'ElasticNetCV' object has no attribute 'coef_'",
     "output_type": "error",
     "traceback": [
      "\u001b[0;31m---------------------------------------------------------------------------\u001b[0m",
      "\u001b[0;31mAttributeError\u001b[0m                            Traceback (most recent call last)",
      "\u001b[0;32m<ipython-input-6-bbef1eb87615>\u001b[0m in \u001b[0;36m<module>\u001b[0;34m()\u001b[0m\n\u001b[0;32m----> 1\u001b[0;31m \u001b[0mmy_import\u001b[0m \u001b[0;34m=\u001b[0m \u001b[0mpandas\u001b[0m\u001b[0;34m.\u001b[0m\u001b[0mDataFrame\u001b[0m\u001b[0;34m(\u001b[0m \u001b[0mzip\u001b[0m\u001b[0;34m(\u001b[0m \u001b[0mdf\u001b[0m\u001b[0;34m.\u001b[0m\u001b[0mcolumns\u001b[0m\u001b[0;34m[\u001b[0m\u001b[0;34m:\u001b[0m\u001b[0;34m-\u001b[0m\u001b[0;36m1\u001b[0m\u001b[0;34m]\u001b[0m\u001b[0;34m,\u001b[0m \u001b[0mclf\u001b[0m\u001b[0;34m.\u001b[0m\u001b[0mcoef_\u001b[0m \u001b[0;34m)\u001b[0m \u001b[0;34m)\u001b[0m\u001b[0;34m\u001b[0m\u001b[0m\n\u001b[0m\u001b[1;32m      2\u001b[0m \u001b[0mmy_import\u001b[0m\u001b[0;34m.\u001b[0m\u001b[0mset_index\u001b[0m\u001b[0;34m(\u001b[0m \u001b[0;36m0\u001b[0m\u001b[0;34m,\u001b[0m \u001b[0minplace\u001b[0m\u001b[0;34m=\u001b[0m\u001b[0mTrue\u001b[0m \u001b[0;34m)\u001b[0m\u001b[0;34m\u001b[0m\u001b[0m\n\u001b[1;32m      3\u001b[0m \u001b[0mmy_import\u001b[0m\u001b[0;34m\u001b[0m\u001b[0m\n\u001b[1;32m      4\u001b[0m \u001b[0;31m#my_import = my_import.sort_values()\u001b[0m\u001b[0;34m\u001b[0m\u001b[0;34m\u001b[0m\u001b[0m\n",
      "\u001b[0;31mAttributeError\u001b[0m: 'ElasticNetCV' object has no attribute 'coef_'"
     ]
    }
   ],
   "source": [
    "my_import = pandas.DataFrame( zip( df.columns[:-1], clf.coef_ ) )\n",
    "my_import.set_index( 0, inplace=True ) \n",
    "my_import\n",
    "#my_import = my_import.sort_values() "
   ]
  },
  {
   "cell_type": "code",
   "execution_count": null,
   "metadata": {
    "collapsed": false
   },
   "outputs": [],
   "source": [
    "my_sorted = df.corr()[ 'tm' ].sort_values()"
   ]
  },
  {
   "cell_type": "code",
   "execution_count": null,
   "metadata": {
    "collapsed": false
   },
   "outputs": [],
   "source": [
    "plt.figure( figsize=( 18, 5 ) ) \n",
    "plt.title('Feature importances for predicting Tm from 71 features from\\nFoldX, Rosetta ddG, and RosettaDesign')\n",
    "\n",
    "plt.bar( range( len( my_sorted ) ), my_sorted, color='lightblue',\n",
    "         align='center', lw=0) #, ecolor='k', yerr=st, error_kw=dict(capsize=0) )\n",
    "plt.xticks( range( len( my_sorted ) ), my_sorted.index, rotation=90 )            \n",
    "\n",
    "#plt.ylim( 0, .13 )\n",
    "#plt.xlim( -1, 73 ) \n",
    "plt.tight_layout()\n",
    "plt.show()"
   ]
  },
  {
   "cell_type": "code",
   "execution_count": null,
   "metadata": {
    "collapsed": true
   },
   "outputs": [],
   "source": []
  }
 ],
 "metadata": {
  "kernelspec": {
   "display_name": "Python 2",
   "language": "python",
   "name": "python2"
  },
  "language_info": {
   "codemirror_mode": {
    "name": "ipython",
    "version": 2
   },
   "file_extension": ".py",
   "mimetype": "text/x-python",
   "name": "python",
   "nbconvert_exporter": "python",
   "pygments_lexer": "ipython2",
   "version": "2.7.11"
  }
 },
 "nbformat": 4,
 "nbformat_minor": 0
}
