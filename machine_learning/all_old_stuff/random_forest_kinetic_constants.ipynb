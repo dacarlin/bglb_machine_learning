{
 "cells": [
  {
   "cell_type": "code",
   "execution_count": 18,
   "metadata": {
    "collapsed": true
   },
   "outputs": [],
   "source": [
    "%matplotlib inline\n",
    "\n",
    "from sklearn.preprocessing import StandardScaler\n",
    "from sklearn.ensemble import BaggingRegressor, RandomForestRegressor\n",
    "from sklearn.linear_model import ElasticNet, ElasticNetCV\n",
    "from sklearn.pipeline import Pipeline\n",
    "from sklearn.cross_validation import cross_val_predict, StratifiedKFold\n",
    "from sklearn.grid_search import GridSearchCV\n",
    "from scipy.stats import pearsonr\n",
    "import matplotlib.pyplot as plt \n",
    "import pandas\n",
    "from numpy import log, inf, linspace, arctan, nan"
   ]
  },
  {
   "cell_type": "code",
   "execution_count": 19,
   "metadata": {
    "collapsed": false
   },
   "outputs": [],
   "source": [
    "# clean up experimental data \n",
    "\n",
    "df = pandas.read_csv( 'data_sets/experimental/plos2015.csv', index_col='name' )\n",
    "wt = df.loc[ 'BglB' ]\n",
    "df.drop( [ 'BglB' ], inplace=True )\n",
    "df = log( df / wt )\n",
    "\n",
    "targets = [\n",
    "    ( 'kcat', df.kcat ), \n",
    "    ( 'km', df.km ), \n",
    "    ( 'kcatkm', df.kcatkm ),\n",
    "]\n",
    "\n",
    "# clean up enzyme design features\n",
    "\n",
    "f = pandas.read_csv( 'data_sets/calculated/enzyme_design_talaris_2014.csv' ) \n",
    "f = f.groupby( 'name' ).apply( lambda x: x.mean() ) \n",
    "\n",
    "features = [ \n",
    "    u'total_score', u'fa_rep', u'hbond_sc', u'tot_pstat_pm',\n",
    "    u'tot_nlpstat_pm', u'tot_burunsat_pm', u'tot_hbond_pm',\n",
    "    u'tot_NLconts_pm', u'tot_nlsurfaceE_pm', u'tot_total_charge',\n",
    "    u'tot_total_pos_charges', u'tot_total_neg_charges', u'tot_seq_recovery',\n",
    "    u'SR_1_total_score', u'SR_1_fa_rep', u'SR_1_hbond_sc',\n",
    "    u'SR_1_hbond_pm', u'SR_1_burunsat_pm',\n",
    "    u'SR_1_pstat_pm', u'SR_1_nlpstat_pm', u'SR_2_total_score',\n",
    "    u'SR_2_fa_rep', u'SR_2_hbond_sc', u'SR_2_all_cst', u'SR_2_hbond_pm',\n",
    "    u'SR_2_burunsat_pm', u'SR_2_pstat_pm', u'SR_2_nlpstat_pm',\n",
    "    u'SR_3_total_score', u'SR_3_fa_rep', u'SR_3_hbond_sc', \n",
    "    u'SR_3_hbond_pm', u'SR_3_burunsat_pm', u'SR_3_pstat_pm',\n",
    "    u'SR_3_nlpstat_pm', u'SR_4_total_score', u'SR_4_fa_rep',\n",
    "    u'SR_4_hbond_sc', u'SR_4_hbond_pm',\n",
    "    u'SR_4_burunsat_pm', u'SR_4_pstat_pm', u'SR_4_nlpstat_pm',\n",
    "    u'SR_5_total_score', u'SR_5_fa_rep', u'SR_5_hbond_sc', u'SR_5_all_cst',\n",
    "    u'SR_5_interf_E_1_2', u'SR_5_dsasa_1_2', u'SR_5_hbond_pm',\n",
    "    u'SR_5_burunsat_pm' \n",
    "] "
   ]
  },
  {
   "cell_type": "code",
   "execution_count": 20,
   "metadata": {
    "collapsed": false,
    "scrolled": false
   },
   "outputs": [
    {
     "name": "stdout",
     "output_type": "stream",
     "text": [
      "10,000 estimators\n",
      "10,000 estimators\n",
      "10,000 estimators\n"
     ]
    },
    {
     "data": {
      "image/png": "[encoded data removed]",
      "text/plain": [
       "<matplotlib.figure.Figure at 0x10e557110>"
      ]
     },
     "metadata": {},
     "output_type": "display_data"
    }
   ],
   "source": [
    "plt.figure( figsize=( 9, 3 ) ) \n",
    "\n",
    "for i, ( name, target ) in enumerate( targets ):\n",
    "    \n",
    "    # read in data \n",
    "    J = f.join( target ).replace( [ -inf, inf ], nan ).dropna()\n",
    "    X = J[ features ] \n",
    "    y = J[ name ] \n",
    "    #print len( y ) \n",
    "\n",
    "    # init ML models\n",
    "    pln = Pipeline([\n",
    "        ( 'scaler', StandardScaler() ), \n",
    "        ( 'forest', RandomForestRegressor( n_estimators=10000, n_jobs=-1, verbose=False ) ), \n",
    "    ])\n",
    "    \n",
    "    # cross-validate \n",
    "    preds = cross_val_predict( pln, X, y, cv=10 ) \n",
    "    R = pearsonr( y, preds )  \n",
    "\n",
    "    # plot actual versus predicted for training set \n",
    "    print '10,000 estimators'\n",
    "    plt.subplot( 1, 3, i + 1 ) \n",
    "    plt.scatter( y, preds, marker='.' ) \n",
    "    plt.xlabel( 'Actual' ) \n",
    "    plt.title( '{0} PCC={1:.2f}'.format( name, R[0] ) )"
   ]
  },
  {
   "cell_type": "code",
   "execution_count": null,
   "metadata": {
    "collapsed": true
   },
   "outputs": [],
   "source": []
  }
 ],
 "metadata": {
  "kernelspec": {
   "display_name": "Python 2",
   "language": "python",
   "name": "python2"
  },
  "language_info": {
   "codemirror_mode": {
    "name": "ipython",
    "version": 2
   },
   "file_extension": ".py",
   "mimetype": "text/x-python",
   "name": "python",
   "nbconvert_exporter": "python",
   "pygments_lexer": "ipython2",
   "version": "2.7.11"
  }
 },
 "nbformat": 4,
 "nbformat_minor": 0
}
