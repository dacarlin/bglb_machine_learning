{
 "cells": [
  {
   "cell_type": "code",
   "execution_count": 1,
   "metadata": {
    "collapsed": true
   },
   "outputs": [],
   "source": [
    "%matplotlib inline \n",
    "\n",
    "import pandas \n",
    "from numpy import nan \n",
    "\n",
    "pandas.options.display.max_rows = 1000"
   ]
  },
  {
   "cell_type": "code",
   "execution_count": 2,
   "metadata": {
    "collapsed": false,
    "scrolled": false
   },
   "outputs": [
    {
     "name": "stdout",
     "output_type": "stream",
     "text": [
      "        sequence_pos    tm          why_no_tm   kcat  ekcat    km   ekm  \\\n",
      "mutant                                                                    \n",
      "E222R          222.0   NaN         no protein   42.0    2.0  2.48  0.44   \n",
      "Y295G          295.0   NaN  catalytic residue    NaN    NaN   NaN   NaN   \n",
      "I91E            91.0  39.2                NaN  846.0   35.0  6.71  0.79   \n",
      "C167Q          167.0  38.5                NaN  504.0    6.0  4.92  0.19   \n",
      "N220Y          220.0  41.6                NaN  628.0    0.8  0.40  4.10   \n",
      "\n",
      "            ki    eki    kcatkm  ekcatkm  in_plos_paper  added_later  \\\n",
      "mutant                                                                 \n",
      "E222R      NaN    NaN   17098.0   3148.0              1            0   \n",
      "Y295G      NaN    NaN      10.0      1.0              0            0   \n",
      "I91E       NaN    NaN  126071.0  15714.0              1            0   \n",
      "C167Q   590.71  86.56  102415.0   4149.0              1            0   \n",
      "N220Y      NaN    NaN       NaN      NaN              0            0   \n",
      "\n",
      "        expression gel_number note  \n",
      "mutant                              \n",
      "E222R            0          4  NaN  \n",
      "Y295G            1          3  NaN  \n",
      "I91E             1         10  NaN  \n",
      "C167Q            1         15  NaN  \n",
      "N220Y            1          8  NaN  \n"
     ]
    }
   ],
   "source": [
    "# thermal stability data set \n",
    "\n",
    "th = pandas.read_csv( '../data_sets/experimental/thermo_paper_data_set.csv', index_col=0 ) \n",
    "print th.sample( 5 ) "
   ]
  },
  {
   "cell_type": "code",
   "execution_count": 3,
   "metadata": {
    "collapsed": false
   },
   "outputs": [
    {
     "name": "stdout",
     "output_type": "stream",
     "text": [
      "             total_score   fa_rep  hbond_sc  all_cst  tot_pstat_pm  \\\n",
      "description                                                          \n",
      "I244E           -684.794  286.135   -69.745    0.009         0.688   \n",
      "N404C           -687.356  287.140   -69.739    0.014         0.693   \n",
      "G153A           -570.636  400.463   -69.462    0.008         0.701   \n",
      "R359E           -687.058  286.636   -69.515    0.007         0.693   \n",
      "H379T           -686.408  286.637   -71.097    0.011         0.700   \n",
      "\n",
      "             tot_nlpstat_pm  tot_burunsat_pm  tot_hbond_pm  tot_NLconts_pm  \\\n",
      "description                                                                  \n",
      "I244E                 0.691            153.2         437.7           151.8   \n",
      "N404C                 0.690            150.7         436.8           151.1   \n",
      "G153A                 0.698            152.6         438.1           150.9   \n",
      "R359E                 0.691            151.4         436.9           150.8   \n",
      "H379T                 0.688            146.0         438.0           149.4   \n",
      "\n",
      "             tot_nlsurfaceE_pm        ...         SR_4_nlpstat_pm   SR_5  \\\n",
      "description                           ...                                  \n",
      "I244E                    0.964        ...                   0.856  446.0   \n",
      "N404C                    0.940        ...                   0.858  446.0   \n",
      "G153A                    1.000        ...                   0.911  446.0   \n",
      "R359E                    0.922        ...                   0.855  446.0   \n",
      "H379T                    0.956        ...                   0.872  446.0   \n",
      "\n",
      "             SR_5_total_score  SR_5_fa_rep  SR_5_hbond_sc  SR_5_all_cst  \\\n",
      "description                                                               \n",
      "I244E                  -4.390        1.155         -3.272         0.004   \n",
      "N404C                  -4.487        1.131         -3.262         0.007   \n",
      "G153A                  -4.489        1.113         -3.213         0.003   \n",
      "R359E                  -4.463        1.125         -3.267         0.002   \n",
      "H379T                  -4.572        1.111         -3.356         0.004   \n",
      "\n",
      "             SR_5_interf_E_1_2  SR_5_dsasa_1_2  SR_5_hbond_pm  \\\n",
      "description                                                     \n",
      "I244E                   -8.779           0.906            7.3   \n",
      "N404C                   -8.974           0.904            7.3   \n",
      "G153A                   -8.979           0.905            7.0   \n",
      "R359E                   -8.924           0.906            7.3   \n",
      "H379T                   -9.144           0.903            7.4   \n",
      "\n",
      "             SR_5_burunsat_pm  \n",
      "description                    \n",
      "I244E                     1.0  \n",
      "N404C                     1.0  \n",
      "G153A                     1.0  \n",
      "R359E                     1.0  \n",
      "H379T                     1.0  \n",
      "\n",
      "[5 rows x 59 columns]\n"
     ]
    }
   ],
   "source": [
    "# non_cov features \n",
    "\n",
    "nc = pandas.read_csv( '../data_sets/rosetta/enzyme_design_noncovalent_2.csv' )\n",
    "nc = nc.groupby( 'description' ).apply( lambda x: x.sort_values(by='total_score').head(10).mean() )  \n",
    "print nc.sample( 5 ) "
   ]
  },
  {
   "cell_type": "code",
   "execution_count": 4,
   "metadata": {
    "collapsed": true
   },
   "outputs": [],
   "source": [
    "J = th.join( nc ) # joined = thermo.join( non_covalent ) "
   ]
  },
  {
   "cell_type": "code",
   "execution_count": 5,
   "metadata": {
    "collapsed": false
   },
   "outputs": [
    {
     "name": "stdout",
     "output_type": "stream",
     "text": [
      "        sequence_pos    tm          why_no_tm   kcat  ekcat     km   ekm  \\\n",
      "mutant                                                                     \n",
      "T352A          352.0  38.0                NaN   60.0    2.0  14.26  1.76   \n",
      "N404A          404.0  42.0                NaN    4.0    1.0   9.42  0.42   \n",
      "C167Q          167.0  38.5                NaN  504.0    6.0   4.92  0.19   \n",
      "M221A          221.0   NaN         no protein  547.0   15.0   6.25  0.60   \n",
      "E222K          222.0  38.5                NaN  108.0    3.0   7.22  0.75   \n",
      "E164G          164.0   NaN  catalytic residue    NaN    NaN    NaN   NaN   \n",
      "R76A            76.0   NaN      no expression    NaN    NaN    NaN   NaN   \n",
      "T296E          296.0   NaN                NaN    NaN    NaN    NaN   NaN   \n",
      "N220A          220.0  38.6                NaN  405.0    8.0  10.27  0.68   \n",
      "H119A          119.0  40.2                NaN  143.0   11.0  15.10  3.36   \n",
      "\n",
      "            ki    eki    kcatkm        ...         SR_4_nlpstat_pm   SR_5  \\\n",
      "mutant                                 ...                                  \n",
      "T352A      NaN    NaN    4174.0        ...                   0.861  446.0   \n",
      "N404A      NaN    NaN     393.0        ...                   0.880  446.0   \n",
      "C167Q   590.71  86.56  102415.0        ...                   0.859  446.0   \n",
      "M221A      NaN    NaN   87554.0        ...                   0.854  446.0   \n",
      "E222K      NaN    NaN   14955.0        ...                   0.855  446.0   \n",
      "E164G      NaN    NaN       NaN        ...                   0.822  446.0   \n",
      "R76A       NaN    NaN       NaN        ...                   0.840  446.0   \n",
      "T296E      NaN    NaN       NaN        ...                   0.874  446.0   \n",
      "N220A      NaN    NaN   39425.0        ...                   0.911  446.0   \n",
      "H119A      NaN    NaN    9483.0        ...                   0.866  446.0   \n",
      "\n",
      "        SR_5_total_score  SR_5_fa_rep SR_5_hbond_sc SR_5_all_cst  \\\n",
      "mutant                                                             \n",
      "T352A             -4.326        1.171        -3.153        0.005   \n",
      "N404A             -4.470        1.103        -3.162        0.006   \n",
      "C167Q             -4.501        1.189        -3.044        0.007   \n",
      "M221A             -4.566        1.036        -3.260        0.005   \n",
      "E222K             -5.190        1.165        -3.489        0.003   \n",
      "E164G             -1.258        1.986        -0.964        4.171   \n",
      "R76A              -4.383        1.154        -3.104        0.000   \n",
      "T296E             -4.481        1.133        -3.225        0.006   \n",
      "N220A             -4.579        1.059        -3.374        0.003   \n",
      "H119A             -4.645        1.118        -3.334        0.001   \n",
      "\n",
      "        SR_5_interf_E_1_2  SR_5_dsasa_1_2  SR_5_hbond_pm  SR_5_burunsat_pm  \n",
      "mutant                                                                      \n",
      "T352A              -8.651           0.907            7.1               1.0  \n",
      "N404A              -8.938           0.903            7.1               1.0  \n",
      "C167Q              -8.999           0.911            7.1               1.0  \n",
      "M221A              -9.131           0.903            7.3               1.0  \n",
      "E222K             -10.383           0.961            8.2               1.0  \n",
      "E164G              -2.515           0.900            2.7               0.9  \n",
      "R76A               -8.767           0.904            7.0               1.0  \n",
      "T296E              -8.962           0.909            7.2               1.0  \n",
      "N220A              -9.158           0.883            7.3               1.0  \n",
      "H119A              -9.290           0.906            7.0               1.0  \n",
      "\n",
      "[10 rows x 75 columns]\n"
     ]
    }
   ],
   "source": [
    "print J.sample( 10 ) "
   ]
  },
  {
   "cell_type": "code",
   "execution_count": 6,
   "metadata": {
    "collapsed": false
   },
   "outputs": [
    {
     "data": {
      "text/plain": [
       "Index([u'sequence_pos', u'tm', u'why_no_tm', u'kcat', u'ekcat', u'km', u'ekm',\n",
       "       u'ki', u'eki', u'kcatkm', u'ekcatkm', u'in_plos_paper', u'added_later',\n",
       "       u'expression', u'gel_number', u'note', u'total_score', u'fa_rep',\n",
       "       u'hbond_sc', u'all_cst', u'tot_pstat_pm', u'tot_nlpstat_pm',\n",
       "       u'tot_burunsat_pm', u'tot_hbond_pm', u'tot_NLconts_pm',\n",
       "       u'tot_nlsurfaceE_pm', u'tot_total_charge', u'tot_total_pos_charges',\n",
       "       u'tot_total_neg_charges', u'tot_seq_recovery', u'SR_1',\n",
       "       u'SR_1_total_score', u'SR_1_fa_rep', u'SR_1_hbond_sc', u'SR_1_all_cst',\n",
       "       u'SR_1_hbond_pm', u'SR_1_burunsat_pm', u'SR_1_pstat_pm',\n",
       "       u'SR_1_nlpstat_pm', u'SR_2', u'SR_2_total_score', u'SR_2_fa_rep',\n",
       "       u'SR_2_hbond_sc', u'SR_2_all_cst', u'SR_2_hbond_pm',\n",
       "       u'SR_2_burunsat_pm', u'SR_2_pstat_pm', u'SR_2_nlpstat_pm', u'SR_3',\n",
       "       u'SR_3_total_score', u'SR_3_fa_rep', u'SR_3_hbond_sc', u'SR_3_all_cst',\n",
       "       u'SR_3_hbond_pm', u'SR_3_burunsat_pm', u'SR_3_pstat_pm',\n",
       "       u'SR_3_nlpstat_pm', u'SR_4', u'SR_4_total_score', u'SR_4_fa_rep',\n",
       "       u'SR_4_hbond_sc', u'SR_4_all_cst', u'SR_4_hbond_pm',\n",
       "       u'SR_4_burunsat_pm', u'SR_4_pstat_pm', u'SR_4_nlpstat_pm', u'SR_5',\n",
       "       u'SR_5_total_score', u'SR_5_fa_rep', u'SR_5_hbond_sc', u'SR_5_all_cst',\n",
       "       u'SR_5_interf_E_1_2', u'SR_5_dsasa_1_2', u'SR_5_hbond_pm',\n",
       "       u'SR_5_burunsat_pm'],\n",
       "      dtype='object')"
      ]
     },
     "execution_count": 6,
     "metadata": {},
     "output_type": "execute_result"
    }
   ],
   "source": [
    "J.columns"
   ]
  },
  {
   "cell_type": "code",
   "execution_count": 7,
   "metadata": {
    "collapsed": true
   },
   "outputs": [],
   "source": [
    "rosetta_features = [ \n",
    "    u'total_score', u'fa_rep', u'hbond_sc', u'tot_pstat_pm', u'tot_nlpstat_pm', u'tot_burunsat_pm', u'tot_hbond_pm', u'tot_NLconts_pm', u'tot_nlsurfaceE_pm', u'tot_total_charge', u'tot_total_pos_charges', u'tot_total_neg_charges', \n",
    "    u'SR_1_total_score', u'SR_1_fa_rep', u'SR_1_hbond_sc', u'SR_1_hbond_pm', u'SR_1_burunsat_pm', u'SR_1_pstat_pm', u'SR_1_nlpstat_pm', \n",
    "    u'SR_2_total_score', u'SR_2_fa_rep', u'SR_2_hbond_sc', u'SR_2_hbond_pm', u'SR_2_burunsat_pm', u'SR_2_pstat_pm', u'SR_2_nlpstat_pm', \n",
    "    u'SR_3_total_score', u'SR_3_fa_rep', u'SR_3_hbond_sc', u'SR_3_hbond_pm', u'SR_3_burunsat_pm', u'SR_3_pstat_pm', u'SR_3_nlpstat_pm',\n",
    "    u'SR_4_total_score', u'SR_4_fa_rep', u'SR_4_hbond_sc', u'SR_4_hbond_pm', u'SR_4_burunsat_pm', u'SR_4_pstat_pm', u'SR_4_nlpstat_pm', \n",
    "    u'SR_5_total_score', u'SR_5_fa_rep', u'SR_5_hbond_sc', u'SR_5_interf_E_1_2', u'SR_5_dsasa_1_2', u'SR_5_hbond_pm', u'SR_5_burunsat_pm'\n",
    "]\n",
    "\n",
    "targets = [ 'expression', 'tm', 'kcat', 'km', 'kcatkm' ] "
   ]
  },
  {
   "cell_type": "code",
   "execution_count": 8,
   "metadata": {
    "collapsed": false
   },
   "outputs": [
    {
     "name": "stdout",
     "output_type": "stream",
     "text": [
      "mkdir: feature_sets: File exists\r\n"
     ]
    }
   ],
   "source": [
    "!mkdir feature_sets"
   ]
  },
  {
   "cell_type": "code",
   "execution_count": 9,
   "metadata": {
    "collapsed": false
   },
   "outputs": [
    {
     "name": "stdout",
     "output_type": "stream",
     "text": [
      "126 for target expression\n",
      "60 for target tm\n",
      "78 for target kcat\n",
      "78 for target km\n",
      "78 for target kcatkm\n"
     ]
    }
   ],
   "source": [
    "for target in targets:\n",
    "    \n",
    "    T = J[ rosetta_features + [ target ] ].dropna()\n",
    "    print len( T ), 'for target', target \n",
    "    \n",
    "    T.to_csv( 'feature_sets/{}_enzyme_design.csv'.format( target ) ) "
   ]
  },
  {
   "cell_type": "code",
   "execution_count": 10,
   "metadata": {
    "collapsed": false
   },
   "outputs": [
    {
     "data": {
      "text/plain": [
       "<matplotlib.axes._subplots.AxesSubplot at 0x1068c0c10>"
      ]
     },
     "execution_count": 10,
     "metadata": {},
     "output_type": "execute_result"
    },
    {
     "data": {
      "image/png": "[encoded data removed]",
      "text/plain": [
       "<matplotlib.figure.Figure at 0x1068c0690>"
      ]
     },
     "metadata": {},
     "output_type": "display_data"
    }
   ],
   "source": [
    "# binary expression class distribution \n",
    "J.expression.hist()"
   ]
  },
  {
   "cell_type": "code",
   "execution_count": 41,
   "metadata": {
    "collapsed": false
   },
   "outputs": [
    {
     "data": {
      "text/plain": [
       "<matplotlib.axes._subplots.AxesSubplot at 0x1193560d0>"
      ]
     },
     "execution_count": 41,
     "metadata": {},
     "output_type": "execute_result"
    },
    {
     "data": {
      "image/png": "[encoded data removed]",
      "text/plain": [
       "<matplotlib.figure.Figure at 0x119454150>"
      ]
     },
     "metadata": {},
     "output_type": "display_data"
    }
   ],
   "source": [
    "# new things to predict\n",
    "# assign two classes: 0=deterimental, 1=beneficial \n",
    " \n",
    "class1 = []\n",
    "for idx, row in J.iterrows():\n",
    "    if row.expression == 0 or row.tm < 38.9:\n",
    "        class1.append( 0 ) \n",
    "    elif row.expression == 1 and row.tm >= 39.9:\n",
    "        class1.append( 1 ) \n",
    "    else:\n",
    "        class1.append( nan )\n",
    "        \n",
    "J[ 'class1' ] = class1 \n",
    "J.class1.hist()"
   ]
  },
  {
   "cell_type": "code",
   "execution_count": 46,
   "metadata": {
    "collapsed": false
   },
   "outputs": [
    {
     "data": {
      "text/plain": [
       "<matplotlib.axes._subplots.AxesSubplot at 0x11962de10>"
      ]
     },
     "execution_count": 46,
     "metadata": {},
     "output_type": "execute_result"
    },
    {
     "data": {
      "image/png": "[encoded data removed]",
      "text/plain": [
       "<matplotlib.figure.Figure at 0x119902f10>"
      ]
     },
     "metadata": {},
     "output_type": "display_data"
    }
   ],
   "source": [
    "# assign three classes: \n",
    "#   0=detrimental (not expressed or dTm < 1)\n",
    "#   1=neutral (-1 < dTm < 1)\n",
    "#   2=beneficial dTm > 1 \n",
    "\n",
    "class1 = []\n",
    "for idx, row in J.iterrows():\n",
    "    if row.expression == 0 or row.tm < 38.9:\n",
    "        class1.append( 0 ) \n",
    "    elif 38.9 <= row.tm <= 40.9:\n",
    "        class1.append( 1 ) \n",
    "    elif row.tm > 40.9:\n",
    "        class1.append( 2 ) \n",
    "    else:\n",
    "        class1.append( nan )\n",
    "        \n",
    "J[ 'class1' ] = class1 \n",
    "J.class1.hist()"
   ]
  },
  {
   "cell_type": "code",
   "execution_count": null,
   "metadata": {
    "collapsed": true
   },
   "outputs": [],
   "source": []
  }
 ],
 "metadata": {
  "kernelspec": {
   "display_name": "Python 2",
   "language": "python",
   "name": "python2"
  },
  "language_info": {
   "codemirror_mode": {
    "name": "ipython",
    "version": 2
   },
   "file_extension": ".py",
   "mimetype": "text/x-python",
   "name": "python",
   "nbconvert_exporter": "python",
   "pygments_lexer": "ipython2",
   "version": "2.7.11"
  }
 },
 "nbformat": 4,
 "nbformat_minor": 0
}
