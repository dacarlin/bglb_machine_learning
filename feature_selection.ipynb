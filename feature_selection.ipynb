{
 "cells": [
  {
   "cell_type": "code",
   "execution_count": 1,
   "metadata": {
    "collapsed": true
   },
   "outputs": [],
   "source": [
    "# let's extract features that can help us make a better model "
   ]
  },
  {
   "cell_type": "code",
   "execution_count": 2,
   "metadata": {
    "collapsed": true
   },
   "outputs": [],
   "source": [
    "%matplotlib inline \n",
    "import matplotlib.pyplot as plt \n",
    "plt.style.use( 'bmh' ) "
   ]
  },
  {
   "cell_type": "code",
   "execution_count": 3,
   "metadata": {
    "collapsed": true
   },
   "outputs": [],
   "source": [
    "import pyrosetta \n",
    "import rosetta \n",
    "import pandas \n",
    "import numpy as np \n",
    "from sklearn import linear_model, cross_validation, metrics, feature_selection, preprocessing "
   ]
  },
  {
   "cell_type": "code",
   "execution_count": 4,
   "metadata": {
    "collapsed": false
   },
   "outputs": [
    {
     "data": {
      "text/plain": [
       "(75, 1)"
      ]
     },
     "execution_count": 4,
     "metadata": {},
     "output_type": "execute_result"
    }
   ],
   "source": [
    "targets = pandas.read_csv( '/Users/alex/Documents/bagel-thermal/data_set/targets.csv', index_col=0 ) \n",
    "targets = targets[['target_kcat']].dropna().drop( 'BglB' ) \n",
    "targets.shape"
   ]
  },
  {
   "cell_type": "code",
   "execution_count": 5,
   "metadata": {
    "collapsed": false
   },
   "outputs": [
    {
     "data": {
      "text/html": [
       "<div>\n",
       "<table border=\"1\" class=\"dataframe\">\n",
       "  <thead>\n",
       "    <tr style=\"text-align: right;\">\n",
       "      <th></th>\n",
       "      <th>target_kcat</th>\n",
       "    </tr>\n",
       "    <tr>\n",
       "      <th>mutant</th>\n",
       "      <th></th>\n",
       "    </tr>\n",
       "  </thead>\n",
       "  <tbody>\n",
       "    <tr>\n",
       "      <th>F415A</th>\n",
       "      <td>-2.944483</td>\n",
       "    </tr>\n",
       "    <tr>\n",
       "      <th>N220H</th>\n",
       "      <td>-0.854578</td>\n",
       "    </tr>\n",
       "    <tr>\n",
       "      <th>N404A</th>\n",
       "      <td>-2.342423</td>\n",
       "    </tr>\n",
       "    <tr>\n",
       "      <th>L171A</th>\n",
       "      <td>-0.037609</td>\n",
       "    </tr>\n",
       "    <tr>\n",
       "      <th>S298E</th>\n",
       "      <td>-0.036534</td>\n",
       "    </tr>\n",
       "  </tbody>\n",
       "</table>\n",
       "</div>"
      ],
      "text/plain": [
       "        target_kcat\n",
       "mutant             \n",
       "F415A     -2.944483\n",
       "N220H     -0.854578\n",
       "N404A     -2.342423\n",
       "L171A     -0.037609\n",
       "S298E     -0.036534"
      ]
     },
     "execution_count": 5,
     "metadata": {},
     "output_type": "execute_result"
    }
   ],
   "source": [
    "targets.sample( 5 ) "
   ]
  },
  {
   "cell_type": "code",
   "execution_count": 6,
   "metadata": {
    "collapsed": false
   },
   "outputs": [
    {
     "name": "stdout",
     "output_type": "stream",
     "text": [
      "Found rosetta database at: /usr/local/bin/anaconda3/lib/python3.5/site-packages/pyrosetta-4.0-py3.5.egg/database; using it....\n",
      "PyRosetta-4 2016 [Rosetta 2016 unknown:7862c3a14bb5e8d6b2a4c3e0a497795bc06e9e4b 2016-12-13 14:39:52 -0500] retrieved from: git@github.com:RosettaCommons/main.git\n",
      "(C) Copyright Rosetta Commons Member Institutions.\n",
      "Created in JHU by Sergey Lyskov and PyRosetta Team.\n",
      "\n"
     ]
    }
   ],
   "source": [
    "pyrosetta.init( '-beta -extra_res_fa reference_files/pNPG.params' )"
   ]
  },
  {
   "cell_type": "code",
   "execution_count": 7,
   "metadata": {
    "collapsed": true
   },
   "outputs": [],
   "source": [
    "fmt = dict( zip( 'ANDRCQEGHILKMPFSTWYV', [\n",
    "    'ALA','ASN','ASP','ARG','CYS','GLN','GLU',\n",
    "    'GLY','HIS','ILE','LEU','LYS','MET','PRO','PHE','SER',\n",
    "    'THR','TRP','TYR','VAL' ] ) )"
   ]
  },
  {
   "cell_type": "code",
   "execution_count": 8,
   "metadata": {
    "collapsed": false,
    "scrolled": false
   },
   "outputs": [],
   "source": [
    "def generate_big_features( mutant_name ):\n",
    "    \n",
    "    target = int(mutant_name[1:-1])\n",
    "    new_res = fmt[mutant_name[-1]]\n",
    "\n",
    "    p = pyrosetta.pose_from_file( 'reference_files/bglb.pdb' ) \n",
    "    s = pyrosetta.create_score_function( 'beta_cst' ) \n",
    "    s(p)\n",
    "    score_types = s.get_nonzero_weighted_scoretypes()\n",
    "    \n",
    "    # run protocol \n",
    "    mut = rosetta.protocols.simple_moves.MutateResidue( target, new_res ) \n",
    "    mut.apply( p ) \n",
    "    \n",
    "    # score, and then collect scores\n",
    "    s(p)\n",
    "    f_names = []\n",
    "    f_vals = []\n",
    "    energies = p.energies()\n",
    "    for i in range( 1, p.total_residue() + 1 ):\n",
    "        res_energies = energies.residue_total_energies( i )\n",
    "        for st in score_types:\n",
    "            nm = rosetta.core.scoring.name_from_score_type( st ) \n",
    "            f_names.append( nm ) \n",
    "            f_vals.append( res_energies.get( st ) ) \n",
    "            \n",
    "    return f_names, f_vals "
   ]
  },
  {
   "cell_type": "code",
   "execution_count": 9,
   "metadata": {
    "collapsed": false,
    "scrolled": false
   },
   "outputs": [],
   "source": [
    "df = pandas.DataFrame( columns=range( 14272 ) ) \n",
    "for m in targets.index:\n",
    "    names, vals = generate_big_features( m ) \n",
    "    df.loc[ m ] = vals "
   ]
  },
  {
   "cell_type": "code",
   "execution_count": 10,
   "metadata": {
    "collapsed": false
   },
   "outputs": [
    {
     "data": {
      "text/plain": [
       "(75, 14272)"
      ]
     },
     "execution_count": 10,
     "metadata": {},
     "output_type": "execute_result"
    }
   ],
   "source": [
    "df.shape"
   ]
  },
  {
   "cell_type": "code",
   "execution_count": 11,
   "metadata": {
    "collapsed": false
   },
   "outputs": [
    {
     "data": {
      "text/plain": [
       "(75, 14273)"
      ]
     },
     "execution_count": 11,
     "metadata": {},
     "output_type": "execute_result"
    }
   ],
   "source": [
    "#for tar in [ 'kcat', 'km', 'kcatkm', 'tm' ]:\n",
    "\n",
    "T = targets.join( df ) \n",
    "T.shape"
   ]
  },
  {
   "cell_type": "code",
   "execution_count": 12,
   "metadata": {
    "collapsed": true
   },
   "outputs": [],
   "source": [
    "X = T.ix[:,1:]\n",
    "y = T.ix[:,0].ravel()"
   ]
  },
  {
   "cell_type": "code",
   "execution_count": 13,
   "metadata": {
    "collapsed": false
   },
   "outputs": [
    {
     "data": {
      "text/plain": [
       "(75, 14272)"
      ]
     },
     "execution_count": 13,
     "metadata": {},
     "output_type": "execute_result"
    }
   ],
   "source": [
    "X.shape"
   ]
  },
  {
   "cell_type": "code",
   "execution_count": 14,
   "metadata": {
    "collapsed": false
   },
   "outputs": [
    {
     "data": {
      "text/plain": [
       "(75,)"
      ]
     },
     "execution_count": 14,
     "metadata": {},
     "output_type": "execute_result"
    }
   ],
   "source": [
    "y.shape"
   ]
  },
  {
   "cell_type": "code",
   "execution_count": 20,
   "metadata": {
    "collapsed": false
   },
   "outputs": [
    {
     "data": {
      "text/plain": [
       "(75, 93)"
      ]
     },
     "execution_count": 20,
     "metadata": {},
     "output_type": "execute_result"
    }
   ],
   "source": [
    "var = feature_selection.VarianceThreshold( 0.5 ) \n",
    "scl = preprocessing.RobustScaler()\n",
    "trans = scl.fit_transform(var.fit_transform( X ))\n",
    "trans.shape"
   ]
  },
  {
   "cell_type": "code",
   "execution_count": 25,
   "metadata": {
    "collapsed": false
   },
   "outputs": [
    {
     "data": {
      "text/plain": [
       "<matplotlib.text.Text at 0x12f0ffb70>"
      ]
     },
     "execution_count": 25,
     "metadata": {},
     "output_type": "execute_result"
    },
    {
     "data": {
      "image/png": "[encoded data removed]",
      "text/plain": [
       "<matplotlib.figure.Figure at 0x1360ceb38>"
      ]
     },
     "metadata": {},
     "output_type": "display_data"
    }
   ],
   "source": [
    "plt.scatter( y, y )\n",
    "plt.xlabel( 'True' ) \n",
    "plt.ylabel( 'True' ) "
   ]
  },
  {
   "cell_type": "code",
   "execution_count": 44,
   "metadata": {
    "collapsed": false
   },
   "outputs": [],
   "source": [
    "clf = linear_model.ElasticNetCV( max_iter=1e9, selection='random', cv=3 )\n",
    "preds = cross_validation.cross_val_predict( clf, trans, y, cv=10 )  "
   ]
  },
  {
   "cell_type": "code",
   "execution_count": 47,
   "metadata": {
    "collapsed": false
   },
   "outputs": [
    {
     "data": {
      "text/plain": [
       "<matplotlib.text.Text at 0x1443b2b00>"
      ]
     },
     "execution_count": 47,
     "metadata": {},
     "output_type": "execute_result"
    },
    {
     "data": {
      "image/png": "[encoded data removed]",
      "text/plain": [
       "<matplotlib.figure.Figure at 0x1443b75c0>"
      ]
     },
     "metadata": {},
     "output_type": "display_data"
    }
   ],
   "source": [
    "plt.scatter( y, y )\n",
    "plt.scatter( y, preds, color='red' ) \n",
    "plt.xlabel( 'True' ) \n",
    "plt.ylabel( 'Pred' ) "
   ]
  },
  {
   "cell_type": "code",
   "execution_count": null,
   "metadata": {
    "collapsed": true
   },
   "outputs": [],
   "source": []
  }
 ],
 "metadata": {
  "anaconda-cloud": {},
  "kernelspec": {
   "display_name": "Python [conda root]",
   "language": "python",
   "name": "conda-root-py"
  },
  "language_info": {
   "codemirror_mode": {
    "name": "ipython",
    "version": 3
   },
   "file_extension": ".py",
   "mimetype": "text/x-python",
   "name": "python",
   "nbconvert_exporter": "python",
   "pygments_lexer": "ipython3",
   "version": "3.5.2"
  }
 },
 "nbformat": 4,
 "nbformat_minor": 1
}
