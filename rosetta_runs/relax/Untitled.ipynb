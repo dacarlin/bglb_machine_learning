{
 "cells": [
  {
   "cell_type": "code",
   "execution_count": 9,
   "metadata": {
    "collapsed": false
   },
   "outputs": [],
   "source": [
    "import pandas \n",
    "\n",
    "df = pandas.read_csv( 'out/score.sc', sep='\\s+' ) \n",
    "lowest_10 = list( df.sort_values( 'total_score' ).head(10).description )"
   ]
  },
  {
   "cell_type": "code",
   "execution_count": 12,
   "metadata": {
    "collapsed": false
   },
   "outputs": [
    {
     "name": "stdout",
     "output_type": "stream",
     "text": [
      "tar -cvz lowest_10.tar 2JIE_0175.pdb 2JIE_0194.pdb 2JIE_0603.pdb 2JIE_0361.pdb 2JIE_0016.pdb 2JIE_0416.pdb 2JIE_0212.pdb 2JIE_0138.pdb 2JIE_0428.pdb 2JIE_0577.pdb\n"
     ]
    }
   ],
   "source": [
    "my_list = [ '{}.pdb'.format( i ) for i in lowest_10 ] \n",
    "print 'tar -cvz lowest_10.tar', ' '.join( my_list ) "
   ]
  },
  {
   "cell_type": "code",
   "execution_count": null,
   "metadata": {
    "collapsed": true
   },
   "outputs": [],
   "source": []
  }
 ],
 "metadata": {
  "kernelspec": {
   "display_name": "Python 2",
   "language": "python",
   "name": "python2"
  },
  "language_info": {
   "codemirror_mode": {
    "name": "ipython",
    "version": 2
   },
   "file_extension": ".py",
   "mimetype": "text/x-python",
   "name": "python",
   "nbconvert_exporter": "python",
   "pygments_lexer": "ipython2",
   "version": "2.7.11"
  }
 },
 "nbformat": 4,
 "nbformat_minor": 0
}
