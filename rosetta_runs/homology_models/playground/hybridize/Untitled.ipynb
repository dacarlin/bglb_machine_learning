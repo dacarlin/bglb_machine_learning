{
 "cells": [
  {
   "cell_type": "code",
   "execution_count": 20,
   "metadata": {
    "collapsed": true
   },
   "outputs": [],
   "source": [
    "import pandas \n",
    "from matplotlib import cm\n",
    "%matplotlib inline"
   ]
  },
  {
   "cell_type": "code",
   "execution_count": 28,
   "metadata": {
    "collapsed": false
   },
   "outputs": [
    {
     "data": {
      "text/plain": [
       "19   -247.860\n",
       "63   -246.431\n",
       "72   -243.874\n",
       "6    -243.228\n",
       "78   -242.951\n",
       "99   -242.666\n",
       "22   -242.326\n",
       "34   -241.084\n",
       "33   -238.235\n",
       "50   -236.953\n",
       "Name: total_score, dtype: float64"
      ]
     },
     "execution_count": 28,
     "metadata": {},
     "output_type": "execute_result"
    }
   ],
   "source": [
    "df = pandas.read_csv( 'score.sc', sep='\\s+' )\n",
    "low_10 = df.sort_values( 'total_score' ).head( 10 ) \n",
    "low_10.total_score\n",
    "#cm.Greys( low_10.total_score )"
   ]
  },
  {
   "cell_type": "code",
   "execution_count": 32,
   "metadata": {
    "collapsed": false
   },
   "outputs": [
    {
     "name": "stdout",
     "output_type": "stream",
     "text": [
      "cd /Users/alex/Documents/angie/hybridize/;\n",
      "load ../partial_thread/2o3kA.pdb;\n",
      "load S_0020.pdb; super S_0020, 2o3kA;\n",
      "load S_0064.pdb; super S_0064, 2o3kA;\n",
      "load S_0073.pdb; super S_0073, 2o3kA;\n",
      "load S_0007.pdb; super S_0007, 2o3kA;\n",
      "load S_0079.pdb; super S_0079, 2o3kA;\n",
      "load S_0100.pdb; super S_0100, 2o3kA;\n",
      "load S_0023.pdb; super S_0023, 2o3kA;\n",
      "load S_0035.pdb; super S_0035, 2o3kA;\n",
      "load S_0034.pdb; super S_0034, 2o3kA;\n",
      "load S_0051.pdb; super S_0051, 2o3kA;\n"
     ]
    }
   ],
   "source": [
    "print 'cd /Users/alex/Documents/angie/hybridize/;'\n",
    "print 'load ../partial_thread/2o3kA.pdb;'\n",
    "for idx, row in low10.iterrows():\n",
    "    print 'load {0}.pdb; super {0}, 2o3kA;'.format( row.description )"
   ]
  },
  {
   "cell_type": "code",
   "execution_count": null,
   "metadata": {
    "collapsed": true
   },
   "outputs": [],
   "source": []
  }
 ],
 "metadata": {
  "kernelspec": {
   "display_name": "Python 2",
   "language": "python",
   "name": "python2"
  },
  "language_info": {
   "codemirror_mode": {
    "name": "ipython",
    "version": 2
   },
   "file_extension": ".py",
   "mimetype": "text/x-python",
   "name": "python",
   "nbconvert_exporter": "python",
   "pygments_lexer": "ipython2",
   "version": "2.7.11"
  }
 },
 "nbformat": 4,
 "nbformat_minor": 0
}
