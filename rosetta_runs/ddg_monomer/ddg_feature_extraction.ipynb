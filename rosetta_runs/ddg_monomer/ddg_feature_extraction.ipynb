{
 "cells": [
  {
   "cell_type": "code",
   "execution_count": 8,
   "metadata": {
    "collapsed": true
   },
   "outputs": [],
   "source": [
    "# extract features from raw Rosetta ddg_monomer output "
   ]
  },
  {
   "cell_type": "code",
   "execution_count": 1,
   "metadata": {
    "collapsed": false
   },
   "outputs": [
    {
     "data": {
      "text/plain": [
       "Index([u'ddG:', u'description', u'total', u'fa_atr', u'fa_rep', u'fa_sol',\n",
       "       u'fa_intra_rep', u'fa_elec', u'pro_close', u'hbond_sr_bb',\n",
       "       u'hbond_lr_bb', u'hbond_bb_sc', u'hbond_sc', u'dslf_fa13', u'rama',\n",
       "       u'omega', u'fa_dun', u'p_aa_pp', u'yhh_planarity', u'ref'],\n",
       "      dtype='object')"
      ]
     },
     "execution_count": 1,
     "metadata": {},
     "output_type": "execute_result"
    }
   ],
   "source": [
    "import pandas \n",
    "\n",
    "df = pandas.read_csv( 'ddg_predictions.out', sep='\\s+' )\n",
    "df = df[ ( df.description != 'description' ) ] \n",
    "df.index = df.description\n",
    "\n",
    "df.columns"
   ]
  },
  {
   "cell_type": "code",
   "execution_count": 2,
   "metadata": {
    "collapsed": true
   },
   "outputs": [],
   "source": [
    "features = [ \n",
    "    u'total', u'fa_atr', u'fa_rep', u'fa_sol',\n",
    "    u'fa_intra_rep', u'fa_elec', u'pro_close', u'hbond_bb_sc', u'hbond_sc', u'rama',\n",
    "    u'omega', u'fa_dun', u'p_aa_pp', u'yhh_planarity' \n",
    "]"
   ]
  },
  {
   "cell_type": "code",
   "execution_count": 3,
   "metadata": {
    "collapsed": true
   },
   "outputs": [],
   "source": [
    "df[ features ].to_csv( 'ddg_feature_set.csv' ) "
   ]
  },
  {
   "cell_type": "code",
   "execution_count": 7,
   "metadata": {
    "collapsed": true
   },
   "outputs": [],
   "source": [
    "# join with experimental data "
   ]
  },
  {
   "cell_type": "code",
   "execution_count": 13,
   "metadata": {
    "collapsed": false,
    "scrolled": false
   },
   "outputs": [],
   "source": [
    "df = pandas.read_csv( 'ddg_feature_set.csv', index_col=0 ) \n",
    "ex = pandas.read_csv( '../../data_sets/experimental/thermo_paper_data_set.csv', index_col=0 )\n",
    "\n",
    "targets = [ 'expression', 'tm', 'kcat', 'km', 'kcatkm' ]\n",
    "J = ex.join( df )\n",
    "\n",
    "for target in targets:\n",
    "    my_df = J[ features + [ target ] ].dropna()\n",
    "    my_df.to_csv( '../../machine_learning/feature_sets/{}_ddg.csv'.format( target ) )"
   ]
  }
 ],
 "metadata": {
  "kernelspec": {
   "display_name": "Python 2",
   "language": "python",
   "name": "python2"
  },
  "language_info": {
   "codemirror_mode": {
    "name": "ipython",
    "version": 2
   },
   "file_extension": ".py",
   "mimetype": "text/x-python",
   "name": "python",
   "nbconvert_exporter": "python",
   "pygments_lexer": "ipython2",
   "version": "2.7.11"
  }
 },
 "nbformat": 4,
 "nbformat_minor": 0
}
