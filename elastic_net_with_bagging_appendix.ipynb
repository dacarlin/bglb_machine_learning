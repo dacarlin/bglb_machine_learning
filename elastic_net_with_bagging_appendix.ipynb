{
 "cells": [
  {
   "cell_type": "code",
   "execution_count": 1,
   "metadata": {
    "collapsed": true
   },
   "outputs": [],
   "source": [
    "%matplotlib inline\n",
    "\n",
    "import matplotlib.pyplot as plt \n",
    "from sklearn import preprocessing, pipeline, ensemble, linear_model, model_selection\n",
    "import pandas \n",
    "import numpy as np "
   ]
  },
  {
   "cell_type": "code",
   "execution_count": 2,
   "metadata": {
    "collapsed": false
   },
   "outputs": [
    {
     "data": {
      "text/html": [
       "<div>\n",
       "<table border=\"1\" class=\"dataframe\">\n",
       "  <thead>\n",
       "    <tr style=\"text-align: right;\">\n",
       "      <th></th>\n",
       "      <th>kcat</th>\n",
       "      <th>km</th>\n",
       "      <th>kcatkm</th>\n",
       "      <th>active</th>\n",
       "    </tr>\n",
       "    <tr>\n",
       "      <th>mutant_name</th>\n",
       "      <th></th>\n",
       "      <th></th>\n",
       "      <th></th>\n",
       "      <th></th>\n",
       "    </tr>\n",
       "  </thead>\n",
       "  <tbody>\n",
       "    <tr>\n",
       "      <th>N163D</th>\n",
       "      <td>-1.865301</td>\n",
       "      <td>0.482588</td>\n",
       "      <td>-2.343472</td>\n",
       "      <td>0</td>\n",
       "    </tr>\n",
       "    <tr>\n",
       "      <th>Q313R</th>\n",
       "      <td>-0.106263</td>\n",
       "      <td>-0.145087</td>\n",
       "      <td>0.043595</td>\n",
       "      <td>1</td>\n",
       "    </tr>\n",
       "  </tbody>\n",
       "</table>\n",
       "</div>"
      ],
      "text/plain": [
       "                 kcat        km    kcatkm  active\n",
       "mutant_name                                      \n",
       "N163D       -1.865301  0.482588 -2.343472       0\n",
       "Q313R       -0.106263 -0.145087  0.043595       1"
      ]
     },
     "execution_count": 2,
     "metadata": {},
     "output_type": "execute_result"
    }
   ],
   "source": [
    "data_set = pandas.read_csv( '/Users/alex/Documents/bglb_data_set/raw_files/joined.csv', index_col=0 )\n",
    "data_set = data_set.set_index( 'mutant_name' ) \n",
    "\n",
    "# log and relative to WT BglB \n",
    "data_set[ 'active' ] = [ 1 if k > 50000 else 0 for k in data_set.kcatkm ] \n",
    "data_set[ 'kcat' ] = data_set[ 'kcat' ].map( lambda x: np.log10( x/880.0 ) )\n",
    "data_set[ 'km' ] = data_set[ 'km' ].map( lambda x: np.log10( x/5.00 ) )\n",
    "data_set[ 'kcatkm' ] = data_set[ 'kcatkm' ].map( lambda x: np.log10( x/174000 ) )\n",
    "\n",
    "data_set.sample( 2 ) "
   ]
  },
  {
   "cell_type": "code",
   "execution_count": 3,
   "metadata": {
    "collapsed": false
   },
   "outputs": [
    {
     "data": {
      "text/plain": [
       "array([[<matplotlib.axes._subplots.AxesSubplot object at 0x104947e48>,\n",
       "        <matplotlib.axes._subplots.AxesSubplot object at 0x1129f8630>],\n",
       "       [<matplotlib.axes._subplots.AxesSubplot object at 0x112a4e518>,\n",
       "        <matplotlib.axes._subplots.AxesSubplot object at 0x112a0dc88>]], dtype=object)"
      ]
     },
     "execution_count": 3,
     "metadata": {},
     "output_type": "execute_result"
    },
    {
     "data": {
      "image/png": "[encoded data removed]",
      "text/plain": [
       "<matplotlib.figure.Figure at 0x10f668ac8>"
      ]
     },
     "metadata": {},
     "output_type": "display_data"
    }
   ],
   "source": [
    "data_set.hist()"
   ]
  },
  {
   "cell_type": "code",
   "execution_count": 4,
   "metadata": {
    "collapsed": false
   },
   "outputs": [
    {
     "data": {
      "text/plain": [
       "(209, 59)"
      ]
     },
     "execution_count": 4,
     "metadata": {},
     "output_type": "execute_result"
    }
   ],
   "source": [
    "feature_set = pandas.read_csv( 'feature_sets/rosetta_runs__benchmark.csv', index_col=0 )\n",
    "feature_set.shape"
   ]
  },
  {
   "cell_type": "code",
   "execution_count": 5,
   "metadata": {
    "collapsed": false
   },
   "outputs": [],
   "source": [
    "J = data_set.join( feature_set ).dropna()"
   ]
  },
  {
   "cell_type": "code",
   "execution_count": 6,
   "metadata": {
    "collapsed": true
   },
   "outputs": [],
   "source": [
    "targets = ['kcat', 'km', 'kcatkm']"
   ]
  },
  {
   "cell_type": "code",
   "execution_count": 7,
   "metadata": {
    "collapsed": false,
    "scrolled": false
   },
   "outputs": [
    {
     "data": {
      "text/html": [
       "<div>\n",
       "<table border=\"1\" class=\"dataframe\">\n",
       "  <thead>\n",
       "    <tr style=\"text-align: right;\">\n",
       "      <th></th>\n",
       "      <th>kcat</th>\n",
       "      <th>km</th>\n",
       "      <th>kcatkm</th>\n",
       "    </tr>\n",
       "  </thead>\n",
       "  <tbody>\n",
       "    <tr>\n",
       "      <th>active</th>\n",
       "      <td>0.694607</td>\n",
       "      <td>-0.431788</td>\n",
       "      <td>0.734035</td>\n",
       "    </tr>\n",
       "    <tr>\n",
       "      <th>total_score</th>\n",
       "      <td>-0.177136</td>\n",
       "      <td>0.105108</td>\n",
       "      <td>-0.203251</td>\n",
       "    </tr>\n",
       "    <tr>\n",
       "      <th>fa_rep</th>\n",
       "      <td>0.180575</td>\n",
       "      <td>0.005053</td>\n",
       "      <td>0.159360</td>\n",
       "    </tr>\n",
       "    <tr>\n",
       "      <th>hbond_sc</th>\n",
       "      <td>-0.146597</td>\n",
       "      <td>0.009623</td>\n",
       "      <td>-0.143175</td>\n",
       "    </tr>\n",
       "    <tr>\n",
       "      <th>tot_pstat_pm</th>\n",
       "      <td>-0.050197</td>\n",
       "      <td>0.022089</td>\n",
       "      <td>-0.048925</td>\n",
       "    </tr>\n",
       "    <tr>\n",
       "      <th>tot_nlpstat_pm</th>\n",
       "      <td>0.243574</td>\n",
       "      <td>-0.028511</td>\n",
       "      <td>0.200905</td>\n",
       "    </tr>\n",
       "    <tr>\n",
       "      <th>tot_burunsat_pm</th>\n",
       "      <td>-0.106578</td>\n",
       "      <td>0.090587</td>\n",
       "      <td>-0.114822</td>\n",
       "    </tr>\n",
       "    <tr>\n",
       "      <th>tot_hbond_pm</th>\n",
       "      <td>0.270321</td>\n",
       "      <td>-0.106576</td>\n",
       "      <td>0.274448</td>\n",
       "    </tr>\n",
       "    <tr>\n",
       "      <th>tot_NLconts_pm</th>\n",
       "      <td>0.030201</td>\n",
       "      <td>-0.018045</td>\n",
       "      <td>0.027651</td>\n",
       "    </tr>\n",
       "    <tr>\n",
       "      <th>tot_nlsurfaceE_pm</th>\n",
       "      <td>-0.046820</td>\n",
       "      <td>-0.011178</td>\n",
       "      <td>-0.038721</td>\n",
       "    </tr>\n",
       "    <tr>\n",
       "      <th>SR_1_total_score</th>\n",
       "      <td>-0.094814</td>\n",
       "      <td>0.227306</td>\n",
       "      <td>-0.169269</td>\n",
       "    </tr>\n",
       "    <tr>\n",
       "      <th>SR_1_fa_rep</th>\n",
       "      <td>-0.163867</td>\n",
       "      <td>0.078471</td>\n",
       "      <td>-0.170434</td>\n",
       "    </tr>\n",
       "    <tr>\n",
       "      <th>SR_1_hbond_sc</th>\n",
       "      <td>-0.015647</td>\n",
       "      <td>0.136292</td>\n",
       "      <td>-0.073345</td>\n",
       "    </tr>\n",
       "    <tr>\n",
       "      <th>SR_1_all_cst</th>\n",
       "      <td>-0.044098</td>\n",
       "      <td>-0.009747</td>\n",
       "      <td>-0.053481</td>\n",
       "    </tr>\n",
       "    <tr>\n",
       "      <th>SR_1_hbond_pm</th>\n",
       "      <td>0.035585</td>\n",
       "      <td>-0.136616</td>\n",
       "      <td>0.089325</td>\n",
       "    </tr>\n",
       "    <tr>\n",
       "      <th>SR_1_burunsat_pm</th>\n",
       "      <td>-0.035585</td>\n",
       "      <td>0.136616</td>\n",
       "      <td>-0.089325</td>\n",
       "    </tr>\n",
       "    <tr>\n",
       "      <th>SR_1_pstat_pm</th>\n",
       "      <td>-0.066423</td>\n",
       "      <td>0.028983</td>\n",
       "      <td>-0.084503</td>\n",
       "    </tr>\n",
       "    <tr>\n",
       "      <th>SR_1_nlpstat_pm</th>\n",
       "      <td>-0.031138</td>\n",
       "      <td>-0.095109</td>\n",
       "      <td>-0.002171</td>\n",
       "    </tr>\n",
       "    <tr>\n",
       "      <th>SR_2_total_score</th>\n",
       "      <td>-0.032789</td>\n",
       "      <td>0.144553</td>\n",
       "      <td>-0.088133</td>\n",
       "    </tr>\n",
       "    <tr>\n",
       "      <th>SR_2_fa_rep</th>\n",
       "      <td>-0.018238</td>\n",
       "      <td>0.070141</td>\n",
       "      <td>-0.037512</td>\n",
       "    </tr>\n",
       "    <tr>\n",
       "      <th>SR_2_hbond_sc</th>\n",
       "      <td>-0.035775</td>\n",
       "      <td>0.035901</td>\n",
       "      <td>-0.042516</td>\n",
       "    </tr>\n",
       "    <tr>\n",
       "      <th>SR_2_all_cst</th>\n",
       "      <td>-0.015043</td>\n",
       "      <td>-0.086669</td>\n",
       "      <td>0.027374</td>\n",
       "    </tr>\n",
       "    <tr>\n",
       "      <th>SR_2_hbond_pm</th>\n",
       "      <td>0.035768</td>\n",
       "      <td>-0.099538</td>\n",
       "      <td>0.079265</td>\n",
       "    </tr>\n",
       "    <tr>\n",
       "      <th>SR_2_burunsat_pm</th>\n",
       "      <td>-0.017109</td>\n",
       "      <td>0.083914</td>\n",
       "      <td>-0.058866</td>\n",
       "    </tr>\n",
       "    <tr>\n",
       "      <th>SR_2_pstat_pm</th>\n",
       "      <td>-0.014197</td>\n",
       "      <td>0.109881</td>\n",
       "      <td>-0.071945</td>\n",
       "    </tr>\n",
       "    <tr>\n",
       "      <th>SR_2_nlpstat_pm</th>\n",
       "      <td>-0.137607</td>\n",
       "      <td>0.048663</td>\n",
       "      <td>-0.137007</td>\n",
       "    </tr>\n",
       "    <tr>\n",
       "      <th>SR_3_total_score</th>\n",
       "      <td>-0.094814</td>\n",
       "      <td>0.227306</td>\n",
       "      <td>-0.169269</td>\n",
       "    </tr>\n",
       "    <tr>\n",
       "      <th>SR_3_fa_rep</th>\n",
       "      <td>-0.163867</td>\n",
       "      <td>0.078471</td>\n",
       "      <td>-0.170434</td>\n",
       "    </tr>\n",
       "    <tr>\n",
       "      <th>SR_3_hbond_sc</th>\n",
       "      <td>-0.015647</td>\n",
       "      <td>0.136292</td>\n",
       "      <td>-0.073345</td>\n",
       "    </tr>\n",
       "    <tr>\n",
       "      <th>SR_3_all_cst</th>\n",
       "      <td>-0.044098</td>\n",
       "      <td>-0.009747</td>\n",
       "      <td>-0.053481</td>\n",
       "    </tr>\n",
       "    <tr>\n",
       "      <th>SR_3_hbond_pm</th>\n",
       "      <td>0.035585</td>\n",
       "      <td>-0.136616</td>\n",
       "      <td>0.089325</td>\n",
       "    </tr>\n",
       "    <tr>\n",
       "      <th>SR_3_burunsat_pm</th>\n",
       "      <td>-0.035585</td>\n",
       "      <td>0.136616</td>\n",
       "      <td>-0.089325</td>\n",
       "    </tr>\n",
       "    <tr>\n",
       "      <th>SR_3_pstat_pm</th>\n",
       "      <td>-0.066423</td>\n",
       "      <td>0.028983</td>\n",
       "      <td>-0.084503</td>\n",
       "    </tr>\n",
       "    <tr>\n",
       "      <th>SR_3_nlpstat_pm</th>\n",
       "      <td>-0.031138</td>\n",
       "      <td>-0.095109</td>\n",
       "      <td>-0.002171</td>\n",
       "    </tr>\n",
       "    <tr>\n",
       "      <th>SR_4_total_score</th>\n",
       "      <td>0.091456</td>\n",
       "      <td>-0.062334</td>\n",
       "      <td>0.076936</td>\n",
       "    </tr>\n",
       "    <tr>\n",
       "      <th>SR_4_fa_rep</th>\n",
       "      <td>-0.049132</td>\n",
       "      <td>0.164531</td>\n",
       "      <td>-0.103682</td>\n",
       "    </tr>\n",
       "    <tr>\n",
       "      <th>SR_4_hbond_sc</th>\n",
       "      <td>0.027030</td>\n",
       "      <td>0.052361</td>\n",
       "      <td>-0.011791</td>\n",
       "    </tr>\n",
       "    <tr>\n",
       "      <th>SR_4_hbond_pm</th>\n",
       "      <td>0.049322</td>\n",
       "      <td>-0.112520</td>\n",
       "      <td>0.090105</td>\n",
       "    </tr>\n",
       "    <tr>\n",
       "      <th>SR_4_burunsat_pm</th>\n",
       "      <td>-0.068573</td>\n",
       "      <td>-0.088835</td>\n",
       "      <td>-0.017689</td>\n",
       "    </tr>\n",
       "    <tr>\n",
       "      <th>SR_4_pstat_pm</th>\n",
       "      <td>-0.027222</td>\n",
       "      <td>-0.120541</td>\n",
       "      <td>0.015838</td>\n",
       "    </tr>\n",
       "    <tr>\n",
       "      <th>SR_4_nlpstat_pm</th>\n",
       "      <td>0.062648</td>\n",
       "      <td>-0.061743</td>\n",
       "      <td>0.058256</td>\n",
       "    </tr>\n",
       "    <tr>\n",
       "      <th>SR_5_total_score</th>\n",
       "      <td>-0.035690</td>\n",
       "      <td>0.006292</td>\n",
       "      <td>-0.037234</td>\n",
       "    </tr>\n",
       "    <tr>\n",
       "      <th>SR_5_fa_rep</th>\n",
       "      <td>-0.087973</td>\n",
       "      <td>-0.036859</td>\n",
       "      <td>-0.065822</td>\n",
       "    </tr>\n",
       "    <tr>\n",
       "      <th>SR_5_hbond_sc</th>\n",
       "      <td>-0.024301</td>\n",
       "      <td>0.013494</td>\n",
       "      <td>-0.034779</td>\n",
       "    </tr>\n",
       "    <tr>\n",
       "      <th>SR_5_all_cst</th>\n",
       "      <td>-0.092268</td>\n",
       "      <td>-0.091877</td>\n",
       "      <td>-0.049861</td>\n",
       "    </tr>\n",
       "    <tr>\n",
       "      <th>SR_5_interf_E_1_2</th>\n",
       "      <td>-0.037918</td>\n",
       "      <td>0.004687</td>\n",
       "      <td>-0.038596</td>\n",
       "    </tr>\n",
       "    <tr>\n",
       "      <th>SR_5_dsasa_1_2</th>\n",
       "      <td>-0.058488</td>\n",
       "      <td>-0.074275</td>\n",
       "      <td>-0.019927</td>\n",
       "    </tr>\n",
       "    <tr>\n",
       "      <th>SR_5_hbond_pm</th>\n",
       "      <td>0.014977</td>\n",
       "      <td>-0.081711</td>\n",
       "      <td>0.056312</td>\n",
       "    </tr>\n",
       "    <tr>\n",
       "      <th>SR_5_burunsat_pm</th>\n",
       "      <td>0.068573</td>\n",
       "      <td>0.088835</td>\n",
       "      <td>0.017689</td>\n",
       "    </tr>\n",
       "  </tbody>\n",
       "</table>\n",
       "</div>"
      ],
      "text/plain": [
       "                       kcat        km    kcatkm\n",
       "active             0.694607 -0.431788  0.734035\n",
       "total_score       -0.177136  0.105108 -0.203251\n",
       "fa_rep             0.180575  0.005053  0.159360\n",
       "hbond_sc          -0.146597  0.009623 -0.143175\n",
       "tot_pstat_pm      -0.050197  0.022089 -0.048925\n",
       "tot_nlpstat_pm     0.243574 -0.028511  0.200905\n",
       "tot_burunsat_pm   -0.106578  0.090587 -0.114822\n",
       "tot_hbond_pm       0.270321 -0.106576  0.274448\n",
       "tot_NLconts_pm     0.030201 -0.018045  0.027651\n",
       "tot_nlsurfaceE_pm -0.046820 -0.011178 -0.038721\n",
       "SR_1_total_score  -0.094814  0.227306 -0.169269\n",
       "SR_1_fa_rep       -0.163867  0.078471 -0.170434\n",
       "SR_1_hbond_sc     -0.015647  0.136292 -0.073345\n",
       "SR_1_all_cst      -0.044098 -0.009747 -0.053481\n",
       "SR_1_hbond_pm      0.035585 -0.136616  0.089325\n",
       "SR_1_burunsat_pm  -0.035585  0.136616 -0.089325\n",
       "SR_1_pstat_pm     -0.066423  0.028983 -0.084503\n",
       "SR_1_nlpstat_pm   -0.031138 -0.095109 -0.002171\n",
       "SR_2_total_score  -0.032789  0.144553 -0.088133\n",
       "SR_2_fa_rep       -0.018238  0.070141 -0.037512\n",
       "SR_2_hbond_sc     -0.035775  0.035901 -0.042516\n",
       "SR_2_all_cst      -0.015043 -0.086669  0.027374\n",
       "SR_2_hbond_pm      0.035768 -0.099538  0.079265\n",
       "SR_2_burunsat_pm  -0.017109  0.083914 -0.058866\n",
       "SR_2_pstat_pm     -0.014197  0.109881 -0.071945\n",
       "SR_2_nlpstat_pm   -0.137607  0.048663 -0.137007\n",
       "SR_3_total_score  -0.094814  0.227306 -0.169269\n",
       "SR_3_fa_rep       -0.163867  0.078471 -0.170434\n",
       "SR_3_hbond_sc     -0.015647  0.136292 -0.073345\n",
       "SR_3_all_cst      -0.044098 -0.009747 -0.053481\n",
       "SR_3_hbond_pm      0.035585 -0.136616  0.089325\n",
       "SR_3_burunsat_pm  -0.035585  0.136616 -0.089325\n",
       "SR_3_pstat_pm     -0.066423  0.028983 -0.084503\n",
       "SR_3_nlpstat_pm   -0.031138 -0.095109 -0.002171\n",
       "SR_4_total_score   0.091456 -0.062334  0.076936\n",
       "SR_4_fa_rep       -0.049132  0.164531 -0.103682\n",
       "SR_4_hbond_sc      0.027030  0.052361 -0.011791\n",
       "SR_4_hbond_pm      0.049322 -0.112520  0.090105\n",
       "SR_4_burunsat_pm  -0.068573 -0.088835 -0.017689\n",
       "SR_4_pstat_pm     -0.027222 -0.120541  0.015838\n",
       "SR_4_nlpstat_pm    0.062648 -0.061743  0.058256\n",
       "SR_5_total_score  -0.035690  0.006292 -0.037234\n",
       "SR_5_fa_rep       -0.087973 -0.036859 -0.065822\n",
       "SR_5_hbond_sc     -0.024301  0.013494 -0.034779\n",
       "SR_5_all_cst      -0.092268 -0.091877 -0.049861\n",
       "SR_5_interf_E_1_2 -0.037918  0.004687 -0.038596\n",
       "SR_5_dsasa_1_2    -0.058488 -0.074275 -0.019927\n",
       "SR_5_hbond_pm      0.014977 -0.081711  0.056312\n",
       "SR_5_burunsat_pm   0.068573  0.088835  0.017689"
      ]
     },
     "execution_count": 7,
     "metadata": {},
     "output_type": "execute_result"
    }
   ],
   "source": [
    "J.corr()[ targets ].drop( targets, axis=0 ).dropna()"
   ]
  },
  {
   "cell_type": "code",
   "execution_count": 8,
   "metadata": {
    "collapsed": false
   },
   "outputs": [
    {
     "data": {
      "text/html": [
       "<div>\n",
       "<table border=\"1\" class=\"dataframe\">\n",
       "  <thead>\n",
       "    <tr style=\"text-align: right;\">\n",
       "      <th></th>\n",
       "      <th>kcat</th>\n",
       "      <th>km</th>\n",
       "      <th>kcatkm</th>\n",
       "      <th>active</th>\n",
       "      <th>total_score</th>\n",
       "      <th>fa_rep</th>\n",
       "      <th>hbond_sc</th>\n",
       "      <th>all_cst</th>\n",
       "      <th>tot_pstat_pm</th>\n",
       "      <th>tot_nlpstat_pm</th>\n",
       "      <th>...</th>\n",
       "      <th>SR_4_nlpstat_pm</th>\n",
       "      <th>SR_5</th>\n",
       "      <th>SR_5_total_score</th>\n",
       "      <th>SR_5_fa_rep</th>\n",
       "      <th>SR_5_hbond_sc</th>\n",
       "      <th>SR_5_all_cst</th>\n",
       "      <th>SR_5_interf_E_1_2</th>\n",
       "      <th>SR_5_dsasa_1_2</th>\n",
       "      <th>SR_5_hbond_pm</th>\n",
       "      <th>SR_5_burunsat_pm</th>\n",
       "    </tr>\n",
       "  </thead>\n",
       "  <tbody>\n",
       "    <tr>\n",
       "      <th>A192S</th>\n",
       "      <td>0.031408</td>\n",
       "      <td>0.007748</td>\n",
       "      <td>0.028609</td>\n",
       "      <td>1</td>\n",
       "      <td>-690.141</td>\n",
       "      <td>286.403</td>\n",
       "      <td>-69.483</td>\n",
       "      <td>0.0</td>\n",
       "      <td>0.697</td>\n",
       "      <td>0.699</td>\n",
       "      <td>...</td>\n",
       "      <td>0.857</td>\n",
       "      <td>446.0</td>\n",
       "      <td>-4.651</td>\n",
       "      <td>1.068</td>\n",
       "      <td>-3.294</td>\n",
       "      <td>0.016</td>\n",
       "      <td>-9.3</td>\n",
       "      <td>0.902</td>\n",
       "      <td>7.0</td>\n",
       "      <td>1.0</td>\n",
       "    </tr>\n",
       "  </tbody>\n",
       "</table>\n",
       "<p>1 rows × 63 columns</p>\n",
       "</div>"
      ],
      "text/plain": [
       "           kcat        km    kcatkm  active  total_score   fa_rep  hbond_sc  \\\n",
       "A192S  0.031408  0.007748  0.028609       1     -690.141  286.403   -69.483   \n",
       "\n",
       "       all_cst  tot_pstat_pm  tot_nlpstat_pm        ...         \\\n",
       "A192S      0.0         0.697           0.699        ...          \n",
       "\n",
       "       SR_4_nlpstat_pm   SR_5  SR_5_total_score  SR_5_fa_rep  SR_5_hbond_sc  \\\n",
       "A192S            0.857  446.0            -4.651        1.068         -3.294   \n",
       "\n",
       "       SR_5_all_cst  SR_5_interf_E_1_2  SR_5_dsasa_1_2  SR_5_hbond_pm  \\\n",
       "A192S         0.016               -9.3           0.902            7.0   \n",
       "\n",
       "       SR_5_burunsat_pm  \n",
       "A192S               1.0  \n",
       "\n",
       "[1 rows x 63 columns]"
      ]
     },
     "execution_count": 8,
     "metadata": {},
     "output_type": "execute_result"
    }
   ],
   "source": [
    "J.head(1)"
   ]
  },
  {
   "cell_type": "code",
   "execution_count": 9,
   "metadata": {
    "collapsed": true
   },
   "outputs": [],
   "source": [
    "pln = pipeline.Pipeline([\n",
    "    ( 'scaler', preprocessing.MinMaxScaler() ),\n",
    "    ( 'elastic_net', ensemble.BaggingRegressor( linear_model.ElasticNetCV( cv=3, max_iter=1e9, normalize=True ) ) )\n",
    "]) "
   ]
  },
  {
   "cell_type": "code",
   "execution_count": 10,
   "metadata": {
    "collapsed": false
   },
   "outputs": [
    {
     "data": {
      "image/png": "[encoded data removed]",
      "text/plain": [
       "<matplotlib.figure.Figure at 0x10a2b4198>"
      ]
     },
     "metadata": {},
     "output_type": "display_data"
    },
    {
     "data": {
      "image/png": "[encoded data removed]",
      "text/plain": [
       "<matplotlib.figure.Figure at 0x112e12080>"
      ]
     },
     "metadata": {},
     "output_type": "display_data"
    },
    {
     "data": {
      "image/png": "[encoded data removed]",
      "text/plain": [
       "<matplotlib.figure.Figure at 0x112cbd668>"
      ]
     },
     "metadata": {},
     "output_type": "display_data"
    }
   ],
   "source": [
    "for tg in targets: \n",
    "    X = J.ix[:,5:]\n",
    "    y = J[ tg ].ravel()\n",
    "    pred = model_selection.cross_val_predict(pln, X, y, cv=3) \n",
    "    plt.scatter( y, pred ) \n",
    "    plt.xlabel( 'True' ) \n",
    "    plt.ylabel( 'Predicted' )\n",
    "    plt.ylim( plt.xlim() ) \n",
    "    plt.show()"
   ]
  },
  {
   "cell_type": "code",
   "execution_count": 11,
   "metadata": {
    "collapsed": true
   },
   "outputs": [],
   "source": [
    "from sklearn import decomposition, svm, metrics"
   ]
  },
  {
   "cell_type": "code",
   "execution_count": 12,
   "metadata": {
    "collapsed": true
   },
   "outputs": [],
   "source": [
    "X = J.ix[:,5:]\n",
    "y = J[ 'active' ].ravel()"
   ]
  },
  {
   "cell_type": "code",
   "execution_count": 13,
   "metadata": {
    "collapsed": false
   },
   "outputs": [
    {
     "data": {
      "text/plain": [
       "PCA(copy=True, iterated_power='auto', n_components=2, random_state=None,\n",
       "  svd_solver='auto', tol=0.0, whiten=False)"
      ]
     },
     "execution_count": 13,
     "metadata": {},
     "output_type": "execute_result"
    }
   ],
   "source": [
    "pca = decomposition.PCA( n_components=2 ) \n",
    "pca.fit( X, y ) "
   ]
  },
  {
   "cell_type": "code",
   "execution_count": 14,
   "metadata": {
    "collapsed": false
   },
   "outputs": [
    {
     "data": {
      "text/plain": [
       "<matplotlib.collections.PathCollection at 0x113328f60>"
      ]
     },
     "execution_count": 14,
     "metadata": {},
     "output_type": "execute_result"
    },
    {
     "data": {
      "image/png": "[encoded data removed]",
      "text/plain": [
       "<matplotlib.figure.Figure at 0x112ca6c50>"
      ]
     },
     "metadata": {},
     "output_type": "display_data"
    }
   ],
   "source": [
    "plt.scatter( *pca.components_, alpha=0.1 )"
   ]
  },
  {
   "cell_type": "code",
   "execution_count": 21,
   "metadata": {
    "collapsed": false
   },
   "outputs": [
    {
     "data": {
      "image/png": "[encoded data removed]",
      "text/plain": [
       "<matplotlib.figure.Figure at 0x1134cdfd0>"
      ]
     },
     "metadata": {},
     "output_type": "display_data"
    }
   ],
   "source": [
    "pln = pipeline.Pipeline([\n",
    "    ( 'svm', svm.SVC(C=0.1) ),\n",
    "])\n",
    "\n",
    "pred = model_selection.cross_val_predict(pln, X, y) \n",
    "\n",
    "plt.scatter( y, pred ) \n",
    "plt.xlabel( 'True' ) \n",
    "plt.ylabel( 'Predicted' )\n",
    "plt.ylim( plt.xlim() ) \n",
    "plt.show()"
   ]
  },
  {
   "cell_type": "code",
   "execution_count": 20,
   "metadata": {
    "collapsed": false
   },
   "outputs": [
    {
     "name": "stderr",
     "output_type": "stream",
     "text": [
      "/usr/local/bin/anaconda3/lib/python3.5/site-packages/sklearn/metrics/classification.py:516: RuntimeWarning: invalid value encountered in double_scalars\n",
      "  mcc = cov_ytyp / np.sqrt(var_yt * var_yp)\n"
     ]
    },
    {
     "data": {
      "text/plain": [
       "0.0"
      ]
     },
     "execution_count": 20,
     "metadata": {},
     "output_type": "execute_result"
    }
   ],
   "source": [
    "metrics.matthews_corrcoef( y, pred ) "
   ]
  },
  {
   "cell_type": "code",
   "execution_count": null,
   "metadata": {
    "collapsed": true
   },
   "outputs": [],
   "source": []
  }
 ],
 "metadata": {
  "kernelspec": {
   "display_name": "Python [conda root]",
   "language": "python",
   "name": "conda-root-py"
  },
  "language_info": {
   "codemirror_mode": {
    "name": "ipython",
    "version": 3
   },
   "file_extension": ".py",
   "mimetype": "text/x-python",
   "name": "python",
   "nbconvert_exporter": "python",
   "pygments_lexer": "ipython3",
   "version": "3.5.2"
  }
 },
 "nbformat": 4,
 "nbformat_minor": 2
}
