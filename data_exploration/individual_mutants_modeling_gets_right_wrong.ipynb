{
 "cells": [
  {
   "cell_type": "code",
   "execution_count": 11,
   "metadata": {
    "collapsed": true
   },
   "outputs": [],
   "source": [
    "%matplotlib inline\n",
    "import matplotlib.pyplot as plt \n",
    "import pandas \n",
    "from numpy import log10"
   ]
  },
  {
   "cell_type": "code",
   "execution_count": 30,
   "metadata": {
    "collapsed": false
   },
   "outputs": [
    {
     "name": "stdout",
     "output_type": "stream",
     "text": [
      "['Q19C', 'W399G', 'W399S', 'S16A', 'W325H', 'S16N', 'H178R', 'N293D', 'N293Q', 'W399R', 'W120A', 'R240D', 'N293A', 'W399C', 'Q19A', 'H315E', 'H119N', 'Y294F', 'W325L', 'W399A', 'E164G', 'Y295G', 'E164A', 'E164R', 'Y295A', 'W407A', 'W325R', 'E222Y', 'R76A', 'P329N', 'W407Q', 'W407R', 'W34A', 'W407G', 'H119E', 'F415A', 'H379T', 'F415N', 'D403A', 'R240E', 'M221A', 'E222R', 'F72H', 'I244N', 'G355A', 'M323K', 'Y166P', 'H315N', 'T296A', 'W325G', 'Y18A', 'S32L', 'D121F', 'N163K', 'A236E', 'A249E', 'Y294L', 'W407Y', 'T15A', 'T218A', 'E222H', 'T352A', 'W120H', 'R240K', 'S298E', 'N163C', 'E222K', 'E222Q', 'E406A', 'N220A', 'E222A', 'W325A', 'T175R', 'E177L', 'I300N', 'N220R', 'N220Y', 'N293C', 'L362M', 'W409Y', 'S14A', 'S17A', 'H119A', 'N163A', 'N354A', 'N404A', 'I91E', 'E177K', 'N220H', 'C167A', 'L171A', 'M323A', 'V52G', 'H101R', 'W325C', 'K341A', 'M358T', 'N404C', 'M261D', 'H178A', 'N220G', 'R240A', 'Q19S', 'E154D', 'L171R', 'E177A', 'A192S', 'S331A', 'H373R', 'H379R', 'S17E', 'W120F', 'C167Q', 'Y294A', 'Q313R', 'E406D', 'I244E', 'N163D', 'S400A', 'G12N', 'Q19P', 'N163E', 'N293K', 'T296E', 'F343S', 'W407K']\n"
     ]
    }
   ],
   "source": [
    "df = pandas.read_csv( '../machine_learning/feature_sets/expression_combined.csv', index_col=0 )\n",
    "df[ 'seq' ] = df.index.str[1:-1]\n",
    "print list( df.index )"
   ]
  },
  {
   "cell_type": "code",
   "execution_count": 35,
   "metadata": {
    "collapsed": false
   },
   "outputs": [
    {
     "data": {
      "image/png": "[encoded data removed]",
      "text/plain": [
       "<matplotlib.figure.Figure at 0x11436d950>"
      ]
     },
     "metadata": {},
     "output_type": "display_data"
    }
   ],
   "source": [
    "#my_df = df[ ( df.seq == '325' ) | ( df.seq == '120' ) ]\n",
    "my_df = df[ ( df.seq == '325' ) ]\n",
    "\n",
    "plt.figure( figsize=( 12, 4 ) )\n",
    "\n",
    "plt.subplot( 131 )\n",
    "plt.title( 'Rosetta ddG' )\n",
    "plt.barh( range( len( my_df ) ), my_df.total_ddg, align='center' )\n",
    "plt.yticks( range( len( my_df ) ), my_df.index ) \n",
    "plt.subplot( 132 )\n",
    "\n",
    "plt.title( 'RosettaDesign' )\n",
    "plt.barh( range( len( my_df ) ), 690 - ( -1 * my_df.total_score_enzyme_design ), align='center' )\n",
    "plt.yticks( range( len( my_df ) ), my_df.index ) \n",
    "plt.subplot( 133 )\n",
    "\n",
    "plt.title( 'FoldX' ) \n",
    "plt.barh( range( len( my_df ) ), my_df['total energy_foldx'], align='center' ) \n",
    "plt.yticks( range( len( my_df ) ), my_df.index ) \n",
    "\n",
    "plt.tight_layout()\n",
    "plt.show()"
   ]
  },
  {
   "cell_type": "code",
   "execution_count": null,
   "metadata": {
    "collapsed": true
   },
   "outputs": [],
   "source": []
  }
 ],
 "metadata": {
  "kernelspec": {
   "display_name": "Python 2",
   "language": "python",
   "name": "python2"
  },
  "language_info": {
   "codemirror_mode": {
    "name": "ipython",
    "version": 2
   },
   "file_extension": ".py",
   "mimetype": "text/x-python",
   "name": "python",
   "nbconvert_exporter": "python",
   "pygments_lexer": "ipython2",
   "version": "2.7.11"
  }
 },
 "nbformat": 4,
 "nbformat_minor": 0
}
